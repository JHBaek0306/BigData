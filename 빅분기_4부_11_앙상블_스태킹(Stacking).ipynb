{
  "cells": [
    {
      "cell_type": "markdown",
      "metadata": {
        "id": "view-in-github",
        "colab_type": "text"
      },
      "source": [
        "<a href=\"https://colab.research.google.com/github/JHBaek0306/BigData/blob/main/%EB%B9%85%EB%B6%84%EA%B8%B0_4%EB%B6%80_11_%EC%95%99%EC%83%81%EB%B8%94_%EC%8A%A4%ED%83%9C%ED%82%B9(Stacking).ipynb\" target=\"_parent\"><img src=\"https://colab.research.google.com/assets/colab-badge.svg\" alt=\"Open In Colab\"/></a>"
      ]
    },
    {
      "cell_type": "markdown",
      "metadata": {
        "id": "Rxf6VX9OMYhk"
      },
      "source": [
        "# Part1. 분류(Classification)"
      ]
    },
    {
      "cell_type": "markdown",
      "metadata": {
        "id": "e-Tuc46_MYhm"
      },
      "source": [
        "# 1. 분석 데이터 준비"
      ]
    },
    {
      "cell_type": "code",
      "execution_count": null,
      "metadata": {
        "id": "EWia3DjqMYhn"
      },
      "outputs": [],
      "source": [
        "import warnings\n",
        "warnings.filterwarnings(\"ignore\")\n",
        "import pandas as pd\n",
        "data1=pd.read_csv('breast-cancer-wisconsin.csv', encoding='utf-8')\n",
        "X=data1[data1.columns[1:10]]\n",
        "y=data1[[\"Class\"]]"
      ]
    },
    {
      "cell_type": "code",
      "execution_count": null,
      "metadata": {
        "id": "HHf6nJpdMYho"
      },
      "outputs": [],
      "source": [
        "from sklearn.model_selection import train_test_split\n",
        "X_train, X_test, y_train, y_test=train_test_split(X, y, stratify=y, random_state=42)"
      ]
    },
    {
      "cell_type": "code",
      "execution_count": null,
      "metadata": {
        "id": "7xR_uHvxMYho"
      },
      "outputs": [],
      "source": [
        "from sklearn.preprocessing import MinMaxScaler\n",
        "scaler=MinMaxScaler()\n",
        "scaler.fit(X_train)\n",
        "X_scaled_train=scaler.transform(X_train)\n",
        "X_scaled_test=scaler.transform(X_test)"
      ]
    },
    {
      "cell_type": "markdown",
      "metadata": {
        "id": "4CCcR7xAMYho"
      },
      "source": [
        "# 2. 모델 적용"
      ]
    },
    {
      "cell_type": "code",
      "execution_count": null,
      "metadata": {
        "id": "_txREhXEMYhp",
        "outputId": "b7b55afc-e753-4112-e472-de89121abb05"
      },
      "outputs": [
        {
          "data": {
            "text/plain": [
              "0.986328125"
            ]
          },
          "execution_count": 4,
          "metadata": {},
          "output_type": "execute_result"
        }
      ],
      "source": [
        "from sklearn.ensemble import RandomForestClassifier\n",
        "from sklearn.svm import SVC\n",
        "from sklearn.linear_model import LogisticRegression\n",
        "from sklearn.ensemble import StackingClassifier\n",
        "\n",
        "estimators = [('rf', RandomForestClassifier(n_estimators=10, random_state=42)),\n",
        "              ('svr', SVC(random_state=42))]\n",
        "model = StackingClassifier(estimators=estimators, final_estimator=LogisticRegression())\n",
        "model.fit(X_scaled_train, y_train)\n",
        "pred_train=model.predict(X_scaled_train)\n",
        "model.score(X_scaled_train, y_train)"
      ]
    },
    {
      "cell_type": "code",
      "execution_count": null,
      "metadata": {
        "id": "E7Fr71l6MYhq",
        "outputId": "799e7e07-e97c-4bb1-8df2-d6e7df8a7793"
      },
      "outputs": [
        {
          "name": "stdout",
          "output_type": "stream",
          "text": [
            "훈련데이터 오차행렬:\n",
            " [[330   3]\n",
            " [  4 175]]\n"
          ]
        }
      ],
      "source": [
        "from sklearn.metrics import confusion_matrix\n",
        "confusion_train=confusion_matrix(y_train, pred_train)\n",
        "print(\"훈련데이터 오차행렬:\\n\", confusion_train)"
      ]
    },
    {
      "cell_type": "code",
      "execution_count": null,
      "metadata": {
        "id": "C-Yi-jfiMYhq",
        "outputId": "adc70ad1-417a-4ab8-9de1-856c49f05e09"
      },
      "outputs": [
        {
          "name": "stdout",
          "output_type": "stream",
          "text": [
            "분류예측 레포트:\n",
            "               precision    recall  f1-score   support\n",
            "\n",
            "           0       0.99      0.99      0.99       333\n",
            "           1       0.98      0.98      0.98       179\n",
            "\n",
            "    accuracy                           0.99       512\n",
            "   macro avg       0.99      0.98      0.98       512\n",
            "weighted avg       0.99      0.99      0.99       512\n",
            "\n"
          ]
        }
      ],
      "source": [
        "from sklearn.metrics import classification_report\n",
        "cfreport_train=classification_report(y_train, pred_train)\n",
        "print(\"분류예측 레포트:\\n\", cfreport_train)"
      ]
    },
    {
      "cell_type": "code",
      "execution_count": null,
      "metadata": {
        "id": "0TjuPqgGMYhq",
        "outputId": "4df7bf0b-145b-4db3-8e52-398fa64c6d8f"
      },
      "outputs": [
        {
          "data": {
            "text/plain": [
              "0.9649122807017544"
            ]
          },
          "execution_count": 7,
          "metadata": {},
          "output_type": "execute_result"
        }
      ],
      "source": [
        "pred_test=model.predict(X_scaled_test)\n",
        "model.score(X_scaled_test, y_test)"
      ]
    },
    {
      "cell_type": "code",
      "execution_count": null,
      "metadata": {
        "id": "UTGcaZkcMYhr",
        "outputId": "b875fc4e-685d-41a8-dbd0-8a7c3aa29c4b"
      },
      "outputs": [
        {
          "name": "stdout",
          "output_type": "stream",
          "text": [
            "테스트데이터 오차행렬:\n",
            " [[106   5]\n",
            " [  1  59]]\n"
          ]
        }
      ],
      "source": [
        "confusion_test=confusion_matrix(y_test, pred_test)\n",
        "print(\"테스트데이터 오차행렬:\\n\", confusion_test)"
      ]
    },
    {
      "cell_type": "code",
      "execution_count": null,
      "metadata": {
        "id": "Q4IUfWV7MYhr",
        "outputId": "eebc7177-41e2-4c9e-8d2d-66ced65dd533"
      },
      "outputs": [
        {
          "name": "stdout",
          "output_type": "stream",
          "text": [
            "분류예측 레포트:\n",
            "               precision    recall  f1-score   support\n",
            "\n",
            "           0       0.99      0.95      0.97       111\n",
            "           1       0.92      0.98      0.95        60\n",
            "\n",
            "    accuracy                           0.96       171\n",
            "   macro avg       0.96      0.97      0.96       171\n",
            "weighted avg       0.97      0.96      0.97       171\n",
            "\n"
          ]
        }
      ],
      "source": [
        "from sklearn.metrics import classification_report\n",
        "cfreport_test=classification_report(y_test, pred_test)\n",
        "print(\"분류예측 레포트:\\n\", cfreport_test)"
      ]
    },
    {
      "cell_type": "markdown",
      "metadata": {
        "id": "FuUlIELwMYhr"
      },
      "source": [
        "# Part2. 회귀(Regression)"
      ]
    },
    {
      "cell_type": "markdown",
      "metadata": {
        "id": "9lu3wmCEMYhr"
      },
      "source": [
        "# 1. 분석 데이터 준비"
      ]
    },
    {
      "cell_type": "code",
      "execution_count": null,
      "metadata": {
        "id": "AK2f6iMdMYhs"
      },
      "outputs": [],
      "source": [
        "data2=pd.read_csv('house_price.csv', encoding='utf-8')\n",
        "X=data2[data2.columns[1:5]]\n",
        "y=data2[[\"house_value\"]]"
      ]
    },
    {
      "cell_type": "code",
      "execution_count": null,
      "metadata": {
        "id": "F5UBRDxoMYhs"
      },
      "outputs": [],
      "source": [
        "from sklearn.model_selection import train_test_split\n",
        "X_train, X_test, y_train, y_test=train_test_split(X, y, random_state=42)"
      ]
    },
    {
      "cell_type": "code",
      "execution_count": null,
      "metadata": {
        "id": "RGDnU9hdMYhs"
      },
      "outputs": [],
      "source": [
        "from sklearn.preprocessing import MinMaxScaler\n",
        "scaler=MinMaxScaler()\n",
        "scaler.fit(X_train)\n",
        "X_scaled_train=scaler.transform(X_train)\n",
        "X_scaled_test=scaler.transform(X_test)"
      ]
    },
    {
      "cell_type": "markdown",
      "metadata": {
        "id": "YidAuwH7MYhs"
      },
      "source": [
        "# 2. 모델적용"
      ]
    },
    {
      "cell_type": "code",
      "execution_count": null,
      "metadata": {
        "id": "NVb_7WVZMYhs",
        "outputId": "719b0818-52f7-4df4-ab3a-2b841613cbe8"
      },
      "outputs": [
        {
          "data": {
            "text/plain": [
              "0.543404932348004"
            ]
          },
          "execution_count": 13,
          "metadata": {},
          "output_type": "execute_result"
        }
      ],
      "source": [
        "from sklearn.linear_model import LinearRegression\n",
        "from sklearn.neighbors import KNeighborsRegressor\n",
        "from sklearn.ensemble import RandomForestRegressor\n",
        "from sklearn.ensemble import StackingRegressor\n",
        "estimators = [('lr', LinearRegression()),\n",
        "              ('knn', KNeighborsRegressor())]\n",
        "model = StackingRegressor(estimators=estimators,\n",
        "                          final_estimator=RandomForestRegressor(n_estimators=10, random_state=42))\n",
        "model.fit(X_scaled_train, y_train)\n",
        "pred_train=model.predict(X_scaled_train)\n",
        "model.score(X_scaled_train, y_train)"
      ]
    },
    {
      "cell_type": "code",
      "execution_count": null,
      "metadata": {
        "id": "eDXFtsLSMYht",
        "outputId": "6a030bb8-3cd5-4fdb-95c4-e7f383cc84c9"
      },
      "outputs": [
        {
          "data": {
            "text/plain": [
              "0.4781188528801523"
            ]
          },
          "execution_count": 14,
          "metadata": {},
          "output_type": "execute_result"
        }
      ],
      "source": [
        "pred_test=model.predict(X_scaled_test)\n",
        "model.score(X_scaled_test, y_test)"
      ]
    },
    {
      "cell_type": "code",
      "execution_count": null,
      "metadata": {
        "id": "p_87rzEtMYht",
        "outputId": "b2c2713c-c89b-42a3-baee-cbda32b7ce6a"
      },
      "outputs": [
        {
          "name": "stdout",
          "output_type": "stream",
          "text": [
            "훈련   데이터 RMSE: 64493.60476580374\n",
            "테스트 데이터 RMSE: 69063.45138802647\n"
          ]
        }
      ],
      "source": [
        "# RMSE (Root Mean Squared Error)\n",
        "import numpy as np\n",
        "from sklearn.metrics import mean_squared_error\n",
        "MSE_train = mean_squared_error(y_train, pred_train)\n",
        "MSE_test = mean_squared_error(y_test, pred_test)\n",
        "print(\"훈련   데이터 RMSE:\", np.sqrt(MSE_train))\n",
        "print(\"테스트 데이터 RMSE:\", np.sqrt(MSE_test))"
      ]
    },
    {
      "cell_type": "code",
      "execution_count": null,
      "metadata": {
        "id": "VtsVsIq0MYht"
      },
      "outputs": [],
      "source": []
    }
  ],
  "metadata": {
    "kernelspec": {
      "display_name": "Python 3",
      "language": "python",
      "name": "python3"
    },
    "language_info": {
      "codemirror_mode": {
        "name": "ipython",
        "version": 3
      },
      "file_extension": ".py",
      "mimetype": "text/x-python",
      "name": "python",
      "nbconvert_exporter": "python",
      "pygments_lexer": "ipython3",
      "version": "3.8.8"
    },
    "colab": {
      "provenance": [],
      "include_colab_link": true
    }
  },
  "nbformat": 4,
  "nbformat_minor": 0
}