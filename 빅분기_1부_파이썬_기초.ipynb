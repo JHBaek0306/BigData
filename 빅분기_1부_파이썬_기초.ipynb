{
  "cells": [
    {
      "cell_type": "markdown",
      "metadata": {
        "id": "view-in-github",
        "colab_type": "text"
      },
      "source": [
        "<a href=\"https://colab.research.google.com/github/JHBaek0306/BigData/blob/main/%EB%B9%85%EB%B6%84%EA%B8%B0_1%EB%B6%80_%ED%8C%8C%EC%9D%B4%EC%8D%AC_%EA%B8%B0%EC%B4%88.ipynb\" target=\"_parent\"><img src=\"https://colab.research.google.com/assets/colab-badge.svg\" alt=\"Open In Colab\"/></a>"
      ]
    },
    {
      "cell_type": "code",
      "source": [
        "from google.colab import drive\n",
        "drive.mount('/content/drive')"
      ],
      "metadata": {
        "colab": {
          "base_uri": "https://localhost:8080/"
        },
        "id": "EBijPvl4YpTM",
        "outputId": "9e453da5-45bc-461d-f746-3b4aa877c278"
      },
      "execution_count": 1,
      "outputs": [
        {
          "output_type": "stream",
          "name": "stdout",
          "text": [
            "Mounted at /content/drive\n"
          ]
        }
      ]
    },
    {
      "cell_type": "markdown",
      "metadata": {
        "id": "Q30TBhU1Xcb6"
      },
      "source": [
        "# 3. 파이썬 기초\n",
        "\n",
        "## 3-1. 파이썬 자료형"
      ]
    },
    {
      "cell_type": "markdown",
      "metadata": {
        "id": "DLB8_yZdXcb9"
      },
      "source": [
        "### 가. 숫자형(number)"
      ]
    },
    {
      "cell_type": "code",
      "execution_count": null,
      "metadata": {
        "id": "aAdUr1IHXcb-",
        "outputId": "90c7e5ee-c5b5-499c-d310-a07b0d4a680d"
      },
      "outputs": [
        {
          "data": {
            "text/plain": [
              "-0.4000000000000057"
            ]
          },
          "execution_count": 1,
          "metadata": {},
          "output_type": "execute_result"
        }
      ],
      "source": [
        "# 정수형, 실수형\n",
        "a=123\n",
        "b=-123.4\n",
        "a+b"
      ]
    },
    {
      "cell_type": "code",
      "execution_count": null,
      "metadata": {
        "id": "5svDeASdXcb_",
        "outputId": "77a5a105-4ce1-405f-dcfd-bfa36b95bf69"
      },
      "outputs": [
        {
          "data": {
            "text/plain": [
              "48"
            ]
          },
          "execution_count": 2,
          "metadata": {},
          "output_type": "execute_result"
        }
      ],
      "source": [
        "# 8진수\n",
        "c=0o34\n",
        "d=0o24\n",
        "c+d"
      ]
    },
    {
      "cell_type": "code",
      "execution_count": null,
      "metadata": {
        "id": "q7V0PKpDXccA",
        "outputId": "634bd790-56a0-4e85-88f8-f29bb916a9df"
      },
      "outputs": [
        {
          "data": {
            "text/plain": [
              "297"
            ]
          },
          "execution_count": 3,
          "metadata": {},
          "output_type": "execute_result"
        }
      ],
      "source": [
        "# 16진수\n",
        "e=0x2A\n",
        "f=0xFF\n",
        "e+f"
      ]
    },
    {
      "cell_type": "markdown",
      "metadata": {
        "id": "T1KjLK9zXccA"
      },
      "source": [
        "### 나. 문자형(String)"
      ]
    },
    {
      "cell_type": "code",
      "execution_count": null,
      "metadata": {
        "id": "nt4CKYhTXccA",
        "outputId": "035f1396-6af3-4a65-f680-97942567e7b2"
      },
      "outputs": [
        {
          "name": "stdout",
          "output_type": "stream",
          "text": [
            "WiseInCompany\n",
            "WiseInCompany\n",
            "WiseInCompany\n",
            "123\n",
            "<class 'str'>\n"
          ]
        }
      ],
      "source": [
        "# 문자열\n",
        "s='WiseInCompany'\n",
        "s1=\"WiseInCompany\"\n",
        "s2='''WiseInCompany'''\n",
        "s3=\"123\"\n",
        "print(s)\n",
        "print(s1)\n",
        "print(s2)\n",
        "print(s3)\n",
        "print(type(s3))"
      ]
    },
    {
      "cell_type": "code",
      "execution_count": null,
      "metadata": {
        "id": "ozN3nLP7XccB",
        "outputId": "ee1043cc-a1a5-4d37-fe2e-69e5ec446594"
      },
      "outputs": [
        {
          "name": "stdout",
          "output_type": "stream",
          "text": [
            "WiseInCompany\n",
            "WiseInCompanyWiseInCompany\n"
          ]
        }
      ],
      "source": [
        "# 문자열 연산하기\n",
        "a=\"Wise\"\n",
        "b=\"InCompany\"\n",
        "print(a+b)\n",
        "a=\"WiseInCompany\"\n",
        "print(a*2)"
      ]
    },
    {
      "cell_type": "code",
      "execution_count": null,
      "metadata": {
        "id": "dkjnzgroXccB",
        "outputId": "a68337be-dea9-4c53-ed58-ea4b9e665eee"
      },
      "outputs": [
        {
          "name": "stdout",
          "output_type": "stream",
          "text": [
            "e\n",
            "a\n",
            "Wise In Company\n",
            " In Company\n",
            "Wise\n"
          ]
        }
      ],
      "source": [
        "# 문자열 인덱싱 및 슬라이싱\n",
        "a=\"Wise In Company\"\n",
        "print(a[3])\n",
        "print(a[-3])\n",
        "print(a[0:15])\n",
        "print(a[4:])\n",
        "print(a[0:4])"
      ]
    },
    {
      "cell_type": "markdown",
      "metadata": {
        "id": "ndgEW-eKXccB"
      },
      "source": [
        "### 다. 리스트(List)"
      ]
    },
    {
      "cell_type": "code",
      "execution_count": null,
      "metadata": {
        "id": "c6Z-wAkeXccC",
        "outputId": "3d7d4431-6fa2-4fca-c638-892a982ca4de"
      },
      "outputs": [
        {
          "name": "stdout",
          "output_type": "stream",
          "text": [
            "[1, 2, 3, 4, 5]\n",
            "1\n",
            "5\n",
            "[1, 2, 3, 4, 5]\n",
            "[1, 2, 3, 4, 5]\n",
            "[3, 4, 5]\n"
          ]
        }
      ],
      "source": [
        "# 리스트\n",
        "a=[1,2,3,4,5]\n",
        "print(a)\n",
        "# 리스트 인덱싱\n",
        "a=[1,2,3,4,5]\n",
        "print(a[0])\n",
        "print(a[-1])\n",
        "# 리스트 슬라이싱\n",
        "a=[1,2,3,4,5]\n",
        "print(a[0:5])\n",
        "print(a[:5])\n",
        "print(a[2:])"
      ]
    },
    {
      "cell_type": "code",
      "execution_count": null,
      "metadata": {
        "id": "0JsHZrRqXccC",
        "outputId": "2027730a-8013-4141-e69f-f98bb77d227d"
      },
      "outputs": [
        {
          "name": "stdout",
          "output_type": "stream",
          "text": [
            "[0, 3, 4, 5, 6]\n"
          ]
        }
      ],
      "source": [
        "# 리스트 요소 추가/수정/삭제\n",
        "a=[1,2,3,4,5]\n",
        "a.append(6)\n",
        "a[0]=0\n",
        "del a[1]\n",
        "print(a)"
      ]
    },
    {
      "cell_type": "code",
      "execution_count": null,
      "metadata": {
        "id": "vJb7rrQNXccC",
        "outputId": "182f3fb7-a00d-4e16-dc02-8ec33acf2675"
      },
      "outputs": [
        {
          "name": "stdout",
          "output_type": "stream",
          "text": [
            "[1, 2, 3, 4, 5]\n",
            "[1, 2, 1, 2, 1, 2]\n"
          ]
        }
      ],
      "source": [
        "# 리스트 병합 및 반복\n",
        "a=[1,2]\n",
        "b=[3,4,5]\n",
        "c=a+b\n",
        "print(c)\n",
        "d=a*3\n",
        "print(d)"
      ]
    },
    {
      "cell_type": "markdown",
      "metadata": {
        "id": "KWmBWDs_XccC"
      },
      "source": [
        "### 라. 튜플(Tuple)"
      ]
    },
    {
      "cell_type": "code",
      "execution_count": null,
      "metadata": {
        "id": "zDCv1UILXccC",
        "outputId": "daaf0a25-d0f5-43ea-c328-b365ef26b289"
      },
      "outputs": [
        {
          "name": "stdout",
          "output_type": "stream",
          "text": [
            "2\n",
            "(1, 2, 3)\n"
          ]
        }
      ],
      "source": [
        "# 튜플\n",
        "t=(1,2,3,4,5)\n",
        "# 튜플 인덱싱 및 슬라이싱\n",
        "t1=(1,2,3)\n",
        "print(t[1]) # 인덱싱\n",
        "print(t[0:3]) # 슬라이싱"
      ]
    },
    {
      "cell_type": "code",
      "execution_count": null,
      "metadata": {
        "id": "sMVLt9jwXccD",
        "outputId": "8c7c47a4-a3de-4a6d-b155-0b78f82fc6d5"
      },
      "outputs": [
        {
          "name": "stdout",
          "output_type": "stream",
          "text": [
            "[1, 2, 1, 2, 1, 2]\n",
            "(1, 2, 1, 2, 1, 2)\n"
          ]
        }
      ],
      "source": [
        "# 튜플 병합 및 반복\n",
        "a=(1,2)\n",
        "b=(3,4,5)\n",
        "c=a+b\n",
        "print(d)\n",
        "d=a*3\n",
        "print(d)"
      ]
    },
    {
      "cell_type": "code",
      "execution_count": null,
      "metadata": {
        "id": "GBLVSvmmXccD",
        "outputId": "1dad6451-a553-46b6-92a0-ee60f00dda5d"
      },
      "outputs": [
        {
          "name": "stdout",
          "output_type": "stream",
          "text": [
            "('David', 'Kim')\n",
            "Kim ,  David\n"
          ]
        }
      ],
      "source": [
        "# 튜플 변수 할당\n",
        "name=(\"David\", \"Kim\")\n",
        "print(name)\n",
        "firstname, lastname=(\"David\", \"Kim\")\n",
        "print(lastname, \", \", firstname)"
      ]
    },
    {
      "cell_type": "markdown",
      "metadata": {
        "id": "zoEDUgA1XccD"
      },
      "source": [
        "### 마. 집합(set)"
      ]
    },
    {
      "cell_type": "code",
      "execution_count": null,
      "metadata": {
        "id": "_ivGjItJXccD",
        "outputId": "4e8be733-4e7a-445b-cbaf-5374198066a5"
      },
      "outputs": [
        {
          "name": "stdout",
          "output_type": "stream",
          "text": [
            "{1, 2, 3}\n"
          ]
        }
      ],
      "source": [
        "# 집합\n",
        "set={1,1,2,3}\n",
        "print(set)"
      ]
    },
    {
      "cell_type": "code",
      "execution_count": null,
      "metadata": {
        "id": "louhlVxzXccD",
        "outputId": "ef3fb568-b569-43e5-afc9-d494ccca6ff0"
      },
      "outputs": [
        {
          "data": {
            "text/plain": [
              "{1, 2, 3, 4}"
            ]
          },
          "execution_count": 14,
          "metadata": {},
          "output_type": "execute_result"
        }
      ],
      "source": [
        "# 집합 추가 및 삭제1\n",
        "set={1,1,2,3}\n",
        "set.add(4) # 요소 하나 추가\n",
        "set"
      ]
    },
    {
      "cell_type": "code",
      "execution_count": null,
      "metadata": {
        "id": "kgRhCIiIXccD",
        "outputId": "4112df3a-a217-45b2-9d76-91eb2aac1d26"
      },
      "outputs": [
        {
          "data": {
            "text/plain": [
              "{1, 2, 3, 4, 5, 6}"
            ]
          },
          "execution_count": 15,
          "metadata": {},
          "output_type": "execute_result"
        }
      ],
      "source": [
        "# 집합 추가 및 삭제2\n",
        "set={1,1,2,3}\n",
        "set.update({4,5,6}) # 요소 여러 개 추가\n",
        "set"
      ]
    },
    {
      "cell_type": "code",
      "execution_count": null,
      "metadata": {
        "id": "yaqvH646XccD",
        "outputId": "552d618f-4605-4658-d869-fb181b86c778"
      },
      "outputs": [
        {
          "data": {
            "text/plain": [
              "{2, 3, 4, 5, 6}"
            ]
          },
          "execution_count": 16,
          "metadata": {},
          "output_type": "execute_result"
        }
      ],
      "source": [
        "# 요소 하나 삭제\n",
        "set.remove(1)\n",
        "set"
      ]
    },
    {
      "cell_type": "code",
      "execution_count": null,
      "metadata": {
        "id": "ZRyeM037XccD",
        "outputId": "28fa348e-c639-425f-e761-7c749cd3390e"
      },
      "outputs": [
        {
          "data": {
            "text/plain": [
              "set()"
            ]
          },
          "execution_count": 17,
          "metadata": {},
          "output_type": "execute_result"
        }
      ],
      "source": [
        "# 요소 모두 삭제\n",
        "set.clear()\n",
        "set"
      ]
    },
    {
      "cell_type": "code",
      "execution_count": null,
      "metadata": {
        "id": "xB2g7XgZXccD",
        "outputId": "e06f5dc7-0843-499e-b5a6-07bca3ddb76e"
      },
      "outputs": [
        {
          "name": "stdout",
          "output_type": "stream",
          "text": [
            "{1, 3}\n",
            "{1, 2, 3, 4}\n",
            "{2}\n"
          ]
        }
      ],
      "source": [
        "# 집합 연산\n",
        "a={1,2,3}\n",
        "b={1,3,4}\n",
        "# 교집합\n",
        "c=a&b\n",
        "print(c)\n",
        "# 합집합\n",
        "d=a|b\n",
        "print(d)\n",
        "# 차집합\n",
        "e=a-b\n",
        "print(e)"
      ]
    },
    {
      "cell_type": "markdown",
      "metadata": {
        "id": "DT6hVijGXccE"
      },
      "source": [
        "### 바. 사전(Dictionary)"
      ]
    },
    {
      "cell_type": "code",
      "execution_count": null,
      "metadata": {
        "id": "a6w9mV4JXccE",
        "outputId": "493741af-5f4d-4065-d061-043e3e7036aa"
      },
      "outputs": [
        {
          "data": {
            "text/plain": [
              "90"
            ]
          },
          "execution_count": 19,
          "metadata": {},
          "output_type": "execute_result"
        }
      ],
      "source": [
        "# 사전\n",
        "test={\"Kim\":90, \"Jeong\":80, \"Park\":75}\n",
        "test[\"Kim\"] # 키 이용"
      ]
    },
    {
      "cell_type": "code",
      "execution_count": null,
      "metadata": {
        "id": "jF50uRMPXccE",
        "outputId": "08bf6690-7021-4c5e-f5df-df1dcd7f28b2"
      },
      "outputs": [
        {
          "name": "stdout",
          "output_type": "stream",
          "text": [
            "{'Kim': 90, 'Jeong': 85, 'Cho': 95}\n"
          ]
        }
      ],
      "source": [
        "# 사전 추가/수정/삭제\n",
        "test={\"Kim\":90, \"Jeong\":80, \"Park\":75}\n",
        "test[\"Jeong\"]=85\n",
        "test[\"Cho\"]=95\n",
        "del test[\"Park\"]\n",
        "print(test)"
      ]
    },
    {
      "cell_type": "code",
      "execution_count": null,
      "metadata": {
        "id": "P-eQ-EqmXccE",
        "outputId": "76e5c74b-e978-4f8d-c510-11b14e79a132"
      },
      "outputs": [
        {
          "name": "stdout",
          "output_type": "stream",
          "text": [
            "dict_keys(['Kim', 'Jeong', 'Park'])\n",
            "dict_values([90, 80, 75])\n"
          ]
        }
      ],
      "source": [
        "# 키 또는 값 가져오기\n",
        "test={\"Kim\":90, \"Jeong\":80, \"Park\":75}\n",
        "print(test.keys())    # 키 가져오기\n",
        "print(test.values())  # 값 가져오기"
      ]
    },
    {
      "cell_type": "markdown",
      "metadata": {
        "id": "fY0eGzhbXccE"
      },
      "source": [
        "## 3-2. if문"
      ]
    },
    {
      "cell_type": "code",
      "execution_count": null,
      "metadata": {
        "id": "6MQn-FsZXccE",
        "outputId": "1705082d-ebc4-4cba-dd97-ef41ee5814f1"
      },
      "outputs": [
        {
          "name": "stdout",
          "output_type": "stream",
          "text": [
            "걍 걸어가!\n"
          ]
        }
      ],
      "source": [
        "# if문 예시\n",
        "money=4000\n",
        "if money==3000:\n",
        "    print(\"KTX 타고 가자\")\n",
        "elif money>=5000:\n",
        "    print(\"버스 타고 가자\")\n",
        "else:\n",
        "    print(\"걍 걸어가!\")"
      ]
    },
    {
      "cell_type": "markdown",
      "metadata": {
        "id": "Oo1-c8YpXccE"
      },
      "source": [
        "## 3-3. 반복문"
      ]
    },
    {
      "cell_type": "markdown",
      "metadata": {
        "id": "s6HTniCTXccE"
      },
      "source": [
        "### 가. for문"
      ]
    },
    {
      "cell_type": "code",
      "execution_count": null,
      "metadata": {
        "id": "_NVC5uSBXccE",
        "outputId": "67984db9-f7a9-4d25-b765-dd05bdcc0066"
      },
      "outputs": [
        {
          "name": "stdout",
          "output_type": "stream",
          "text": [
            "55\n"
          ]
        }
      ],
      "source": [
        "# for문 기본\n",
        "sum=0\n",
        "for i in range(11):\n",
        "    sum=sum+i\n",
        "print(sum)"
      ]
    },
    {
      "cell_type": "code",
      "execution_count": null,
      "metadata": {
        "id": "kejb-eanXccF",
        "outputId": "ed639fb8-c71b-4601-9a43-767ab1357ccc"
      },
      "outputs": [
        {
          "name": "stdout",
          "output_type": "stream",
          "text": [
            "Wise\n",
            "In\n",
            "Company\n"
          ]
        }
      ],
      "source": [
        "# for문 리스트 출력\n",
        "list=[\"Wise\", \"In\", \"Company\"]\n",
        "for s in list:\n",
        "    print(s)"
      ]
    },
    {
      "cell_type": "markdown",
      "metadata": {
        "id": "0eg3CRw6XccF"
      },
      "source": [
        "### 나. while문"
      ]
    },
    {
      "cell_type": "code",
      "execution_count": null,
      "metadata": {
        "id": "TLzeX6xxXccF",
        "outputId": "6908dc2b-db07-4808-be06-d921b3107567"
      },
      "outputs": [
        {
          "name": "stdout",
          "output_type": "stream",
          "text": [
            "0\n",
            "1\n",
            "2\n",
            "3\n",
            "4\n",
            "5\n",
            "6\n",
            "7\n",
            "8\n",
            "9\n"
          ]
        }
      ],
      "source": [
        "# while문 기본\n",
        "i=0\n",
        "while i<10:\n",
        "    print(i)\n",
        "    i=i+1"
      ]
    },
    {
      "cell_type": "code",
      "execution_count": null,
      "metadata": {
        "id": "GjdVqYPAXccF",
        "outputId": "c291cc5a-dab5-4017-e9c8-150508944ce0"
      },
      "outputs": [
        {
          "name": "stdout",
          "output_type": "stream",
          "text": [
            "apple\n",
            "banana\n",
            "bread\n"
          ]
        }
      ],
      "source": [
        "# while문 리스트 출력\n",
        "food=[\"apple\", \"banana\", \"bread\"]\n",
        "i=0\n",
        "while i < len(food):\n",
        "    print(food[i])\n",
        "    i=i+1"
      ]
    },
    {
      "cell_type": "markdown",
      "metadata": {
        "id": "S1-zah6yXccF"
      },
      "source": [
        "# 4. numpy 함수"
      ]
    },
    {
      "cell_type": "markdown",
      "metadata": {
        "id": "ZCZapetFXccF"
      },
      "source": [
        "### 가. numpy 배열 생성"
      ]
    },
    {
      "cell_type": "code",
      "execution_count": null,
      "metadata": {
        "id": "_25YskXBXccI",
        "outputId": "bccaa99e-aff2-443a-c23e-8ba85fc424bb"
      },
      "outputs": [
        {
          "name": "stdout",
          "output_type": "stream",
          "text": [
            "[1 2 3 4]\n"
          ]
        }
      ],
      "source": [
        "# numpy 배열 기본\n",
        "import numpy as np\n",
        "v1=np.array([1,2,3,4])\n",
        "print(v1)"
      ]
    },
    {
      "cell_type": "code",
      "execution_count": null,
      "metadata": {
        "id": "cMml_MARXccI",
        "outputId": "b8ce7ff6-6498-4ecf-bf9a-10d3aa3601b1"
      },
      "outputs": [
        {
          "name": "stdout",
          "output_type": "stream",
          "text": [
            "[0 1 2 3 4]\n",
            "[1 3 5 7 9]\n",
            "[3.5 5.5 7.5 9.5]\n",
            "[ 1  9 25 49 81]\n",
            "[  1  27 125 343 729]\n"
          ]
        }
      ],
      "source": [
        "# 연속되거나 일정한 규칙을 가진 숫자\n",
        "v1=np.arange(5)\n",
        "print(v1)\n",
        "# 연속되거나 일정한 규칙을 가진 숫자, 데이터 형태 지정\n",
        "v2=np.arange(1,10,2, dtype=int)\n",
        "v3=np.arange(3.5,10.5,2, dtype=float)\n",
        "print(v2)\n",
        "print(v3)\n",
        "# 제곱값 생성\n",
        "v4=np.arange(1,10,2)**2\n",
        "print(v4)\n",
        "# 세제곱값 생성\n",
        "v5=np.arange(1,10,2)**3\n",
        "print(v5)"
      ]
    },
    {
      "cell_type": "code",
      "execution_count": null,
      "metadata": {
        "id": "H9MxGGm_XccI",
        "outputId": "7e2353cb-2829-427d-80e9-daec2dd027c4"
      },
      "outputs": [
        {
          "name": "stdout",
          "output_type": "stream",
          "text": [
            "[ 0  1  2  3  4  5  6  7  8  9 10 11]\n",
            "[[ 0  1  2  3  4  5]\n",
            " [ 6  7  8  9 10 11]]\n",
            "[[ 0  2  4  6  8 10]\n",
            " [ 1  3  5  7  9 11]]\n"
          ]
        }
      ],
      "source": [
        "# 행렬만들기\n",
        "v1=np.arange(12)\n",
        "print(v1)\n",
        "v2=v1.reshape(2,6)\n",
        "print(v2)\n",
        "v3=v1.reshape(2,6, order='F')\n",
        "print(v3)"
      ]
    },
    {
      "cell_type": "code",
      "execution_count": null,
      "metadata": {
        "id": "NvsaNEkoXccI",
        "outputId": "948dfbeb-26a2-40a0-c5d4-866456a4ef3a"
      },
      "outputs": [
        {
          "name": "stdout",
          "output_type": "stream",
          "text": [
            "[[2 4]\n",
            " [6 8]]\n",
            "[[0 0]\n",
            " [0 0]]\n",
            "[[ 1  4]\n",
            " [ 9 16]]\n",
            "[[ 7 10]\n",
            " [15 22]]\n"
          ]
        }
      ],
      "source": [
        "# 행렬계산\n",
        "v1=np.arange(1,5).reshape(2,2)\n",
        "print(np.add(v1,v1))        # 덧셈\n",
        "print(np.subtract(v1,v1))   # 뺄셈\n",
        "print(np.multiply(v1,v1))   # 곱셈\n",
        "print(np.dot(v1,v1))        # 행렬연산"
      ]
    },
    {
      "cell_type": "code",
      "execution_count": null,
      "metadata": {
        "id": "6GZYDUYaXccI",
        "outputId": "d1bcd476-b5de-4b63-ac3c-13d558f38040"
      },
      "outputs": [
        {
          "name": "stdout",
          "output_type": "stream",
          "text": [
            "[ 0  1  2  3  4  5  6  7  8  9 10 11]\n",
            "[[[ 0  6]\n",
            "  [ 2  8]\n",
            "  [ 4 10]]\n",
            "\n",
            " [[ 1  7]\n",
            "  [ 3  9]\n",
            "  [ 5 11]]]\n"
          ]
        }
      ],
      "source": [
        "# 다차원 행렬 만들기\n",
        "v1=np.arange(12)\n",
        "print(v1)\n",
        "v2=v1.reshape(2,3,2, order='F')\n",
        "print(v2)"
      ]
    },
    {
      "cell_type": "code",
      "execution_count": null,
      "metadata": {
        "id": "qxDHcqTyXccI",
        "outputId": "6156b9e3-6875-40bf-b853-b8e01bbac726"
      },
      "outputs": [
        {
          "name": "stdout",
          "output_type": "stream",
          "text": [
            "[3.5 5.5 7.5 9.5]\n",
            "[[1 2]\n",
            " [3 4]]\n",
            "9.5\n",
            "1\n",
            "float64\n",
            "(2, 2)\n"
          ]
        }
      ],
      "source": [
        "# 다차원 배열에서 요소의 최대값 및 최소값 반환\n",
        "v3=np.arange(3.5, 10.5, 2, dtype=float)\n",
        "print(v3)\n",
        "v4=np.arange(1,5).reshape(2,2)\n",
        "print(v4)\n",
        "print(np.amax(v3))\n",
        "print(np.amin(v4))\n",
        "print(v3.dtype)\n",
        "print(v4.shape)"
      ]
    },
    {
      "cell_type": "markdown",
      "metadata": {
        "id": "FhvM9i5KXccI"
      },
      "source": [
        "# 5. pandas 함수와 기본 데이터 처리"
      ]
    },
    {
      "cell_type": "markdown",
      "metadata": {
        "id": "gS_zpYcoXccJ"
      },
      "source": [
        "## 5.1 pandas 함수 개요\n",
        "### 나. Series"
      ]
    },
    {
      "cell_type": "code",
      "execution_count": null,
      "metadata": {
        "id": "KZvO5d1EXccJ",
        "outputId": "117ae84d-ebd5-4d08-abc7-6804d1163009"
      },
      "outputs": [
        {
          "name": "stdout",
          "output_type": "stream",
          "text": [
            "0    1\n",
            "1    3\n",
            "2    5\n",
            "3    7\n",
            "dtype: int64\n",
            "[1 3 5 7]\n",
            "RangeIndex(start=0, stop=4, step=1)\n",
            "a    1\n",
            "b    3\n",
            "c    5\n",
            "d    7\n",
            "dtype: int64\n"
          ]
        }
      ],
      "source": [
        "# pandas 함수 불러오기\n",
        "import pandas as pd\n",
        "from pandas import Series, DataFrame\n",
        "# series 설정\n",
        "a=Series([1,3,5,7])\n",
        "print(a)\n",
        "print(a.values)\n",
        "print(a.index)\n",
        "# index 변경\n",
        "a2=pd.Series([1,3,5,7], index=['a','b','c', 'd'])\n",
        "print(a2)"
      ]
    },
    {
      "cell_type": "code",
      "execution_count": null,
      "metadata": {
        "id": "Wcl4lR6kXccJ",
        "outputId": "cba43389-abc3-4479-ace2-2cee6934d815"
      },
      "outputs": [
        {
          "data": {
            "text/plain": [
              "a    1\n",
              "b    3\n",
              "c    5\n",
              "d    7\n",
              "dtype: int64"
            ]
          },
          "execution_count": 34,
          "metadata": {},
          "output_type": "execute_result"
        }
      ],
      "source": [
        "# index 변경\n",
        "a2=pd.Series([1,3,5,7], index=['a','b','c', 'd'])\n",
        "a2"
      ]
    },
    {
      "cell_type": "markdown",
      "metadata": {
        "id": "-v5PNkIZXccJ"
      },
      "source": [
        "## 5.2 데이터 불러오기"
      ]
    },
    {
      "cell_type": "markdown",
      "metadata": {
        "id": "GZuahucNXccJ"
      },
      "source": [
        "### 가. DataFrame과 데이어 파일 불러오기"
      ]
    },
    {
      "cell_type": "code",
      "execution_count": null,
      "metadata": {
        "id": "yHNzbbDZXccJ",
        "outputId": "afe776de-f9f6-4f4a-b5f3-7c113e9a5420"
      },
      "outputs": [
        {
          "data": {
            "text/html": [
              "<div>\n",
              "<style scoped>\n",
              "    .dataframe tbody tr th:only-of-type {\n",
              "        vertical-align: middle;\n",
              "    }\n",
              "\n",
              "    .dataframe tbody tr th {\n",
              "        vertical-align: top;\n",
              "    }\n",
              "\n",
              "    .dataframe thead th {\n",
              "        text-align: right;\n",
              "    }\n",
              "</style>\n",
              "<table border=\"1\" class=\"dataframe\">\n",
              "  <thead>\n",
              "    <tr style=\"text-align: right;\">\n",
              "      <th></th>\n",
              "      <th>continent</th>\n",
              "      <th>brand</th>\n",
              "      <th>size</th>\n",
              "      <th>period</th>\n",
              "      <th>price</th>\n",
              "    </tr>\n",
              "  </thead>\n",
              "  <tbody>\n",
              "    <tr>\n",
              "      <th>0</th>\n",
              "      <td>2</td>\n",
              "      <td>2</td>\n",
              "      <td>10.7</td>\n",
              "      <td>47.65</td>\n",
              "      <td>144</td>\n",
              "    </tr>\n",
              "    <tr>\n",
              "      <th>1</th>\n",
              "      <td>2</td>\n",
              "      <td>3</td>\n",
              "      <td>14.0</td>\n",
              "      <td>63.13</td>\n",
              "      <td>215</td>\n",
              "    </tr>\n",
              "    <tr>\n",
              "      <th>2</th>\n",
              "      <td>2</td>\n",
              "      <td>2</td>\n",
              "      <td>9.0</td>\n",
              "      <td>58.76</td>\n",
              "      <td>105</td>\n",
              "    </tr>\n",
              "    <tr>\n",
              "      <th>3</th>\n",
              "      <td>1</td>\n",
              "      <td>1</td>\n",
              "      <td>8.0</td>\n",
              "      <td>34.88</td>\n",
              "      <td>69</td>\n",
              "    </tr>\n",
              "    <tr>\n",
              "      <th>4</th>\n",
              "      <td>2</td>\n",
              "      <td>2</td>\n",
              "      <td>10.0</td>\n",
              "      <td>55.53</td>\n",
              "      <td>134</td>\n",
              "    </tr>\n",
              "    <tr>\n",
              "      <th>...</th>\n",
              "      <td>...</td>\n",
              "      <td>...</td>\n",
              "      <td>...</td>\n",
              "      <td>...</td>\n",
              "      <td>...</td>\n",
              "    </tr>\n",
              "    <tr>\n",
              "      <th>58</th>\n",
              "      <td>1</td>\n",
              "      <td>1</td>\n",
              "      <td>5.0</td>\n",
              "      <td>16.66</td>\n",
              "      <td>21.5</td>\n",
              "    </tr>\n",
              "    <tr>\n",
              "      <th>59</th>\n",
              "      <td>2</td>\n",
              "      <td>1</td>\n",
              "      <td>21.0</td>\n",
              "      <td>43.00</td>\n",
              "      <td></td>\n",
              "    </tr>\n",
              "    <tr>\n",
              "      <th>60</th>\n",
              "      <td>2</td>\n",
              "      <td>2</td>\n",
              "      <td>5.0</td>\n",
              "      <td>12.00</td>\n",
              "      <td></td>\n",
              "    </tr>\n",
              "    <tr>\n",
              "      <th>61</th>\n",
              "      <td>2</td>\n",
              "      <td>3</td>\n",
              "      <td>13.0</td>\n",
              "      <td>20.00</td>\n",
              "      <td></td>\n",
              "    </tr>\n",
              "    <tr>\n",
              "      <th>62</th>\n",
              "      <td>2</td>\n",
              "      <td>3</td>\n",
              "      <td>31.0</td>\n",
              "      <td>19.00</td>\n",
              "      <td></td>\n",
              "    </tr>\n",
              "  </tbody>\n",
              "</table>\n",
              "<p>63 rows × 5 columns</p>\n",
              "</div>"
            ],
            "text/plain": [
              "    continent  brand  size  period price\n",
              "0           2      2  10.7   47.65   144\n",
              "1           2      3  14.0   63.13   215\n",
              "2           2      2   9.0   58.76   105\n",
              "3           1      1   8.0   34.88    69\n",
              "4           2      2  10.0   55.53   134\n",
              "..        ...    ...   ...     ...   ...\n",
              "58          1      1   5.0   16.66  21.5\n",
              "59          2      1  21.0   43.00      \n",
              "60          2      2   5.0   12.00      \n",
              "61          2      3  13.0   20.00      \n",
              "62          2      3  31.0   19.00      \n",
              "\n",
              "[63 rows x 5 columns]"
            ]
          },
          "execution_count": 35,
          "metadata": {},
          "output_type": "execute_result"
        }
      ],
      "source": [
        "# csv파일을 pandas DataFrame 형태로 불러오기\n",
        "df=pd.read_csv('EX_GrapeData.csv')\n",
        "df"
      ]
    },
    {
      "cell_type": "code",
      "execution_count": null,
      "metadata": {
        "id": "RjkmUSUmXccJ",
        "outputId": "6f7b3467-75f8-44b5-f458-32f3703acf87"
      },
      "outputs": [
        {
          "data": {
            "text/html": [
              "<div>\n",
              "<style scoped>\n",
              "    .dataframe tbody tr th:only-of-type {\n",
              "        vertical-align: middle;\n",
              "    }\n",
              "\n",
              "    .dataframe tbody tr th {\n",
              "        vertical-align: top;\n",
              "    }\n",
              "\n",
              "    .dataframe thead th {\n",
              "        text-align: right;\n",
              "    }\n",
              "</style>\n",
              "<table border=\"1\" class=\"dataframe\">\n",
              "  <thead>\n",
              "    <tr style=\"text-align: right;\">\n",
              "      <th></th>\n",
              "      <th>continent</th>\n",
              "      <th>brand</th>\n",
              "      <th>size</th>\n",
              "      <th>period</th>\n",
              "      <th>price</th>\n",
              "    </tr>\n",
              "  </thead>\n",
              "  <tbody>\n",
              "    <tr>\n",
              "      <th>0</th>\n",
              "      <td>2</td>\n",
              "      <td>2</td>\n",
              "      <td>10.7</td>\n",
              "      <td>47.65</td>\n",
              "      <td>144.0</td>\n",
              "    </tr>\n",
              "    <tr>\n",
              "      <th>1</th>\n",
              "      <td>2</td>\n",
              "      <td>3</td>\n",
              "      <td>14.0</td>\n",
              "      <td>63.13</td>\n",
              "      <td>215.0</td>\n",
              "    </tr>\n",
              "    <tr>\n",
              "      <th>2</th>\n",
              "      <td>2</td>\n",
              "      <td>2</td>\n",
              "      <td>9.0</td>\n",
              "      <td>58.76</td>\n",
              "      <td>105.0</td>\n",
              "    </tr>\n",
              "    <tr>\n",
              "      <th>3</th>\n",
              "      <td>1</td>\n",
              "      <td>1</td>\n",
              "      <td>8.0</td>\n",
              "      <td>34.88</td>\n",
              "      <td>69.0</td>\n",
              "    </tr>\n",
              "    <tr>\n",
              "      <th>4</th>\n",
              "      <td>2</td>\n",
              "      <td>2</td>\n",
              "      <td>10.0</td>\n",
              "      <td>55.53</td>\n",
              "      <td>134.0</td>\n",
              "    </tr>\n",
              "    <tr>\n",
              "      <th>...</th>\n",
              "      <td>...</td>\n",
              "      <td>...</td>\n",
              "      <td>...</td>\n",
              "      <td>...</td>\n",
              "      <td>...</td>\n",
              "    </tr>\n",
              "    <tr>\n",
              "      <th>58</th>\n",
              "      <td>1</td>\n",
              "      <td>1</td>\n",
              "      <td>5.0</td>\n",
              "      <td>16.66</td>\n",
              "      <td>21.5</td>\n",
              "    </tr>\n",
              "    <tr>\n",
              "      <th>59</th>\n",
              "      <td>2</td>\n",
              "      <td>1</td>\n",
              "      <td>21.0</td>\n",
              "      <td>43.00</td>\n",
              "      <td>NaN</td>\n",
              "    </tr>\n",
              "    <tr>\n",
              "      <th>60</th>\n",
              "      <td>2</td>\n",
              "      <td>2</td>\n",
              "      <td>5.0</td>\n",
              "      <td>12.00</td>\n",
              "      <td>NaN</td>\n",
              "    </tr>\n",
              "    <tr>\n",
              "      <th>61</th>\n",
              "      <td>2</td>\n",
              "      <td>3</td>\n",
              "      <td>13.0</td>\n",
              "      <td>20.00</td>\n",
              "      <td>NaN</td>\n",
              "    </tr>\n",
              "    <tr>\n",
              "      <th>62</th>\n",
              "      <td>2</td>\n",
              "      <td>3</td>\n",
              "      <td>31.0</td>\n",
              "      <td>19.00</td>\n",
              "      <td>NaN</td>\n",
              "    </tr>\n",
              "  </tbody>\n",
              "</table>\n",
              "<p>63 rows × 5 columns</p>\n",
              "</div>"
            ],
            "text/plain": [
              "    continent  brand  size  period  price\n",
              "0           2      2  10.7   47.65  144.0\n",
              "1           2      3  14.0   63.13  215.0\n",
              "2           2      2   9.0   58.76  105.0\n",
              "3           1      1   8.0   34.88   69.0\n",
              "4           2      2  10.0   55.53  134.0\n",
              "..        ...    ...   ...     ...    ...\n",
              "58          1      1   5.0   16.66   21.5\n",
              "59          2      1  21.0   43.00    NaN\n",
              "60          2      2   5.0   12.00    NaN\n",
              "61          2      3  13.0   20.00    NaN\n",
              "62          2      3  31.0   19.00    NaN\n",
              "\n",
              "[63 rows x 5 columns]"
            ]
          },
          "execution_count": 36,
          "metadata": {},
          "output_type": "execute_result"
        }
      ],
      "source": [
        "# 엑셀파일을 pandas DataFrame 형태로 불러오기\n",
        "df=pd.read_excel('EX_GrapeData.xlsx')\n",
        "df"
      ]
    },
    {
      "cell_type": "code",
      "execution_count": null,
      "metadata": {
        "id": "8_wDaWqPXccJ"
      },
      "outputs": [],
      "source": [
        "# 한글이 포함되어 있을 경우 인코딩 설정(encoding='euc-kr', 'cp949', 'utf-8' 등 옵션 설정)\n",
        "# df = pd.read_csv('EX_GrapeData.csv', encoding='euc-kr')\n",
        "# df = pd.read_excel('EX_GrapeData.xlsx', encoding='euc-kr')"
      ]
    },
    {
      "cell_type": "markdown",
      "metadata": {
        "id": "BFEJakvoXccJ"
      },
      "source": [
        "### 나. DataFrame 확인하기"
      ]
    },
    {
      "cell_type": "code",
      "execution_count": null,
      "metadata": {
        "id": "CVFhGOA-XccK",
        "outputId": "27421d24-1a80-40d4-d079-275d91b2c6f4"
      },
      "outputs": [
        {
          "data": {
            "text/html": [
              "<div>\n",
              "<style scoped>\n",
              "    .dataframe tbody tr th:only-of-type {\n",
              "        vertical-align: middle;\n",
              "    }\n",
              "\n",
              "    .dataframe tbody tr th {\n",
              "        vertical-align: top;\n",
              "    }\n",
              "\n",
              "    .dataframe thead th {\n",
              "        text-align: right;\n",
              "    }\n",
              "</style>\n",
              "<table border=\"1\" class=\"dataframe\">\n",
              "  <thead>\n",
              "    <tr style=\"text-align: right;\">\n",
              "      <th></th>\n",
              "      <th>continent</th>\n",
              "      <th>brand</th>\n",
              "      <th>size</th>\n",
              "      <th>period</th>\n",
              "      <th>price</th>\n",
              "    </tr>\n",
              "  </thead>\n",
              "  <tbody>\n",
              "    <tr>\n",
              "      <th>0</th>\n",
              "      <td>2</td>\n",
              "      <td>2</td>\n",
              "      <td>10.7</td>\n",
              "      <td>47.65</td>\n",
              "      <td>144.0</td>\n",
              "    </tr>\n",
              "    <tr>\n",
              "      <th>1</th>\n",
              "      <td>2</td>\n",
              "      <td>3</td>\n",
              "      <td>14.0</td>\n",
              "      <td>63.13</td>\n",
              "      <td>215.0</td>\n",
              "    </tr>\n",
              "    <tr>\n",
              "      <th>2</th>\n",
              "      <td>2</td>\n",
              "      <td>2</td>\n",
              "      <td>9.0</td>\n",
              "      <td>58.76</td>\n",
              "      <td>105.0</td>\n",
              "    </tr>\n",
              "    <tr>\n",
              "      <th>3</th>\n",
              "      <td>1</td>\n",
              "      <td>1</td>\n",
              "      <td>8.0</td>\n",
              "      <td>34.88</td>\n",
              "      <td>69.0</td>\n",
              "    </tr>\n",
              "    <tr>\n",
              "      <th>4</th>\n",
              "      <td>2</td>\n",
              "      <td>2</td>\n",
              "      <td>10.0</td>\n",
              "      <td>55.53</td>\n",
              "      <td>134.0</td>\n",
              "    </tr>\n",
              "  </tbody>\n",
              "</table>\n",
              "</div>"
            ],
            "text/plain": [
              "   continent  brand  size  period  price\n",
              "0          2      2  10.7   47.65  144.0\n",
              "1          2      3  14.0   63.13  215.0\n",
              "2          2      2   9.0   58.76  105.0\n",
              "3          1      1   8.0   34.88   69.0\n",
              "4          2      2  10.0   55.53  134.0"
            ]
          },
          "execution_count": 38,
          "metadata": {},
          "output_type": "execute_result"
        }
      ],
      "source": [
        "# 데이터 프레임 처음부터 ~개의 행만 불러오기\n",
        "df.head()"
      ]
    },
    {
      "cell_type": "code",
      "execution_count": null,
      "metadata": {
        "id": "P76JlNcDXccK",
        "outputId": "febd06b3-0356-4090-979a-7f7c8fe3e5e9"
      },
      "outputs": [
        {
          "data": {
            "text/html": [
              "<div>\n",
              "<style scoped>\n",
              "    .dataframe tbody tr th:only-of-type {\n",
              "        vertical-align: middle;\n",
              "    }\n",
              "\n",
              "    .dataframe tbody tr th {\n",
              "        vertical-align: top;\n",
              "    }\n",
              "\n",
              "    .dataframe thead th {\n",
              "        text-align: right;\n",
              "    }\n",
              "</style>\n",
              "<table border=\"1\" class=\"dataframe\">\n",
              "  <thead>\n",
              "    <tr style=\"text-align: right;\">\n",
              "      <th></th>\n",
              "      <th>continent</th>\n",
              "      <th>brand</th>\n",
              "      <th>size</th>\n",
              "      <th>period</th>\n",
              "      <th>price</th>\n",
              "    </tr>\n",
              "  </thead>\n",
              "  <tbody>\n",
              "    <tr>\n",
              "      <th>58</th>\n",
              "      <td>1</td>\n",
              "      <td>1</td>\n",
              "      <td>5.0</td>\n",
              "      <td>16.66</td>\n",
              "      <td>21.5</td>\n",
              "    </tr>\n",
              "    <tr>\n",
              "      <th>59</th>\n",
              "      <td>2</td>\n",
              "      <td>1</td>\n",
              "      <td>21.0</td>\n",
              "      <td>43.00</td>\n",
              "      <td>NaN</td>\n",
              "    </tr>\n",
              "    <tr>\n",
              "      <th>60</th>\n",
              "      <td>2</td>\n",
              "      <td>2</td>\n",
              "      <td>5.0</td>\n",
              "      <td>12.00</td>\n",
              "      <td>NaN</td>\n",
              "    </tr>\n",
              "    <tr>\n",
              "      <th>61</th>\n",
              "      <td>2</td>\n",
              "      <td>3</td>\n",
              "      <td>13.0</td>\n",
              "      <td>20.00</td>\n",
              "      <td>NaN</td>\n",
              "    </tr>\n",
              "    <tr>\n",
              "      <th>62</th>\n",
              "      <td>2</td>\n",
              "      <td>3</td>\n",
              "      <td>31.0</td>\n",
              "      <td>19.00</td>\n",
              "      <td>NaN</td>\n",
              "    </tr>\n",
              "  </tbody>\n",
              "</table>\n",
              "</div>"
            ],
            "text/plain": [
              "    continent  brand  size  period  price\n",
              "58          1      1   5.0   16.66   21.5\n",
              "59          2      1  21.0   43.00    NaN\n",
              "60          2      2   5.0   12.00    NaN\n",
              "61          2      3  13.0   20.00    NaN\n",
              "62          2      3  31.0   19.00    NaN"
            ]
          },
          "execution_count": 39,
          "metadata": {},
          "output_type": "execute_result"
        }
      ],
      "source": [
        "# 데이터 프레임 뒤부터 ~개의 행만 불러오기\n",
        "df.tail()"
      ]
    },
    {
      "cell_type": "code",
      "execution_count": null,
      "metadata": {
        "id": "MJYNwRfFXccK",
        "outputId": "97a471a2-bf6a-4c95-b761-fee0b1612f0b"
      },
      "outputs": [
        {
          "data": {
            "text/html": [
              "<div>\n",
              "<style scoped>\n",
              "    .dataframe tbody tr th:only-of-type {\n",
              "        vertical-align: middle;\n",
              "    }\n",
              "\n",
              "    .dataframe tbody tr th {\n",
              "        vertical-align: top;\n",
              "    }\n",
              "\n",
              "    .dataframe thead th {\n",
              "        text-align: right;\n",
              "    }\n",
              "</style>\n",
              "<table border=\"1\" class=\"dataframe\">\n",
              "  <thead>\n",
              "    <tr style=\"text-align: right;\">\n",
              "      <th></th>\n",
              "      <th>continent</th>\n",
              "      <th>brand</th>\n",
              "      <th>size</th>\n",
              "      <th>period</th>\n",
              "      <th>price</th>\n",
              "    </tr>\n",
              "  </thead>\n",
              "  <tbody>\n",
              "    <tr>\n",
              "      <th>1</th>\n",
              "      <td>2</td>\n",
              "      <td>3</td>\n",
              "      <td>14.0</td>\n",
              "      <td>63.13</td>\n",
              "      <td>215.0</td>\n",
              "    </tr>\n",
              "    <tr>\n",
              "      <th>2</th>\n",
              "      <td>2</td>\n",
              "      <td>2</td>\n",
              "      <td>9.0</td>\n",
              "      <td>58.76</td>\n",
              "      <td>105.0</td>\n",
              "    </tr>\n",
              "    <tr>\n",
              "      <th>3</th>\n",
              "      <td>1</td>\n",
              "      <td>1</td>\n",
              "      <td>8.0</td>\n",
              "      <td>34.88</td>\n",
              "      <td>69.0</td>\n",
              "    </tr>\n",
              "    <tr>\n",
              "      <th>4</th>\n",
              "      <td>2</td>\n",
              "      <td>2</td>\n",
              "      <td>10.0</td>\n",
              "      <td>55.53</td>\n",
              "      <td>134.0</td>\n",
              "    </tr>\n",
              "  </tbody>\n",
              "</table>\n",
              "</div>"
            ],
            "text/plain": [
              "   continent  brand  size  period  price\n",
              "1          2      3  14.0   63.13  215.0\n",
              "2          2      2   9.0   58.76  105.0\n",
              "3          1      1   8.0   34.88   69.0\n",
              "4          2      2  10.0   55.53  134.0"
            ]
          },
          "execution_count": 40,
          "metadata": {},
          "output_type": "execute_result"
        }
      ],
      "source": [
        "# 1에서 4까지 출력\n",
        "df[1:5]"
      ]
    },
    {
      "cell_type": "code",
      "execution_count": null,
      "metadata": {
        "id": "34gHgJARXccK",
        "outputId": "2ccf632f-44e1-4b41-81f6-ac130f723e3b"
      },
      "outputs": [
        {
          "data": {
            "text/html": [
              "<div>\n",
              "<style scoped>\n",
              "    .dataframe tbody tr th:only-of-type {\n",
              "        vertical-align: middle;\n",
              "    }\n",
              "\n",
              "    .dataframe tbody tr th {\n",
              "        vertical-align: top;\n",
              "    }\n",
              "\n",
              "    .dataframe thead th {\n",
              "        text-align: right;\n",
              "    }\n",
              "</style>\n",
              "<table border=\"1\" class=\"dataframe\">\n",
              "  <thead>\n",
              "    <tr style=\"text-align: right;\">\n",
              "      <th></th>\n",
              "      <th>continent</th>\n",
              "      <th>brand</th>\n",
              "      <th>size</th>\n",
              "      <th>period</th>\n",
              "      <th>price</th>\n",
              "    </tr>\n",
              "  </thead>\n",
              "  <tbody>\n",
              "    <tr>\n",
              "      <th>0</th>\n",
              "      <td>2</td>\n",
              "      <td>2</td>\n",
              "      <td>10.7</td>\n",
              "      <td>47.65</td>\n",
              "      <td>144.0</td>\n",
              "    </tr>\n",
              "    <tr>\n",
              "      <th>1</th>\n",
              "      <td>2</td>\n",
              "      <td>3</td>\n",
              "      <td>14.0</td>\n",
              "      <td>63.13</td>\n",
              "      <td>215.0</td>\n",
              "    </tr>\n",
              "    <tr>\n",
              "      <th>2</th>\n",
              "      <td>2</td>\n",
              "      <td>2</td>\n",
              "      <td>9.0</td>\n",
              "      <td>58.76</td>\n",
              "      <td>105.0</td>\n",
              "    </tr>\n",
              "  </tbody>\n",
              "</table>\n",
              "</div>"
            ],
            "text/plain": [
              "   continent  brand  size  period  price\n",
              "0          2      2  10.7   47.65  144.0\n",
              "1          2      3  14.0   63.13  215.0\n",
              "2          2      2   9.0   58.76  105.0"
            ]
          },
          "execution_count": 41,
          "metadata": {},
          "output_type": "execute_result"
        }
      ],
      "source": [
        "# 처음부터 2까지 출력\n",
        "df[:3]"
      ]
    },
    {
      "cell_type": "code",
      "execution_count": null,
      "metadata": {
        "id": "UPJ9AG7mXccK",
        "outputId": "ee0ae8b7-6bca-4c04-e2ea-ab534c43c01e"
      },
      "outputs": [
        {
          "data": {
            "text/html": [
              "<div>\n",
              "<style scoped>\n",
              "    .dataframe tbody tr th:only-of-type {\n",
              "        vertical-align: middle;\n",
              "    }\n",
              "\n",
              "    .dataframe tbody tr th {\n",
              "        vertical-align: top;\n",
              "    }\n",
              "\n",
              "    .dataframe thead th {\n",
              "        text-align: right;\n",
              "    }\n",
              "</style>\n",
              "<table border=\"1\" class=\"dataframe\">\n",
              "  <thead>\n",
              "    <tr style=\"text-align: right;\">\n",
              "      <th></th>\n",
              "      <th>continent</th>\n",
              "      <th>brand</th>\n",
              "      <th>size</th>\n",
              "      <th>period</th>\n",
              "      <th>price</th>\n",
              "    </tr>\n",
              "  </thead>\n",
              "  <tbody>\n",
              "    <tr>\n",
              "      <th>60</th>\n",
              "      <td>2</td>\n",
              "      <td>2</td>\n",
              "      <td>5.0</td>\n",
              "      <td>12.0</td>\n",
              "      <td>NaN</td>\n",
              "    </tr>\n",
              "    <tr>\n",
              "      <th>61</th>\n",
              "      <td>2</td>\n",
              "      <td>3</td>\n",
              "      <td>13.0</td>\n",
              "      <td>20.0</td>\n",
              "      <td>NaN</td>\n",
              "    </tr>\n",
              "    <tr>\n",
              "      <th>62</th>\n",
              "      <td>2</td>\n",
              "      <td>3</td>\n",
              "      <td>31.0</td>\n",
              "      <td>19.0</td>\n",
              "      <td>NaN</td>\n",
              "    </tr>\n",
              "  </tbody>\n",
              "</table>\n",
              "</div>"
            ],
            "text/plain": [
              "    continent  brand  size  period  price\n",
              "60          2      2   5.0    12.0    NaN\n",
              "61          2      3  13.0    20.0    NaN\n",
              "62          2      3  31.0    19.0    NaN"
            ]
          },
          "execution_count": 42,
          "metadata": {},
          "output_type": "execute_result"
        }
      ],
      "source": [
        "# 60에서 끝까지 출력\n",
        "df[60:]"
      ]
    },
    {
      "cell_type": "code",
      "execution_count": null,
      "metadata": {
        "id": "k047Nx5cXccK",
        "outputId": "b5514255-9964-4196-edd2-71942e98d310"
      },
      "outputs": [
        {
          "data": {
            "text/plain": [
              "0     144.0\n",
              "1     215.0\n",
              "2     105.0\n",
              "3      69.0\n",
              "4     134.0\n",
              "      ...  \n",
              "58     21.5\n",
              "59      NaN\n",
              "60      NaN\n",
              "61      NaN\n",
              "62      NaN\n",
              "Name: price, Length: 63, dtype: float64"
            ]
          },
          "execution_count": 43,
          "metadata": {},
          "output_type": "execute_result"
        }
      ],
      "source": [
        "# price 변수(열) 불러오기: series 형태\n",
        "df['price'] # df.price으로 대체 가능"
      ]
    },
    {
      "cell_type": "code",
      "execution_count": null,
      "metadata": {
        "id": "zAcEholUXccK",
        "outputId": "30c1d36a-16c0-41cd-b4b5-332b24fca564"
      },
      "outputs": [
        {
          "data": {
            "text/html": [
              "<div>\n",
              "<style scoped>\n",
              "    .dataframe tbody tr th:only-of-type {\n",
              "        vertical-align: middle;\n",
              "    }\n",
              "\n",
              "    .dataframe tbody tr th {\n",
              "        vertical-align: top;\n",
              "    }\n",
              "\n",
              "    .dataframe thead th {\n",
              "        text-align: right;\n",
              "    }\n",
              "</style>\n",
              "<table border=\"1\" class=\"dataframe\">\n",
              "  <thead>\n",
              "    <tr style=\"text-align: right;\">\n",
              "      <th></th>\n",
              "      <th>price</th>\n",
              "    </tr>\n",
              "  </thead>\n",
              "  <tbody>\n",
              "    <tr>\n",
              "      <th>0</th>\n",
              "      <td>144.0</td>\n",
              "    </tr>\n",
              "    <tr>\n",
              "      <th>1</th>\n",
              "      <td>215.0</td>\n",
              "    </tr>\n",
              "    <tr>\n",
              "      <th>2</th>\n",
              "      <td>105.0</td>\n",
              "    </tr>\n",
              "    <tr>\n",
              "      <th>3</th>\n",
              "      <td>69.0</td>\n",
              "    </tr>\n",
              "    <tr>\n",
              "      <th>4</th>\n",
              "      <td>134.0</td>\n",
              "    </tr>\n",
              "    <tr>\n",
              "      <th>...</th>\n",
              "      <td>...</td>\n",
              "    </tr>\n",
              "    <tr>\n",
              "      <th>58</th>\n",
              "      <td>21.5</td>\n",
              "    </tr>\n",
              "    <tr>\n",
              "      <th>59</th>\n",
              "      <td>NaN</td>\n",
              "    </tr>\n",
              "    <tr>\n",
              "      <th>60</th>\n",
              "      <td>NaN</td>\n",
              "    </tr>\n",
              "    <tr>\n",
              "      <th>61</th>\n",
              "      <td>NaN</td>\n",
              "    </tr>\n",
              "    <tr>\n",
              "      <th>62</th>\n",
              "      <td>NaN</td>\n",
              "    </tr>\n",
              "  </tbody>\n",
              "</table>\n",
              "<p>63 rows × 1 columns</p>\n",
              "</div>"
            ],
            "text/plain": [
              "    price\n",
              "0   144.0\n",
              "1   215.0\n",
              "2   105.0\n",
              "3    69.0\n",
              "4   134.0\n",
              "..    ...\n",
              "58   21.5\n",
              "59    NaN\n",
              "60    NaN\n",
              "61    NaN\n",
              "62    NaN\n",
              "\n",
              "[63 rows x 1 columns]"
            ]
          },
          "execution_count": 44,
          "metadata": {},
          "output_type": "execute_result"
        }
      ],
      "source": [
        "# price 변수(열) 불러오기: DataFrame 형태\n",
        "df[['price']]"
      ]
    },
    {
      "cell_type": "code",
      "execution_count": null,
      "metadata": {
        "id": "2DJFK7hnXccK",
        "outputId": "7a823362-30c9-403f-c700-f0c721d5ff5d"
      },
      "outputs": [
        {
          "data": {
            "text/html": [
              "<div>\n",
              "<style scoped>\n",
              "    .dataframe tbody tr th:only-of-type {\n",
              "        vertical-align: middle;\n",
              "    }\n",
              "\n",
              "    .dataframe tbody tr th {\n",
              "        vertical-align: top;\n",
              "    }\n",
              "\n",
              "    .dataframe thead th {\n",
              "        text-align: right;\n",
              "    }\n",
              "</style>\n",
              "<table border=\"1\" class=\"dataframe\">\n",
              "  <thead>\n",
              "    <tr style=\"text-align: right;\">\n",
              "      <th></th>\n",
              "      <th>continent</th>\n",
              "      <th>size</th>\n",
              "      <th>price</th>\n",
              "    </tr>\n",
              "  </thead>\n",
              "  <tbody>\n",
              "    <tr>\n",
              "      <th>0</th>\n",
              "      <td>2</td>\n",
              "      <td>10.7</td>\n",
              "      <td>144.0</td>\n",
              "    </tr>\n",
              "    <tr>\n",
              "      <th>1</th>\n",
              "      <td>2</td>\n",
              "      <td>14.0</td>\n",
              "      <td>215.0</td>\n",
              "    </tr>\n",
              "    <tr>\n",
              "      <th>2</th>\n",
              "      <td>2</td>\n",
              "      <td>9.0</td>\n",
              "      <td>105.0</td>\n",
              "    </tr>\n",
              "    <tr>\n",
              "      <th>3</th>\n",
              "      <td>1</td>\n",
              "      <td>8.0</td>\n",
              "      <td>69.0</td>\n",
              "    </tr>\n",
              "    <tr>\n",
              "      <th>4</th>\n",
              "      <td>2</td>\n",
              "      <td>10.0</td>\n",
              "      <td>134.0</td>\n",
              "    </tr>\n",
              "    <tr>\n",
              "      <th>...</th>\n",
              "      <td>...</td>\n",
              "      <td>...</td>\n",
              "      <td>...</td>\n",
              "    </tr>\n",
              "    <tr>\n",
              "      <th>58</th>\n",
              "      <td>1</td>\n",
              "      <td>5.0</td>\n",
              "      <td>21.5</td>\n",
              "    </tr>\n",
              "    <tr>\n",
              "      <th>59</th>\n",
              "      <td>2</td>\n",
              "      <td>21.0</td>\n",
              "      <td>NaN</td>\n",
              "    </tr>\n",
              "    <tr>\n",
              "      <th>60</th>\n",
              "      <td>2</td>\n",
              "      <td>5.0</td>\n",
              "      <td>NaN</td>\n",
              "    </tr>\n",
              "    <tr>\n",
              "      <th>61</th>\n",
              "      <td>2</td>\n",
              "      <td>13.0</td>\n",
              "      <td>NaN</td>\n",
              "    </tr>\n",
              "    <tr>\n",
              "      <th>62</th>\n",
              "      <td>2</td>\n",
              "      <td>31.0</td>\n",
              "      <td>NaN</td>\n",
              "    </tr>\n",
              "  </tbody>\n",
              "</table>\n",
              "<p>63 rows × 3 columns</p>\n",
              "</div>"
            ],
            "text/plain": [
              "    continent  size  price\n",
              "0           2  10.7  144.0\n",
              "1           2  14.0  215.0\n",
              "2           2   9.0  105.0\n",
              "3           1   8.0   69.0\n",
              "4           2  10.0  134.0\n",
              "..        ...   ...    ...\n",
              "58          1   5.0   21.5\n",
              "59          2  21.0    NaN\n",
              "60          2   5.0    NaN\n",
              "61          2  13.0    NaN\n",
              "62          2  31.0    NaN\n",
              "\n",
              "[63 rows x 3 columns]"
            ]
          },
          "execution_count": 45,
          "metadata": {},
          "output_type": "execute_result"
        }
      ],
      "source": [
        "# 0번, 2번, 4번째 열(컬럼)만 출력\n",
        "df[df.columns[[0,2,4]]]"
      ]
    },
    {
      "cell_type": "code",
      "execution_count": null,
      "metadata": {
        "id": "As-3EWw1XccL",
        "outputId": "44c14c20-7028-436b-8c49-19c8e6b68123"
      },
      "outputs": [
        {
          "data": {
            "text/html": [
              "<div>\n",
              "<style scoped>\n",
              "    .dataframe tbody tr th:only-of-type {\n",
              "        vertical-align: middle;\n",
              "    }\n",
              "\n",
              "    .dataframe tbody tr th {\n",
              "        vertical-align: top;\n",
              "    }\n",
              "\n",
              "    .dataframe thead th {\n",
              "        text-align: right;\n",
              "    }\n",
              "</style>\n",
              "<table border=\"1\" class=\"dataframe\">\n",
              "  <thead>\n",
              "    <tr style=\"text-align: right;\">\n",
              "      <th></th>\n",
              "      <th>size</th>\n",
              "      <th>period</th>\n",
              "      <th>price</th>\n",
              "    </tr>\n",
              "  </thead>\n",
              "  <tbody>\n",
              "    <tr>\n",
              "      <th>0</th>\n",
              "      <td>10.7</td>\n",
              "      <td>47.65</td>\n",
              "      <td>144.0</td>\n",
              "    </tr>\n",
              "    <tr>\n",
              "      <th>1</th>\n",
              "      <td>14.0</td>\n",
              "      <td>63.13</td>\n",
              "      <td>215.0</td>\n",
              "    </tr>\n",
              "    <tr>\n",
              "      <th>2</th>\n",
              "      <td>9.0</td>\n",
              "      <td>58.76</td>\n",
              "      <td>105.0</td>\n",
              "    </tr>\n",
              "    <tr>\n",
              "      <th>3</th>\n",
              "      <td>8.0</td>\n",
              "      <td>34.88</td>\n",
              "      <td>69.0</td>\n",
              "    </tr>\n",
              "    <tr>\n",
              "      <th>4</th>\n",
              "      <td>10.0</td>\n",
              "      <td>55.53</td>\n",
              "      <td>134.0</td>\n",
              "    </tr>\n",
              "    <tr>\n",
              "      <th>...</th>\n",
              "      <td>...</td>\n",
              "      <td>...</td>\n",
              "      <td>...</td>\n",
              "    </tr>\n",
              "    <tr>\n",
              "      <th>58</th>\n",
              "      <td>5.0</td>\n",
              "      <td>16.66</td>\n",
              "      <td>21.5</td>\n",
              "    </tr>\n",
              "    <tr>\n",
              "      <th>59</th>\n",
              "      <td>21.0</td>\n",
              "      <td>43.00</td>\n",
              "      <td>NaN</td>\n",
              "    </tr>\n",
              "    <tr>\n",
              "      <th>60</th>\n",
              "      <td>5.0</td>\n",
              "      <td>12.00</td>\n",
              "      <td>NaN</td>\n",
              "    </tr>\n",
              "    <tr>\n",
              "      <th>61</th>\n",
              "      <td>13.0</td>\n",
              "      <td>20.00</td>\n",
              "      <td>NaN</td>\n",
              "    </tr>\n",
              "    <tr>\n",
              "      <th>62</th>\n",
              "      <td>31.0</td>\n",
              "      <td>19.00</td>\n",
              "      <td>NaN</td>\n",
              "    </tr>\n",
              "  </tbody>\n",
              "</table>\n",
              "<p>63 rows × 3 columns</p>\n",
              "</div>"
            ],
            "text/plain": [
              "    size  period  price\n",
              "0   10.7   47.65  144.0\n",
              "1   14.0   63.13  215.0\n",
              "2    9.0   58.76  105.0\n",
              "3    8.0   34.88   69.0\n",
              "4   10.0   55.53  134.0\n",
              "..   ...     ...    ...\n",
              "58   5.0   16.66   21.5\n",
              "59  21.0   43.00    NaN\n",
              "60   5.0   12.00    NaN\n",
              "61  13.0   20.00    NaN\n",
              "62  31.0   19.00    NaN\n",
              "\n",
              "[63 rows x 3 columns]"
            ]
          },
          "execution_count": 46,
          "metadata": {},
          "output_type": "execute_result"
        }
      ],
      "source": [
        "# size부터 price까지 출력\n",
        "df.loc[:, 'size':'price']"
      ]
    },
    {
      "cell_type": "code",
      "execution_count": null,
      "metadata": {
        "id": "wMAIGt9cXccL",
        "outputId": "843450a8-82e1-4318-aa00-22cccb47f88e"
      },
      "outputs": [
        {
          "data": {
            "text/html": [
              "<div>\n",
              "<style scoped>\n",
              "    .dataframe tbody tr th:only-of-type {\n",
              "        vertical-align: middle;\n",
              "    }\n",
              "\n",
              "    .dataframe tbody tr th {\n",
              "        vertical-align: top;\n",
              "    }\n",
              "\n",
              "    .dataframe thead th {\n",
              "        text-align: right;\n",
              "    }\n",
              "</style>\n",
              "<table border=\"1\" class=\"dataframe\">\n",
              "  <thead>\n",
              "    <tr style=\"text-align: right;\">\n",
              "      <th></th>\n",
              "      <th>continent</th>\n",
              "      <th>brand</th>\n",
              "    </tr>\n",
              "  </thead>\n",
              "  <tbody>\n",
              "    <tr>\n",
              "      <th>1</th>\n",
              "      <td>2</td>\n",
              "      <td>3</td>\n",
              "    </tr>\n",
              "    <tr>\n",
              "      <th>2</th>\n",
              "      <td>2</td>\n",
              "      <td>2</td>\n",
              "    </tr>\n",
              "    <tr>\n",
              "      <th>3</th>\n",
              "      <td>1</td>\n",
              "      <td>1</td>\n",
              "    </tr>\n",
              "    <tr>\n",
              "      <th>4</th>\n",
              "      <td>2</td>\n",
              "      <td>2</td>\n",
              "    </tr>\n",
              "    <tr>\n",
              "      <th>5</th>\n",
              "      <td>2</td>\n",
              "      <td>2</td>\n",
              "    </tr>\n",
              "    <tr>\n",
              "      <th>6</th>\n",
              "      <td>2</td>\n",
              "      <td>2</td>\n",
              "    </tr>\n",
              "  </tbody>\n",
              "</table>\n",
              "</div>"
            ],
            "text/plain": [
              "   continent  brand\n",
              "1          2      3\n",
              "2          2      2\n",
              "3          1      1\n",
              "4          2      2\n",
              "5          2      2\n",
              "6          2      2"
            ]
          },
          "execution_count": 47,
          "metadata": {},
          "output_type": "execute_result"
        }
      ],
      "source": [
        "# 1~7행(케이스), 0~2열(변수)만 불러오기\n",
        "df.iloc[1:7, 0:2]"
      ]
    },
    {
      "cell_type": "code",
      "execution_count": null,
      "metadata": {
        "id": "FoHWWLlgXccL",
        "outputId": "06a067ef-762a-473b-fcb7-a5e96f2cb129"
      },
      "outputs": [
        {
          "data": {
            "text/plain": [
              "129.0"
            ]
          },
          "execution_count": 48,
          "metadata": {},
          "output_type": "execute_result"
        }
      ],
      "source": [
        "# 5행(케이스)의 price 변수 해당 값 불러오기\n",
        "df.at[5, 'price']"
      ]
    },
    {
      "cell_type": "markdown",
      "metadata": {
        "id": "o_WvKd05XccL"
      },
      "source": [
        "## 5.3 데이터 변환하기"
      ]
    },
    {
      "cell_type": "markdown",
      "metadata": {
        "id": "uSHfkQs8XccL"
      },
      "source": [
        "### 가. 복사, 추가, 삭제"
      ]
    },
    {
      "cell_type": "code",
      "execution_count": null,
      "metadata": {
        "id": "vpzcqpFtXccL"
      },
      "outputs": [],
      "source": [
        "#데이터 프레임 전체 복사 (백업)\n",
        "df_columns = df.copy()"
      ]
    },
    {
      "cell_type": "code",
      "execution_count": null,
      "metadata": {
        "id": "LaG0T5MMXccL",
        "outputId": "053884cb-ba04-4522-af37-d7c2f738fbc5"
      },
      "outputs": [
        {
          "data": {
            "text/plain": [
              "Index(['continent', 'brand', 'size', 'period', 'price'], dtype='object')"
            ]
          },
          "execution_count": 50,
          "metadata": {},
          "output_type": "execute_result"
        }
      ],
      "source": [
        "#데이터 프레임의 열(변수) 이름 확인\n",
        "df_columns.columns"
      ]
    },
    {
      "cell_type": "code",
      "execution_count": null,
      "metadata": {
        "id": "1Hxte-tzXccL",
        "outputId": "a13e99a9-b201-4abc-ad0f-d81ace8244a3"
      },
      "outputs": [
        {
          "data": {
            "text/html": [
              "<div>\n",
              "<style scoped>\n",
              "    .dataframe tbody tr th:only-of-type {\n",
              "        vertical-align: middle;\n",
              "    }\n",
              "\n",
              "    .dataframe tbody tr th {\n",
              "        vertical-align: top;\n",
              "    }\n",
              "\n",
              "    .dataframe thead th {\n",
              "        text-align: right;\n",
              "    }\n",
              "</style>\n",
              "<table border=\"1\" class=\"dataframe\">\n",
              "  <thead>\n",
              "    <tr style=\"text-align: right;\">\n",
              "      <th></th>\n",
              "      <th>size</th>\n",
              "      <th>period</th>\n",
              "      <th>price</th>\n",
              "    </tr>\n",
              "  </thead>\n",
              "  <tbody>\n",
              "    <tr>\n",
              "      <th>0</th>\n",
              "      <td>10.7</td>\n",
              "      <td>47.65</td>\n",
              "      <td>144.0</td>\n",
              "    </tr>\n",
              "    <tr>\n",
              "      <th>1</th>\n",
              "      <td>14.0</td>\n",
              "      <td>63.13</td>\n",
              "      <td>215.0</td>\n",
              "    </tr>\n",
              "    <tr>\n",
              "      <th>2</th>\n",
              "      <td>9.0</td>\n",
              "      <td>58.76</td>\n",
              "      <td>105.0</td>\n",
              "    </tr>\n",
              "    <tr>\n",
              "      <th>3</th>\n",
              "      <td>8.0</td>\n",
              "      <td>34.88</td>\n",
              "      <td>69.0</td>\n",
              "    </tr>\n",
              "    <tr>\n",
              "      <th>4</th>\n",
              "      <td>10.0</td>\n",
              "      <td>55.53</td>\n",
              "      <td>134.0</td>\n",
              "    </tr>\n",
              "  </tbody>\n",
              "</table>\n",
              "</div>"
            ],
            "text/plain": [
              "   size  period  price\n",
              "0  10.7   47.65  144.0\n",
              "1  14.0   63.13  215.0\n",
              "2   9.0   58.76  105.0\n",
              "3   8.0   34.88   69.0\n",
              "4  10.0   55.53  134.0"
            ]
          },
          "execution_count": 51,
          "metadata": {},
          "output_type": "execute_result"
        }
      ],
      "source": [
        "#데이터 프레임 열 필터링\n",
        "df_columns = df_columns[['size','period','price']]\n",
        "df_columns.head()"
      ]
    },
    {
      "cell_type": "markdown",
      "metadata": {
        "id": "kJrLrEQuXccM"
      },
      "source": [
        "### 나. 변수이름 변경, 행추가 및 삭제"
      ]
    },
    {
      "cell_type": "code",
      "execution_count": null,
      "metadata": {
        "id": "RtvJhdiyXccO",
        "outputId": "64c7a176-d5b7-4c93-e642-36a4cc976dd9"
      },
      "outputs": [
        {
          "data": {
            "text/plain": [
              "Index(['size', 'time', 'price'], dtype='object')"
            ]
          },
          "execution_count": 52,
          "metadata": {},
          "output_type": "execute_result"
        }
      ],
      "source": [
        "# 데이터 열(변수) 이름 수정: period -> time\n",
        "df_columns.rename(columns={'period': 'time'}, inplace=True)\n",
        "df_columns.columns"
      ]
    },
    {
      "cell_type": "code",
      "execution_count": null,
      "metadata": {
        "id": "wMbiCX8IXccO",
        "outputId": "6246fad7-b726-495b-abf4-80e563aeb6ba"
      },
      "outputs": [
        {
          "data": {
            "text/html": [
              "<div>\n",
              "<style scoped>\n",
              "    .dataframe tbody tr th:only-of-type {\n",
              "        vertical-align: middle;\n",
              "    }\n",
              "\n",
              "    .dataframe tbody tr th {\n",
              "        vertical-align: top;\n",
              "    }\n",
              "\n",
              "    .dataframe thead th {\n",
              "        text-align: right;\n",
              "    }\n",
              "</style>\n",
              "<table border=\"1\" class=\"dataframe\">\n",
              "  <thead>\n",
              "    <tr style=\"text-align: right;\">\n",
              "      <th></th>\n",
              "      <th>size</th>\n",
              "      <th>time</th>\n",
              "      <th>price</th>\n",
              "      <th>growth</th>\n",
              "    </tr>\n",
              "  </thead>\n",
              "  <tbody>\n",
              "    <tr>\n",
              "      <th>0</th>\n",
              "      <td>10.7</td>\n",
              "      <td>47.65</td>\n",
              "      <td>144.0</td>\n",
              "      <td>0.224554</td>\n",
              "    </tr>\n",
              "    <tr>\n",
              "      <th>1</th>\n",
              "      <td>14.0</td>\n",
              "      <td>63.13</td>\n",
              "      <td>215.0</td>\n",
              "      <td>0.221765</td>\n",
              "    </tr>\n",
              "    <tr>\n",
              "      <th>2</th>\n",
              "      <td>9.0</td>\n",
              "      <td>58.76</td>\n",
              "      <td>105.0</td>\n",
              "      <td>0.153165</td>\n",
              "    </tr>\n",
              "    <tr>\n",
              "      <th>3</th>\n",
              "      <td>8.0</td>\n",
              "      <td>34.88</td>\n",
              "      <td>69.0</td>\n",
              "      <td>0.229358</td>\n",
              "    </tr>\n",
              "    <tr>\n",
              "      <th>4</th>\n",
              "      <td>10.0</td>\n",
              "      <td>55.53</td>\n",
              "      <td>134.0</td>\n",
              "      <td>0.180083</td>\n",
              "    </tr>\n",
              "  </tbody>\n",
              "</table>\n",
              "</div>"
            ],
            "text/plain": [
              "   size   time  price    growth\n",
              "0  10.7  47.65  144.0  0.224554\n",
              "1  14.0  63.13  215.0  0.221765\n",
              "2   9.0  58.76  105.0  0.153165\n",
              "3   8.0  34.88   69.0  0.229358\n",
              "4  10.0  55.53  134.0  0.180083"
            ]
          },
          "execution_count": 53,
          "metadata": {},
          "output_type": "execute_result"
        }
      ],
      "source": [
        "# size를 time으로 나누어 월별 포도크기로 계산하여 growth 변수 생성\n",
        "df_columns['growth']=df_columns['size']/df_columns['time']\n",
        "df_columns.head()"
      ]
    },
    {
      "cell_type": "code",
      "execution_count": null,
      "metadata": {
        "id": "E8_9BsPbXccO"
      },
      "outputs": [],
      "source": [
        "# 특정 변수 삭제: growth 삭제\n",
        "del df_columns['growth']"
      ]
    },
    {
      "cell_type": "markdown",
      "metadata": {
        "id": "NGAR24CWXccO"
      },
      "source": [
        "### 다. 데이터 케이스 추출"
      ]
    },
    {
      "cell_type": "code",
      "execution_count": null,
      "metadata": {
        "id": "WmA88DrFXccO",
        "outputId": "25c6e714-34a2-403a-f9e0-8a1fd375fd67"
      },
      "outputs": [
        {
          "data": {
            "text/html": [
              "<div>\n",
              "<style scoped>\n",
              "    .dataframe tbody tr th:only-of-type {\n",
              "        vertical-align: middle;\n",
              "    }\n",
              "\n",
              "    .dataframe tbody tr th {\n",
              "        vertical-align: top;\n",
              "    }\n",
              "\n",
              "    .dataframe thead th {\n",
              "        text-align: right;\n",
              "    }\n",
              "</style>\n",
              "<table border=\"1\" class=\"dataframe\">\n",
              "  <thead>\n",
              "    <tr style=\"text-align: right;\">\n",
              "      <th></th>\n",
              "      <th>continent</th>\n",
              "      <th>brand</th>\n",
              "      <th>size</th>\n",
              "      <th>period</th>\n",
              "      <th>price</th>\n",
              "    </tr>\n",
              "  </thead>\n",
              "  <tbody>\n",
              "    <tr>\n",
              "      <th>3</th>\n",
              "      <td>1</td>\n",
              "      <td>1</td>\n",
              "      <td>8.0</td>\n",
              "      <td>34.88</td>\n",
              "      <td>69.0</td>\n",
              "    </tr>\n",
              "    <tr>\n",
              "      <th>11</th>\n",
              "      <td>1</td>\n",
              "      <td>1</td>\n",
              "      <td>10.4</td>\n",
              "      <td>17.67</td>\n",
              "      <td>54.0</td>\n",
              "    </tr>\n",
              "    <tr>\n",
              "      <th>12</th>\n",
              "      <td>1</td>\n",
              "      <td>1</td>\n",
              "      <td>7.4</td>\n",
              "      <td>16.41</td>\n",
              "      <td>39.0</td>\n",
              "    </tr>\n",
              "    <tr>\n",
              "      <th>13</th>\n",
              "      <td>1</td>\n",
              "      <td>1</td>\n",
              "      <td>5.4</td>\n",
              "      <td>12.02</td>\n",
              "      <td>29.5</td>\n",
              "    </tr>\n",
              "    <tr>\n",
              "      <th>16</th>\n",
              "      <td>1</td>\n",
              "      <td>1</td>\n",
              "      <td>6.0</td>\n",
              "      <td>23.21</td>\n",
              "      <td>42.0</td>\n",
              "    </tr>\n",
              "  </tbody>\n",
              "</table>\n",
              "</div>"
            ],
            "text/plain": [
              "    continent  brand  size  period  price\n",
              "3           1      1   8.0   34.88   69.0\n",
              "11          1      1  10.4   17.67   54.0\n",
              "12          1      1   7.4   16.41   39.0\n",
              "13          1      1   5.4   12.02   29.5\n",
              "16          1      1   6.0   23.21   42.0"
            ]
          },
          "execution_count": 55,
          "metadata": {},
          "output_type": "execute_result"
        }
      ],
      "source": [
        "# 특정 케이스 선택1: 집단선택\n",
        "df_continent_brand=df[(df['continent']==1) & (df['brand']==1)]\n",
        "df_continent_brand.head()"
      ]
    },
    {
      "cell_type": "code",
      "execution_count": null,
      "metadata": {
        "id": "joK_-eDXXccO",
        "outputId": "48c4c610-a516-46ad-f119-89389a5a0d3f"
      },
      "outputs": [
        {
          "data": {
            "text/html": [
              "<div>\n",
              "<style scoped>\n",
              "    .dataframe tbody tr th:only-of-type {\n",
              "        vertical-align: middle;\n",
              "    }\n",
              "\n",
              "    .dataframe tbody tr th {\n",
              "        vertical-align: top;\n",
              "    }\n",
              "\n",
              "    .dataframe thead th {\n",
              "        text-align: right;\n",
              "    }\n",
              "</style>\n",
              "<table border=\"1\" class=\"dataframe\">\n",
              "  <thead>\n",
              "    <tr style=\"text-align: right;\">\n",
              "      <th></th>\n",
              "      <th>continent</th>\n",
              "      <th>brand</th>\n",
              "      <th>size</th>\n",
              "      <th>period</th>\n",
              "      <th>price</th>\n",
              "    </tr>\n",
              "  </thead>\n",
              "  <tbody>\n",
              "    <tr>\n",
              "      <th>0</th>\n",
              "      <td>2</td>\n",
              "      <td>2</td>\n",
              "      <td>10.7</td>\n",
              "      <td>47.65</td>\n",
              "      <td>144.0</td>\n",
              "    </tr>\n",
              "    <tr>\n",
              "      <th>1</th>\n",
              "      <td>2</td>\n",
              "      <td>3</td>\n",
              "      <td>14.0</td>\n",
              "      <td>63.13</td>\n",
              "      <td>215.0</td>\n",
              "    </tr>\n",
              "    <tr>\n",
              "      <th>4</th>\n",
              "      <td>2</td>\n",
              "      <td>2</td>\n",
              "      <td>10.0</td>\n",
              "      <td>55.53</td>\n",
              "      <td>134.0</td>\n",
              "    </tr>\n",
              "    <tr>\n",
              "      <th>5</th>\n",
              "      <td>2</td>\n",
              "      <td>2</td>\n",
              "      <td>10.5</td>\n",
              "      <td>43.14</td>\n",
              "      <td>129.0</td>\n",
              "    </tr>\n",
              "    <tr>\n",
              "      <th>6</th>\n",
              "      <td>2</td>\n",
              "      <td>2</td>\n",
              "      <td>16.0</td>\n",
              "      <td>54.86</td>\n",
              "      <td>155.0</td>\n",
              "    </tr>\n",
              "  </tbody>\n",
              "</table>\n",
              "</div>"
            ],
            "text/plain": [
              "   continent  brand  size  period  price\n",
              "0          2      2  10.7   47.65  144.0\n",
              "1          2      3  14.0   63.13  215.0\n",
              "4          2      2  10.0   55.53  134.0\n",
              "5          2      2  10.5   43.14  129.0\n",
              "6          2      2  16.0   54.86  155.0"
            ]
          },
          "execution_count": 56,
          "metadata": {},
          "output_type": "execute_result"
        }
      ],
      "source": [
        "# 특정 케이스 선택2: 기준값 이상 혹은 이하 선택\n",
        "df_over_size_period=df[(df['size']>=10) & (df['period']>=30)]\n",
        "df_over_size_period.head()"
      ]
    },
    {
      "cell_type": "markdown",
      "metadata": {
        "id": "oPe7RlU5XccO"
      },
      "source": [
        "### 라. 코딩변경"
      ]
    },
    {
      "cell_type": "code",
      "execution_count": null,
      "metadata": {
        "id": "N4yqqcMZXccP",
        "outputId": "e052c0f0-7438-4515-d9a5-021199c9a117"
      },
      "outputs": [
        {
          "data": {
            "text/html": [
              "<div>\n",
              "<style scoped>\n",
              "    .dataframe tbody tr th:only-of-type {\n",
              "        vertical-align: middle;\n",
              "    }\n",
              "\n",
              "    .dataframe tbody tr th {\n",
              "        vertical-align: top;\n",
              "    }\n",
              "\n",
              "    .dataframe thead th {\n",
              "        text-align: right;\n",
              "    }\n",
              "</style>\n",
              "<table border=\"1\" class=\"dataframe\">\n",
              "  <thead>\n",
              "    <tr style=\"text-align: right;\">\n",
              "      <th></th>\n",
              "      <th>size</th>\n",
              "      <th>time</th>\n",
              "      <th>price</th>\n",
              "    </tr>\n",
              "  </thead>\n",
              "  <tbody>\n",
              "    <tr>\n",
              "      <th>0</th>\n",
              "      <td>10.7</td>\n",
              "      <td>47.65</td>\n",
              "      <td>144.0</td>\n",
              "    </tr>\n",
              "    <tr>\n",
              "      <th>1</th>\n",
              "      <td>14.0</td>\n",
              "      <td>63.13</td>\n",
              "      <td>215.0</td>\n",
              "    </tr>\n",
              "    <tr>\n",
              "      <th>2</th>\n",
              "      <td>9.0</td>\n",
              "      <td>58.76</td>\n",
              "      <td>105.0</td>\n",
              "    </tr>\n",
              "    <tr>\n",
              "      <th>3</th>\n",
              "      <td>8.0</td>\n",
              "      <td>34.88</td>\n",
              "      <td>69.0</td>\n",
              "    </tr>\n",
              "    <tr>\n",
              "      <th>4</th>\n",
              "      <td>10.0</td>\n",
              "      <td>55.53</td>\n",
              "      <td>134.0</td>\n",
              "    </tr>\n",
              "  </tbody>\n",
              "</table>\n",
              "</div>"
            ],
            "text/plain": [
              "   size   time  price\n",
              "0  10.7  47.65  144.0\n",
              "1  14.0  63.13  215.0\n",
              "2   9.0  58.76  105.0\n",
              "3   8.0  34.88   69.0\n",
              "4  10.0  55.53  134.0"
            ]
          },
          "execution_count": 57,
          "metadata": {},
          "output_type": "execute_result"
        }
      ],
      "source": [
        "df_columns.head()"
      ]
    },
    {
      "cell_type": "code",
      "execution_count": null,
      "metadata": {
        "id": "fgDdxpH6XccP",
        "outputId": "23b0ee7e-5b6b-40e1-b5a5-207f369d6163"
      },
      "outputs": [
        {
          "data": {
            "text/plain": [
              "2    24\n",
              "1    23\n",
              "3    16\n",
              "Name: brand, dtype: int64"
            ]
          },
          "execution_count": 58,
          "metadata": {},
          "output_type": "execute_result"
        }
      ],
      "source": [
        "# brand 범주 카운트\n",
        "df['brand'].value_counts()"
      ]
    },
    {
      "cell_type": "markdown",
      "metadata": {
        "id": "r4jjWk8lXccP"
      },
      "source": [
        "- 방법1) replace 사용"
      ]
    },
    {
      "cell_type": "code",
      "execution_count": null,
      "metadata": {
        "id": "HoAZCEkNXccP"
      },
      "outputs": [],
      "source": [
        "# brand 1, 2, 3 집단을 1, 2로 묶기 (1/2 ->1, 3->2)\n",
        "recode_brand = {\"brand\": {1: 1, 2: 1, 3: 2}}"
      ]
    },
    {
      "cell_type": "code",
      "execution_count": null,
      "metadata": {
        "id": "isOPgoZxXccP",
        "outputId": "51d0f645-2b89-4e6f-d97e-470b5c3c89e5"
      },
      "outputs": [
        {
          "data": {
            "text/html": [
              "<div>\n",
              "<style scoped>\n",
              "    .dataframe tbody tr th:only-of-type {\n",
              "        vertical-align: middle;\n",
              "    }\n",
              "\n",
              "    .dataframe tbody tr th {\n",
              "        vertical-align: top;\n",
              "    }\n",
              "\n",
              "    .dataframe thead th {\n",
              "        text-align: right;\n",
              "    }\n",
              "</style>\n",
              "<table border=\"1\" class=\"dataframe\">\n",
              "  <thead>\n",
              "    <tr style=\"text-align: right;\">\n",
              "      <th></th>\n",
              "      <th>continent</th>\n",
              "      <th>brand</th>\n",
              "      <th>size</th>\n",
              "      <th>period</th>\n",
              "      <th>price</th>\n",
              "    </tr>\n",
              "  </thead>\n",
              "  <tbody>\n",
              "    <tr>\n",
              "      <th>0</th>\n",
              "      <td>2</td>\n",
              "      <td>1</td>\n",
              "      <td>10.7</td>\n",
              "      <td>47.65</td>\n",
              "      <td>144.0</td>\n",
              "    </tr>\n",
              "    <tr>\n",
              "      <th>1</th>\n",
              "      <td>2</td>\n",
              "      <td>2</td>\n",
              "      <td>14.0</td>\n",
              "      <td>63.13</td>\n",
              "      <td>215.0</td>\n",
              "    </tr>\n",
              "    <tr>\n",
              "      <th>2</th>\n",
              "      <td>2</td>\n",
              "      <td>1</td>\n",
              "      <td>9.0</td>\n",
              "      <td>58.76</td>\n",
              "      <td>105.0</td>\n",
              "    </tr>\n",
              "    <tr>\n",
              "      <th>3</th>\n",
              "      <td>1</td>\n",
              "      <td>1</td>\n",
              "      <td>8.0</td>\n",
              "      <td>34.88</td>\n",
              "      <td>69.0</td>\n",
              "    </tr>\n",
              "    <tr>\n",
              "      <th>4</th>\n",
              "      <td>2</td>\n",
              "      <td>1</td>\n",
              "      <td>10.0</td>\n",
              "      <td>55.53</td>\n",
              "      <td>134.0</td>\n",
              "    </tr>\n",
              "  </tbody>\n",
              "</table>\n",
              "</div>"
            ],
            "text/plain": [
              "   continent  brand  size  period  price\n",
              "0          2      1  10.7   47.65  144.0\n",
              "1          2      2  14.0   63.13  215.0\n",
              "2          2      1   9.0   58.76  105.0\n",
              "3          1      1   8.0   34.88   69.0\n",
              "4          2      1  10.0   55.53  134.0"
            ]
          },
          "execution_count": 60,
          "metadata": {},
          "output_type": "execute_result"
        }
      ],
      "source": [
        "df_recode1 = df.replace(recode_brand)\n",
        "df_recode1.head()"
      ]
    },
    {
      "cell_type": "code",
      "execution_count": null,
      "metadata": {
        "id": "XpvmyZ9ZXccP",
        "outputId": "bfd1b03e-1eaf-4aec-88ab-9af6ac88b974"
      },
      "outputs": [
        {
          "data": {
            "text/plain": [
              "1    47\n",
              "2    16\n",
              "Name: brand, dtype: int64"
            ]
          },
          "execution_count": 61,
          "metadata": {},
          "output_type": "execute_result"
        }
      ],
      "source": [
        "df_recode1['brand'].value_counts()"
      ]
    },
    {
      "cell_type": "markdown",
      "metadata": {
        "id": "PtgnncM6XccP"
      },
      "source": [
        "- 방법2) 함수정의 사용"
      ]
    },
    {
      "cell_type": "code",
      "execution_count": null,
      "metadata": {
        "id": "3a6E_ewsXccP",
        "outputId": "575d956e-b889-4aad-88a8-10819bb84133"
      },
      "outputs": [
        {
          "data": {
            "text/html": [
              "<div>\n",
              "<style scoped>\n",
              "    .dataframe tbody tr th:only-of-type {\n",
              "        vertical-align: middle;\n",
              "    }\n",
              "\n",
              "    .dataframe tbody tr th {\n",
              "        vertical-align: top;\n",
              "    }\n",
              "\n",
              "    .dataframe thead th {\n",
              "        text-align: right;\n",
              "    }\n",
              "</style>\n",
              "<table border=\"1\" class=\"dataframe\">\n",
              "  <thead>\n",
              "    <tr style=\"text-align: right;\">\n",
              "      <th></th>\n",
              "      <th>continent</th>\n",
              "      <th>brand</th>\n",
              "      <th>size</th>\n",
              "      <th>period</th>\n",
              "      <th>price</th>\n",
              "      <th>re_brand</th>\n",
              "    </tr>\n",
              "  </thead>\n",
              "  <tbody>\n",
              "    <tr>\n",
              "      <th>0</th>\n",
              "      <td>2</td>\n",
              "      <td>2</td>\n",
              "      <td>10.7</td>\n",
              "      <td>47.65</td>\n",
              "      <td>144.0</td>\n",
              "      <td>1</td>\n",
              "    </tr>\n",
              "    <tr>\n",
              "      <th>1</th>\n",
              "      <td>2</td>\n",
              "      <td>3</td>\n",
              "      <td>14.0</td>\n",
              "      <td>63.13</td>\n",
              "      <td>215.0</td>\n",
              "      <td>2</td>\n",
              "    </tr>\n",
              "    <tr>\n",
              "      <th>2</th>\n",
              "      <td>2</td>\n",
              "      <td>2</td>\n",
              "      <td>9.0</td>\n",
              "      <td>58.76</td>\n",
              "      <td>105.0</td>\n",
              "      <td>1</td>\n",
              "    </tr>\n",
              "    <tr>\n",
              "      <th>3</th>\n",
              "      <td>1</td>\n",
              "      <td>1</td>\n",
              "      <td>8.0</td>\n",
              "      <td>34.88</td>\n",
              "      <td>69.0</td>\n",
              "      <td>1</td>\n",
              "    </tr>\n",
              "    <tr>\n",
              "      <th>4</th>\n",
              "      <td>2</td>\n",
              "      <td>2</td>\n",
              "      <td>10.0</td>\n",
              "      <td>55.53</td>\n",
              "      <td>134.0</td>\n",
              "      <td>1</td>\n",
              "    </tr>\n",
              "  </tbody>\n",
              "</table>\n",
              "</div>"
            ],
            "text/plain": [
              "   continent  brand  size  period  price  re_brand\n",
              "0          2      2  10.7   47.65  144.0         1\n",
              "1          2      3  14.0   63.13  215.0         2\n",
              "2          2      2   9.0   58.76  105.0         1\n",
              "3          1      1   8.0   34.88   69.0         1\n",
              "4          2      2  10.0   55.53  134.0         1"
            ]
          },
          "execution_count": 62,
          "metadata": {},
          "output_type": "execute_result"
        }
      ],
      "source": [
        "# 코딩변경 함수 정의\n",
        "def brand_groups(series):\n",
        "    if series==1:\n",
        "        return 1\n",
        "    elif series==2:\n",
        "        return 1\n",
        "    elif series==3:\n",
        "        return 2\n",
        "\n",
        "df['re_brand']=df['brand'].apply(brand_groups)\n",
        "df.head()"
      ]
    },
    {
      "cell_type": "markdown",
      "metadata": {
        "id": "nfHM93gUXccP"
      },
      "source": [
        "### 마. pandas와 numpy 전환"
      ]
    },
    {
      "cell_type": "code",
      "execution_count": null,
      "metadata": {
        "id": "SrRvX1j_XccQ",
        "outputId": "c1ef9e33-7593-4631-cbb5-4fa4fb849bac"
      },
      "outputs": [
        {
          "data": {
            "text/html": [
              "<div>\n",
              "<style scoped>\n",
              "    .dataframe tbody tr th:only-of-type {\n",
              "        vertical-align: middle;\n",
              "    }\n",
              "\n",
              "    .dataframe tbody tr th {\n",
              "        vertical-align: top;\n",
              "    }\n",
              "\n",
              "    .dataframe thead th {\n",
              "        text-align: right;\n",
              "    }\n",
              "</style>\n",
              "<table border=\"1\" class=\"dataframe\">\n",
              "  <thead>\n",
              "    <tr style=\"text-align: right;\">\n",
              "      <th></th>\n",
              "      <th>continent</th>\n",
              "      <th>brand</th>\n",
              "      <th>size</th>\n",
              "      <th>period</th>\n",
              "      <th>price</th>\n",
              "    </tr>\n",
              "  </thead>\n",
              "  <tbody>\n",
              "    <tr>\n",
              "      <th>0</th>\n",
              "      <td>2</td>\n",
              "      <td>2</td>\n",
              "      <td>10.7</td>\n",
              "      <td>47.65</td>\n",
              "      <td>144</td>\n",
              "    </tr>\n",
              "    <tr>\n",
              "      <th>1</th>\n",
              "      <td>2</td>\n",
              "      <td>3</td>\n",
              "      <td>14.0</td>\n",
              "      <td>63.13</td>\n",
              "      <td>215</td>\n",
              "    </tr>\n",
              "    <tr>\n",
              "      <th>2</th>\n",
              "      <td>2</td>\n",
              "      <td>2</td>\n",
              "      <td>9.0</td>\n",
              "      <td>58.76</td>\n",
              "      <td>105</td>\n",
              "    </tr>\n",
              "    <tr>\n",
              "      <th>3</th>\n",
              "      <td>1</td>\n",
              "      <td>1</td>\n",
              "      <td>8.0</td>\n",
              "      <td>34.88</td>\n",
              "      <td>69</td>\n",
              "    </tr>\n",
              "    <tr>\n",
              "      <th>4</th>\n",
              "      <td>2</td>\n",
              "      <td>2</td>\n",
              "      <td>10.0</td>\n",
              "      <td>55.53</td>\n",
              "      <td>134</td>\n",
              "    </tr>\n",
              "  </tbody>\n",
              "</table>\n",
              "</div>"
            ],
            "text/plain": [
              "   continent  brand  size  period price\n",
              "0          2      2  10.7   47.65   144\n",
              "1          2      3  14.0   63.13   215\n",
              "2          2      2   9.0   58.76   105\n",
              "3          1      1   8.0   34.88    69\n",
              "4          2      2  10.0   55.53   134"
            ]
          },
          "execution_count": 63,
          "metadata": {},
          "output_type": "execute_result"
        }
      ],
      "source": [
        "# pandas 형태로 데이터 불러와서 확인\n",
        "import pandas as pd\n",
        "df=pd.read_csv('EX_GrapeData.csv')\n",
        "df.head()"
      ]
    },
    {
      "cell_type": "code",
      "execution_count": null,
      "metadata": {
        "id": "qmhM7qPoXccQ",
        "outputId": "9e25ca14-fe4d-4d49-8c21-4e10bed14e85"
      },
      "outputs": [
        {
          "data": {
            "text/plain": [
              "array([[2, 2, 10.7, 47.65, '144'],\n",
              "       [2, 3, 14.0, 63.13, '215'],\n",
              "       [2, 2, 9.0, 58.76, '105'],\n",
              "       [1, 1, 8.0, 34.88, '69'],\n",
              "       [2, 2, 10.0, 55.53, '134'],\n",
              "       [2, 2, 10.5, 43.14, '129'],\n",
              "       [2, 2, 16.0, 54.86, '155'],\n",
              "       [2, 1, 15.0, 44.14, '99'],\n",
              "       [2, 1, 6.5, 17.46, '38.5'],\n",
              "       [2, 1, 5.0, 21.04, '36.5'],\n",
              "       [2, 2, 25.0, 109.38, '260'],\n",
              "       [1, 1, 10.4, 17.67, '54'],\n",
              "       [1, 1, 7.4, 16.41, '39'],\n",
              "       [1, 1, 5.4, 12.02, '29.5'],\n",
              "       [2, 2, 15.4, 49.48, '109'],\n",
              "       [2, 1, 12.4, 48.74, '89.5'],\n",
              "       [1, 1, 6.0, 23.21, '42'],\n",
              "       [1, 1, 9.0, 28.64, '65'],\n",
              "       [1, 3, 9.0, 44.95, '115'],\n",
              "       [1, 1, 12.4, 23.77, '49.5'],\n",
              "       [1, 1, 7.5, 20.21, '36.5'],\n",
              "       [1, 3, 14.0, 32.62, '109'],\n",
              "       [1, 1, 7.0, 17.84, '45'],\n",
              "       [1, 2, 9.0, 22.82, '58'],\n",
              "       [1, 2, 12.0, 29.48, '89'],\n",
              "       [1, 1, 5.5, 15.61, '30'],\n",
              "       [1, 2, 6.0, 13.25, '31'],\n",
              "       [1, 3, 12.0, 45.78, '119'],\n",
              "       [2, 1, 5.5, 26.53, '22'],\n",
              "       [1, 3, 14.2, 37.11, '109'],\n",
              "       [2, 2, 11.0, 45.12, '99'],\n",
              "       [1, 2, 16.0, 26.09, '99'],\n",
              "       [2, 3, 13.5, 68.63, '179'],\n",
              "       [2, 2, 11.1, 33.71, '99'],\n",
              "       [2, 3, 9.8, 44.45, '89'],\n",
              "       [1, 2, 10.0, 23.74, '75'],\n",
              "       [2, 3, 13.0, 86.42, '199'],\n",
              "       [1, 3, 13.0, 39.71, '93'],\n",
              "       [1, 2, 11.7, 26.52, '65'],\n",
              "       [2, 2, 12.3, 33.89, '74'],\n",
              "       [2, 3, 19.5, 64.3, '165'],\n",
              "       [1, 3, 15.2, 22.55, '99'],\n",
              "       [1, 1, 10.0, 31.86, '43.5'],\n",
              "       [1, 3, 11.0, 53.18, '94'],\n",
              "       [2, 3, 17.8, 74.48, '189'],\n",
              "       [2, 2, 11.5, 34.16, '75'],\n",
              "       [2, 1, 12.7, 31.46, '59.5'],\n",
              "       [1, 1, 8.0, 21.34, '42'],\n",
              "       [2, 1, 7.5, 20.83, '23'],\n",
              "       [1, 2, 9.0, 20.59, '52.5'],\n",
              "       [2, 2, 14.0, 33.7, '99'],\n",
              "       [2, 2, 12.4, 32.9, '89'],\n",
              "       [2, 2, 8.8, 27.76, '65'],\n",
              "       [1, 1, 8.5, 30.2, '54.5'],\n",
              "       [1, 1, 6.0, 20.85, '24.5'],\n",
              "       [1, 2, 11.0, 26.25, '52'],\n",
              "       [1, 2, 11.1, 21.87, '62.5'],\n",
              "       [1, 3, 14.5, 23.88, '89'],\n",
              "       [1, 1, 5.0, 16.66, '21.5'],\n",
              "       [2, 1, 21.0, 43.0, ' '],\n",
              "       [2, 2, 5.0, 12.0, ' '],\n",
              "       [2, 3, 13.0, 20.0, ' '],\n",
              "       [2, 3, 31.0, 19.0, ' ']], dtype=object)"
            ]
          },
          "execution_count": 64,
          "metadata": {},
          "output_type": "execute_result"
        }
      ],
      "source": [
        "# pandas를 numpy로 변환\n",
        "df_num=df.to_numpy()\n",
        "df_num"
      ]
    },
    {
      "cell_type": "code",
      "execution_count": null,
      "metadata": {
        "id": "AFaA8su0XccQ",
        "outputId": "1c3e3d61-464d-4fc7-b86f-ec956316f23b"
      },
      "outputs": [
        {
          "data": {
            "text/html": [
              "<div>\n",
              "<style scoped>\n",
              "    .dataframe tbody tr th:only-of-type {\n",
              "        vertical-align: middle;\n",
              "    }\n",
              "\n",
              "    .dataframe tbody tr th {\n",
              "        vertical-align: top;\n",
              "    }\n",
              "\n",
              "    .dataframe thead th {\n",
              "        text-align: right;\n",
              "    }\n",
              "</style>\n",
              "<table border=\"1\" class=\"dataframe\">\n",
              "  <thead>\n",
              "    <tr style=\"text-align: right;\">\n",
              "      <th></th>\n",
              "      <th>0</th>\n",
              "      <th>1</th>\n",
              "      <th>2</th>\n",
              "      <th>3</th>\n",
              "      <th>4</th>\n",
              "    </tr>\n",
              "  </thead>\n",
              "  <tbody>\n",
              "    <tr>\n",
              "      <th>0</th>\n",
              "      <td>2</td>\n",
              "      <td>2</td>\n",
              "      <td>10.7</td>\n",
              "      <td>47.65</td>\n",
              "      <td>144</td>\n",
              "    </tr>\n",
              "    <tr>\n",
              "      <th>1</th>\n",
              "      <td>2</td>\n",
              "      <td>3</td>\n",
              "      <td>14.0</td>\n",
              "      <td>63.13</td>\n",
              "      <td>215</td>\n",
              "    </tr>\n",
              "    <tr>\n",
              "      <th>2</th>\n",
              "      <td>2</td>\n",
              "      <td>2</td>\n",
              "      <td>9.0</td>\n",
              "      <td>58.76</td>\n",
              "      <td>105</td>\n",
              "    </tr>\n",
              "    <tr>\n",
              "      <th>3</th>\n",
              "      <td>1</td>\n",
              "      <td>1</td>\n",
              "      <td>8.0</td>\n",
              "      <td>34.88</td>\n",
              "      <td>69</td>\n",
              "    </tr>\n",
              "    <tr>\n",
              "      <th>4</th>\n",
              "      <td>2</td>\n",
              "      <td>2</td>\n",
              "      <td>10.0</td>\n",
              "      <td>55.53</td>\n",
              "      <td>134</td>\n",
              "    </tr>\n",
              "  </tbody>\n",
              "</table>\n",
              "</div>"
            ],
            "text/plain": [
              "   0  1     2      3    4\n",
              "0  2  2  10.7  47.65  144\n",
              "1  2  3  14.0  63.13  215\n",
              "2  2  2   9.0  58.76  105\n",
              "3  1  1   8.0  34.88   69\n",
              "4  2  2  10.0  55.53  134"
            ]
          },
          "execution_count": 65,
          "metadata": {},
          "output_type": "execute_result"
        }
      ],
      "source": [
        "# numpy를 pandas로 변환 (변수명 미지정)\n",
        "df_pd = pd.DataFrame(df_num)\n",
        "df_pd.head()"
      ]
    },
    {
      "cell_type": "code",
      "execution_count": null,
      "metadata": {
        "id": "gQXdfeyBXccQ",
        "outputId": "7bf39b50-07be-4c63-b8e0-669e711d9fd1"
      },
      "outputs": [
        {
          "data": {
            "text/html": [
              "<div>\n",
              "<style scoped>\n",
              "    .dataframe tbody tr th:only-of-type {\n",
              "        vertical-align: middle;\n",
              "    }\n",
              "\n",
              "    .dataframe tbody tr th {\n",
              "        vertical-align: top;\n",
              "    }\n",
              "\n",
              "    .dataframe thead th {\n",
              "        text-align: right;\n",
              "    }\n",
              "</style>\n",
              "<table border=\"1\" class=\"dataframe\">\n",
              "  <thead>\n",
              "    <tr style=\"text-align: right;\">\n",
              "      <th></th>\n",
              "      <th>continent</th>\n",
              "      <th>brand</th>\n",
              "      <th>size</th>\n",
              "      <th>period</th>\n",
              "      <th>price</th>\n",
              "    </tr>\n",
              "  </thead>\n",
              "  <tbody>\n",
              "    <tr>\n",
              "      <th>0</th>\n",
              "      <td>2</td>\n",
              "      <td>2</td>\n",
              "      <td>10.7</td>\n",
              "      <td>47.65</td>\n",
              "      <td>144</td>\n",
              "    </tr>\n",
              "    <tr>\n",
              "      <th>1</th>\n",
              "      <td>2</td>\n",
              "      <td>3</td>\n",
              "      <td>14.0</td>\n",
              "      <td>63.13</td>\n",
              "      <td>215</td>\n",
              "    </tr>\n",
              "    <tr>\n",
              "      <th>2</th>\n",
              "      <td>2</td>\n",
              "      <td>2</td>\n",
              "      <td>9.0</td>\n",
              "      <td>58.76</td>\n",
              "      <td>105</td>\n",
              "    </tr>\n",
              "    <tr>\n",
              "      <th>3</th>\n",
              "      <td>1</td>\n",
              "      <td>1</td>\n",
              "      <td>8.0</td>\n",
              "      <td>34.88</td>\n",
              "      <td>69</td>\n",
              "    </tr>\n",
              "    <tr>\n",
              "      <th>4</th>\n",
              "      <td>2</td>\n",
              "      <td>2</td>\n",
              "      <td>10.0</td>\n",
              "      <td>55.53</td>\n",
              "      <td>134</td>\n",
              "    </tr>\n",
              "  </tbody>\n",
              "</table>\n",
              "</div>"
            ],
            "text/plain": [
              "  continent brand  size period price\n",
              "0         2     2  10.7  47.65   144\n",
              "1         2     3  14.0  63.13   215\n",
              "2         2     2   9.0  58.76   105\n",
              "3         1     1   8.0  34.88    69\n",
              "4         2     2  10.0  55.53   134"
            ]
          },
          "execution_count": 66,
          "metadata": {},
          "output_type": "execute_result"
        }
      ],
      "source": [
        "# numpy를 pandas로 변환 (변수명 지정)\n",
        "df_pd2 = pd.DataFrame(data = df_num, columns = [\"continent\", \"brand\", \"size\", \"period\", \"price\"])\n",
        "df_pd2.head()"
      ]
    },
    {
      "cell_type": "markdown",
      "metadata": {
        "id": "Vj0dwJxmXccQ"
      },
      "source": [
        "### 바. csv파일로 저장"
      ]
    },
    {
      "cell_type": "code",
      "execution_count": null,
      "metadata": {
        "id": "AgfPGaJoXccQ"
      },
      "outputs": [],
      "source": [
        "# 데이터셋명.to_csv(\"새로운파일명.csv\", index=True/False, encoding='utf-8'/'euc-kr', 'cp949')\n",
        "df.to_csv('new_data.csv', index=False, encoding='utf-8')"
      ]
    }
  ],
  "metadata": {
    "kernelspec": {
      "display_name": "Python 3",
      "language": "python",
      "name": "python3"
    },
    "language_info": {
      "codemirror_mode": {
        "name": "ipython",
        "version": 3
      },
      "file_extension": ".py",
      "mimetype": "text/x-python",
      "name": "python",
      "nbconvert_exporter": "python",
      "pygments_lexer": "ipython3",
      "version": "3.8.8"
    },
    "colab": {
      "provenance": [],
      "include_colab_link": true
    }
  },
  "nbformat": 4,
  "nbformat_minor": 0
}