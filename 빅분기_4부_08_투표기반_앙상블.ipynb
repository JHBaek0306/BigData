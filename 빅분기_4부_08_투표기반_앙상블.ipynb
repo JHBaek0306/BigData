{
  "cells": [
    {
      "cell_type": "markdown",
      "metadata": {
        "id": "view-in-github",
        "colab_type": "text"
      },
      "source": [
        "<a href=\"https://colab.research.google.com/github/JHBaek0306/BigData/blob/main/%EB%B9%85%EB%B6%84%EA%B8%B0_4%EB%B6%80_08_%ED%88%AC%ED%91%9C%EA%B8%B0%EB%B0%98_%EC%95%99%EC%83%81%EB%B8%94.ipynb\" target=\"_parent\"><img src=\"https://colab.research.google.com/assets/colab-badge.svg\" alt=\"Open In Colab\"/></a>"
      ]
    },
    {
      "cell_type": "markdown",
      "metadata": {
        "id": "-DjMTPqwe-fK"
      },
      "source": [
        "# Part1. 분류(Classification)"
      ]
    },
    {
      "cell_type": "markdown",
      "metadata": {
        "id": "6zGbL4Pve-fN"
      },
      "source": [
        "# 1. 분석 데이터 준비"
      ]
    },
    {
      "cell_type": "code",
      "execution_count": null,
      "metadata": {
        "id": "jwyN9CHJe-fN"
      },
      "outputs": [],
      "source": [
        "import warnings\n",
        "warnings.filterwarnings(\"ignore\")\n",
        "import pandas as pd\n",
        "data1=pd.read_csv('breast-cancer-wisconsin.csv', encoding='utf-8')\n",
        "X=data1[data1.columns[1:10]]\n",
        "y=data1[[\"Class\"]]"
      ]
    },
    {
      "cell_type": "code",
      "execution_count": null,
      "metadata": {
        "id": "41uj4CBNe-fP"
      },
      "outputs": [],
      "source": [
        "from sklearn.model_selection import train_test_split\n",
        "X_train, X_test, y_train, y_test=train_test_split(X, y, stratify=y, random_state=42)"
      ]
    },
    {
      "cell_type": "code",
      "execution_count": null,
      "metadata": {
        "id": "e8lVaB4fe-fP"
      },
      "outputs": [],
      "source": [
        "from sklearn.preprocessing import MinMaxScaler\n",
        "scaler=MinMaxScaler()\n",
        "scaler.fit(X_train)\n",
        "X_scaled_train=scaler.transform(X_train)\n",
        "X_scaled_test=scaler.transform(X_test)"
      ]
    },
    {
      "cell_type": "markdown",
      "metadata": {
        "id": "UBNJrIYFe-fP"
      },
      "source": [
        "# 2. 강한 학습기: hard learner"
      ]
    },
    {
      "cell_type": "code",
      "execution_count": null,
      "metadata": {
        "id": "E-CESwZCe-fQ",
        "outputId": "d9297ece-7b8f-4fe4-96a5-d8195b25e58f"
      },
      "outputs": [
        {
          "data": {
            "text/plain": [
              "VotingClassifier(estimators=[('lr', LogisticRegression(random_state=42)),\n",
              "                             ('rf', RandomForestClassifier(random_state=42)),\n",
              "                             ('svc', SVC(random_state=42))])"
            ]
          },
          "execution_count": 4,
          "metadata": {},
          "output_type": "execute_result"
        }
      ],
      "source": [
        "from sklearn.ensemble import RandomForestClassifier\n",
        "from sklearn.linear_model import LogisticRegression\n",
        "from sklearn.svm import SVC\n",
        "from sklearn.ensemble import VotingClassifier\n",
        "\n",
        "logit_model= LogisticRegression(random_state=42)\n",
        "rnf_model = RandomForestClassifier(random_state=42)\n",
        "svm_model = SVC(random_state=42)\n",
        "\n",
        "voting_hard = VotingClassifier(\n",
        "    estimators=[('lr', logit_model), ('rf', rnf_model), ('svc', svm_model)], voting='hard')\n",
        "voting_hard.fit(X_scaled_train, y_train)"
      ]
    },
    {
      "cell_type": "code",
      "execution_count": null,
      "metadata": {
        "id": "8tlcPZm8e-fQ",
        "outputId": "89c6c47d-4af2-4d29-db50-617c4e5461a1"
      },
      "outputs": [
        {
          "name": "stdout",
          "output_type": "stream",
          "text": [
            "LogisticRegression 0.9590643274853801\n",
            "RandomForestClassifier 0.9649122807017544\n",
            "SVC 0.9649122807017544\n",
            "VotingClassifier 0.9649122807017544\n"
          ]
        }
      ],
      "source": [
        "from sklearn.metrics import accuracy_score\n",
        "\n",
        "for clf in (logit_model, rnf_model, svm_model, voting_hard):\n",
        "    clf.fit(X_scaled_train, y_train)\n",
        "    y_pred = clf.predict(X_scaled_test)\n",
        "    print(clf.__class__.__name__, accuracy_score(y_test, y_pred))"
      ]
    },
    {
      "cell_type": "code",
      "execution_count": null,
      "metadata": {
        "id": "E1nHEIj1e-fR",
        "outputId": "1c73325c-93eb-4da5-c496-9b31a9dbff7b"
      },
      "outputs": [
        {
          "name": "stdout",
          "output_type": "stream",
          "text": [
            "로지스틱 분류기 훈련데이터 오차행렬:\n",
            " [[328   5]\n",
            " [  9 170]]\n",
            "로지스틱 분류기 테스트데이터 오차행렬:\n",
            " [[106   5]\n",
            " [  2  58]]\n"
          ]
        }
      ],
      "source": [
        "from sklearn.metrics import confusion_matrix\n",
        "log_pred_train=logit_model.predict(X_scaled_train)\n",
        "log_confusion_train=confusion_matrix(y_train, log_pred_train)\n",
        "print(\"로지스틱 분류기 훈련데이터 오차행렬:\\n\", log_confusion_train)\n",
        "\n",
        "log_pred_test=logit_model.predict(X_scaled_test)\n",
        "log_confusion_test=confusion_matrix(y_test, log_pred_test)\n",
        "print(\"로지스틱 분류기 테스트데이터 오차행렬:\\n\", log_confusion_test)"
      ]
    },
    {
      "cell_type": "code",
      "execution_count": null,
      "metadata": {
        "id": "5j7lEcrMe-fR",
        "outputId": "21dd52e9-0819-43ad-fa14-502517ff15eb"
      },
      "outputs": [
        {
          "name": "stdout",
          "output_type": "stream",
          "text": [
            "서포트벡터머신 분류기 훈련데이터 오차행렬:\n",
            " [[329   4]\n",
            " [  4 175]]\n",
            "서포트벡터머신 분류기 훈련데이터 오차행렬:\n",
            " [[106   5]\n",
            " [  1  59]]\n"
          ]
        }
      ],
      "source": [
        "svm_pred_train=svm_model.predict(X_scaled_train)\n",
        "svm_confusion_train=confusion_matrix(y_train, svm_pred_train)\n",
        "print(\"서포트벡터머신 분류기 훈련데이터 오차행렬:\\n\", svm_confusion_train)\n",
        "\n",
        "svm_pred_test=svm_model.predict(X_scaled_test)\n",
        "svm_confusion_test=confusion_matrix(y_test, svm_pred_test)\n",
        "print(\"서포트벡터머신 분류기 훈련데이터 오차행렬:\\n\", svm_confusion_test)"
      ]
    },
    {
      "cell_type": "code",
      "execution_count": null,
      "metadata": {
        "id": "1oTpsc-pe-fR",
        "outputId": "6e3dce31-854e-4797-e7a3-42dac981cd2b"
      },
      "outputs": [
        {
          "name": "stdout",
          "output_type": "stream",
          "text": [
            "랜덤포레스트 분류기 훈련데이터 오차행렬:\n",
            " [[333   0]\n",
            " [  0 179]]\n",
            "랜덤포레스트 분류기 테스트데이터 오차행렬:\n",
            " [[106   5]\n",
            " [  1  59]]\n"
          ]
        }
      ],
      "source": [
        "rnd_pred_train=rnf_model.predict(X_scaled_train)\n",
        "rnd_confusion_train=confusion_matrix(y_train, rnd_pred_train)\n",
        "print(\"랜덤포레스트 분류기 훈련데이터 오차행렬:\\n\", rnd_confusion_train)\n",
        "\n",
        "rnd_pred_test=rnf_model.predict(X_scaled_test)\n",
        "rnd_confusion_test=confusion_matrix(y_test, rnd_pred_test)\n",
        "print(\"랜덤포레스트 분류기 테스트데이터 오차행렬:\\n\", rnd_confusion_test)"
      ]
    },
    {
      "cell_type": "code",
      "execution_count": null,
      "metadata": {
        "id": "qZwsU_TRe-fS",
        "outputId": "0658f756-cc0b-4116-e09f-dfde2a31c6df"
      },
      "outputs": [
        {
          "name": "stdout",
          "output_type": "stream",
          "text": [
            "투표분류기 분류기 훈련데이터 오차행렬:\n",
            " [[329   4]\n",
            " [  4 175]]\n",
            "투표분류기 분류기 훈련데이터 오차행렬:\n",
            " [[106   5]\n",
            " [  1  59]]\n"
          ]
        }
      ],
      "source": [
        "voting_pred_train=voting_hard.predict(X_scaled_train)\n",
        "voting_confusion_train=confusion_matrix(y_train, voting_pred_train)\n",
        "print(\"투표분류기 분류기 훈련데이터 오차행렬:\\n\", voting_confusion_train)\n",
        "\n",
        "voting_pred_test=voting_hard.predict(X_scaled_test)\n",
        "voting_confusion_test=confusion_matrix(y_test, voting_pred_test)\n",
        "print(\"투표분류기 분류기 훈련데이터 오차행렬:\\n\", voting_confusion_test)"
      ]
    },
    {
      "cell_type": "markdown",
      "metadata": {
        "id": "bz8WF-nle-fS"
      },
      "source": [
        "# 3. 약한 학습기: soft learner"
      ]
    },
    {
      "cell_type": "code",
      "execution_count": null,
      "metadata": {
        "id": "xfeMOWb6e-fS",
        "outputId": "00a75f0e-d56e-4063-f06d-3625127926f9"
      },
      "outputs": [
        {
          "data": {
            "text/plain": [
              "VotingClassifier(estimators=[('lr', LogisticRegression(random_state=42)),\n",
              "                             ('rf', RandomForestClassifier(random_state=42)),\n",
              "                             ('svc', SVC(probability=True, random_state=42))],\n",
              "                 voting='soft')"
            ]
          },
          "execution_count": 10,
          "metadata": {},
          "output_type": "execute_result"
        }
      ],
      "source": [
        "logit_model = LogisticRegression(random_state=42)\n",
        "rnf_model = RandomForestClassifier(random_state=42)\n",
        "svm_model = SVC(probability=True, random_state=42)\n",
        "\n",
        "voting_soft = VotingClassifier(\n",
        "    estimators=[('lr', logit_model), ('rf', rnf_model), ('svc', svm_model)], voting='soft')\n",
        "voting_soft.fit(X_scaled_train, y_train)"
      ]
    },
    {
      "cell_type": "code",
      "execution_count": null,
      "metadata": {
        "id": "TrHLK49Ee-fS",
        "outputId": "a59a6920-9b09-41ec-f33b-63277fb21c64"
      },
      "outputs": [
        {
          "name": "stdout",
          "output_type": "stream",
          "text": [
            "LogisticRegression 0.9590643274853801\n",
            "RandomForestClassifier 0.9649122807017544\n",
            "SVC 0.9649122807017544\n",
            "VotingClassifier 0.9649122807017544\n"
          ]
        }
      ],
      "source": [
        "from sklearn.metrics import accuracy_score\n",
        "\n",
        "for clf in (logit_model, rnf_model, svm_model, voting_soft):\n",
        "    clf.fit(X_scaled_train, y_train)\n",
        "    y_pred = clf.predict(X_scaled_test)\n",
        "    print(clf.__class__.__name__, accuracy_score(y_test, y_pred))"
      ]
    },
    {
      "cell_type": "code",
      "execution_count": null,
      "metadata": {
        "id": "3hHY31VTe-fS",
        "outputId": "c42069b1-5edf-4818-bed5-3d373b6c0821"
      },
      "outputs": [
        {
          "name": "stdout",
          "output_type": "stream",
          "text": [
            "투표분류기 분류기 훈련데이터 오차행렬:\n",
            " [[330   3]\n",
            " [  3 176]]\n",
            "투표분류기 분류기 훈련데이터 오차행렬:\n",
            " [[106   5]\n",
            " [  1  59]]\n"
          ]
        }
      ],
      "source": [
        "voting_pred_train=voting_soft.predict(X_scaled_train)\n",
        "voting_confusion_train=confusion_matrix(y_train, voting_pred_train)\n",
        "print(\"투표분류기 분류기 훈련데이터 오차행렬:\\n\", voting_confusion_train)\n",
        "\n",
        "voting_pred_test=voting_soft.predict(X_scaled_test)\n",
        "voting_confusion_test=confusion_matrix(y_test, voting_pred_test)\n",
        "print(\"투표분류기 분류기 훈련데이터 오차행렬:\\n\", voting_confusion_test)"
      ]
    },
    {
      "cell_type": "markdown",
      "metadata": {
        "id": "qDWMYGL-e-fS"
      },
      "source": [
        "# Part2. 회귀(Regression)"
      ]
    },
    {
      "cell_type": "markdown",
      "metadata": {
        "id": "XH9nlgGPe-fT"
      },
      "source": [
        "# 1. 분석 데이터 준비"
      ]
    },
    {
      "cell_type": "code",
      "execution_count": null,
      "metadata": {
        "id": "87vAXhSPe-fT"
      },
      "outputs": [],
      "source": [
        "data2=pd.read_csv('house_price.csv', encoding='utf-8')\n",
        "X=data2[data2.columns[1:5]]\n",
        "y=data2[[\"house_value\"]]"
      ]
    },
    {
      "cell_type": "code",
      "execution_count": null,
      "metadata": {
        "id": "JPRhWhyFe-fT"
      },
      "outputs": [],
      "source": [
        "from sklearn.model_selection import train_test_split\n",
        "X_train, X_test, y_train, y_test=train_test_split(X, y, random_state=42)"
      ]
    },
    {
      "cell_type": "code",
      "execution_count": null,
      "metadata": {
        "id": "5qlGoINAe-fT"
      },
      "outputs": [],
      "source": [
        "from sklearn.preprocessing import MinMaxScaler\n",
        "scaler=MinMaxScaler()\n",
        "scaler.fit(X_train)\n",
        "X_scaled_train=scaler.transform(X_train)\n",
        "X_scaled_test=scaler.transform(X_test)"
      ]
    },
    {
      "cell_type": "markdown",
      "metadata": {
        "id": "0aMDOLwMe-fT"
      },
      "source": [
        "# 2. 모델적용"
      ]
    },
    {
      "cell_type": "code",
      "execution_count": null,
      "metadata": {
        "id": "kwRJ5t-0e-fT",
        "outputId": "806f6323-c9ef-4d94-b95e-a01d78327b30"
      },
      "outputs": [
        {
          "data": {
            "text/plain": [
              "VotingRegressor(estimators=[('lr', LinearRegression()),\n",
              "                            ('rf', RandomForestRegressor(random_state=42))])"
            ]
          },
          "execution_count": 16,
          "metadata": {},
          "output_type": "execute_result"
        }
      ],
      "source": [
        "from sklearn.linear_model import LinearRegression\n",
        "from sklearn.ensemble import RandomForestRegressor\n",
        "from sklearn.ensemble import VotingRegressor\n",
        "\n",
        "linear_model= LinearRegression()\n",
        "rnf_model = RandomForestRegressor(random_state=42)\n",
        "\n",
        "voting_regressor = VotingRegressor(estimators=[('lr', linear_model), ('rf', rnf_model)])\n",
        "voting_regressor.fit(X_scaled_train, y_train)"
      ]
    },
    {
      "cell_type": "code",
      "execution_count": null,
      "metadata": {
        "id": "tnQf3YLLe-fT",
        "outputId": "27e7444c-7c2d-4653-b243-9f465b3a3307"
      },
      "outputs": [
        {
          "data": {
            "text/plain": [
              "0.7962532705428835"
            ]
          },
          "execution_count": 17,
          "metadata": {},
          "output_type": "execute_result"
        }
      ],
      "source": [
        "pred_train=voting_regressor.predict(X_scaled_train)\n",
        "voting_regressor.score(X_scaled_train, y_train)"
      ]
    },
    {
      "cell_type": "code",
      "execution_count": null,
      "metadata": {
        "id": "vLBJwyPxe-fT",
        "outputId": "f6941531-7b96-4cd5-e5ca-e2f2e4e7ca4d"
      },
      "outputs": [
        {
          "data": {
            "text/plain": [
              "0.5936371957936408"
            ]
          },
          "execution_count": 18,
          "metadata": {},
          "output_type": "execute_result"
        }
      ],
      "source": [
        "pred_test=voting_regressor.predict(X_scaled_test)\n",
        "voting_regressor.score(X_scaled_test, y_test)"
      ]
    },
    {
      "cell_type": "code",
      "execution_count": null,
      "metadata": {
        "id": "tZ5lN9iTe-fT",
        "outputId": "e637ecef-5a04-4bb4-f9e0-ee243fb19580"
      },
      "outputs": [
        {
          "name": "stdout",
          "output_type": "stream",
          "text": [
            "훈련   데이터 RMSE: 43082.050654857834\n",
            "테스트 데이터 RMSE: 60942.385243534896\n"
          ]
        }
      ],
      "source": [
        "# RMSE (Root Mean Squared Error)\n",
        "import numpy as np\n",
        "from sklearn.metrics import mean_squared_error\n",
        "MSE_train = mean_squared_error(y_train, pred_train)\n",
        "MSE_test = mean_squared_error(y_test, pred_test)\n",
        "print(\"훈련   데이터 RMSE:\", np.sqrt(MSE_train))\n",
        "print(\"테스트 데이터 RMSE:\", np.sqrt(MSE_test))"
      ]
    },
    {
      "cell_type": "code",
      "execution_count": null,
      "metadata": {
        "id": "eFkjPfnje-fU"
      },
      "outputs": [],
      "source": []
    }
  ],
  "metadata": {
    "kernelspec": {
      "display_name": "Python 3",
      "language": "python",
      "name": "python3"
    },
    "language_info": {
      "codemirror_mode": {
        "name": "ipython",
        "version": 3
      },
      "file_extension": ".py",
      "mimetype": "text/x-python",
      "name": "python",
      "nbconvert_exporter": "python",
      "pygments_lexer": "ipython3",
      "version": "3.8.8"
    },
    "colab": {
      "provenance": [],
      "include_colab_link": true
    }
  },
  "nbformat": 4,
  "nbformat_minor": 0
}