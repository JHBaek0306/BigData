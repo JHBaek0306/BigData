{
  "cells": [
    {
      "cell_type": "markdown",
      "metadata": {
        "id": "view-in-github",
        "colab_type": "text"
      },
      "source": [
        "<a href=\"https://colab.research.google.com/github/JHBaek0306/BigData/blob/main/%EB%B9%85%EB%B6%84%EA%B8%B0_4%EB%B6%80_07_%EB%9E%9C%EB%8D%A4%ED%8F%AC%EB%A0%88%EC%8A%A4%ED%8A%B8.ipynb\" target=\"_parent\"><img src=\"https://colab.research.google.com/assets/colab-badge.svg\" alt=\"Open In Colab\"/></a>"
      ]
    },
    {
      "cell_type": "markdown",
      "id": "28cfaf64",
      "metadata": {
        "id": "28cfaf64"
      },
      "source": [
        "# Part1. 분류(Classification)"
      ]
    },
    {
      "cell_type": "markdown",
      "id": "97e89317",
      "metadata": {
        "id": "97e89317"
      },
      "source": [
        "# 1. 분석 데이터 준비"
      ]
    },
    {
      "cell_type": "code",
      "execution_count": null,
      "id": "a7b67ee2",
      "metadata": {
        "id": "a7b67ee2"
      },
      "outputs": [],
      "source": [
        "import warnings\n",
        "warnings.filterwarnings(\"ignore\")\n",
        "import pandas as pd\n",
        "data1=pd.read_csv('breast-cancer-wisconsin.csv', encoding='utf-8')\n",
        "X=data1[data1.columns[1:10]]\n",
        "y=data1[[\"Class\"]]"
      ]
    },
    {
      "cell_type": "code",
      "execution_count": null,
      "id": "27bc2be2",
      "metadata": {
        "id": "27bc2be2"
      },
      "outputs": [],
      "source": [
        "from sklearn.model_selection import train_test_split\n",
        "X_train, X_test, y_train, y_test=train_test_split(X, y, stratify=y, random_state=42)"
      ]
    },
    {
      "cell_type": "code",
      "execution_count": null,
      "id": "722c9c9c",
      "metadata": {
        "id": "722c9c9c"
      },
      "outputs": [],
      "source": [
        "from sklearn.preprocessing import MinMaxScaler\n",
        "scaler=MinMaxScaler()\n",
        "scaler.fit(X_train)\n",
        "X_scaled_train=scaler.transform(X_train)\n",
        "X_scaled_test=scaler.transform(X_test)"
      ]
    },
    {
      "cell_type": "markdown",
      "id": "0bad99c1",
      "metadata": {
        "id": "0bad99c1"
      },
      "source": [
        "# 2. 기본모델 적용"
      ]
    },
    {
      "cell_type": "code",
      "execution_count": null,
      "id": "6b96916d",
      "metadata": {
        "id": "6b96916d",
        "outputId": "f3cc683d-9cd0-4ef7-8eff-34f1f1d234f1"
      },
      "outputs": [
        {
          "data": {
            "text/plain": [
              "1.0"
            ]
          },
          "execution_count": 4,
          "metadata": {},
          "output_type": "execute_result"
        }
      ],
      "source": [
        "from sklearn.ensemble import RandomForestClassifier\n",
        "model=RandomForestClassifier()\n",
        "model.fit(X_scaled_train, y_train)\n",
        "pred_train=model.predict(X_scaled_train)\n",
        "model.score(X_scaled_train, y_train)"
      ]
    },
    {
      "cell_type": "code",
      "execution_count": null,
      "id": "94136194",
      "metadata": {
        "id": "94136194",
        "outputId": "ae04ee7b-84d8-4c9c-c64a-7f6a55cdf78b"
      },
      "outputs": [
        {
          "name": "stdout",
          "output_type": "stream",
          "text": [
            "훈련데이터 오차행렬:\n",
            " [[333   0]\n",
            " [  0 179]]\n"
          ]
        }
      ],
      "source": [
        "from sklearn.metrics import confusion_matrix\n",
        "confusion_train=confusion_matrix(y_train, pred_train)\n",
        "print(\"훈련데이터 오차행렬:\\n\", confusion_train)"
      ]
    },
    {
      "cell_type": "code",
      "execution_count": null,
      "id": "61f041e1",
      "metadata": {
        "id": "61f041e1",
        "outputId": "6929046c-f682-43d7-a627-fc93b5ffb37f"
      },
      "outputs": [
        {
          "name": "stdout",
          "output_type": "stream",
          "text": [
            "분류예측 레포트:\n",
            "               precision    recall  f1-score   support\n",
            "\n",
            "           0       1.00      1.00      1.00       333\n",
            "           1       1.00      1.00      1.00       179\n",
            "\n",
            "    accuracy                           1.00       512\n",
            "   macro avg       1.00      1.00      1.00       512\n",
            "weighted avg       1.00      1.00      1.00       512\n",
            "\n"
          ]
        }
      ],
      "source": [
        "from sklearn.metrics import classification_report\n",
        "cfreport_train=classification_report(y_train, pred_train)\n",
        "print(\"분류예측 레포트:\\n\", cfreport_train)"
      ]
    },
    {
      "cell_type": "code",
      "execution_count": null,
      "id": "359e0adb",
      "metadata": {
        "id": "359e0adb",
        "outputId": "65e73c34-c260-406a-aa64-ad4b22ef2546"
      },
      "outputs": [
        {
          "data": {
            "text/plain": [
              "0.9649122807017544"
            ]
          },
          "execution_count": 7,
          "metadata": {},
          "output_type": "execute_result"
        }
      ],
      "source": [
        "pred_test=model.predict(X_scaled_test)\n",
        "model.score(X_scaled_test, y_test)"
      ]
    },
    {
      "cell_type": "code",
      "execution_count": null,
      "id": "f7591a72",
      "metadata": {
        "id": "f7591a72",
        "outputId": "17255384-11b7-442c-c4a6-ae11fa2c4530"
      },
      "outputs": [
        {
          "name": "stdout",
          "output_type": "stream",
          "text": [
            "테스트데이터 오차행렬:\n",
            " [[106   5]\n",
            " [  1  59]]\n"
          ]
        }
      ],
      "source": [
        "confusion_test=confusion_matrix(y_test, pred_test)\n",
        "print(\"테스트데이터 오차행렬:\\n\", confusion_test)"
      ]
    },
    {
      "cell_type": "code",
      "execution_count": null,
      "id": "9a1ee5c3",
      "metadata": {
        "id": "9a1ee5c3",
        "outputId": "a5eb1372-1238-48fc-fc91-141679b7cffe"
      },
      "outputs": [
        {
          "name": "stdout",
          "output_type": "stream",
          "text": [
            "분류예측 레포트:\n",
            "               precision    recall  f1-score   support\n",
            "\n",
            "           0       0.99      0.95      0.97       111\n",
            "           1       0.92      0.98      0.95        60\n",
            "\n",
            "    accuracy                           0.96       171\n",
            "   macro avg       0.96      0.97      0.96       171\n",
            "weighted avg       0.97      0.96      0.97       171\n",
            "\n"
          ]
        }
      ],
      "source": [
        "from sklearn.metrics import classification_report\n",
        "cfreport_test=classification_report(y_test, pred_test)\n",
        "print(\"분류예측 레포트:\\n\", cfreport_test)"
      ]
    },
    {
      "cell_type": "markdown",
      "id": "a86c622e",
      "metadata": {
        "id": "a86c622e"
      },
      "source": [
        "# 3. Grid Search"
      ]
    },
    {
      "cell_type": "code",
      "execution_count": null,
      "id": "13410788",
      "metadata": {
        "id": "13410788",
        "outputId": "24697e3d-0f8c-4741-ffeb-9db58073b289"
      },
      "outputs": [
        {
          "data": {
            "text/plain": [
              "GridSearchCV(cv=5, estimator=RandomForestClassifier(),\n",
              "             param_grid={'max_features': ['auto', 'sqrt', 'log2'],\n",
              "                         'n_estimators': range(100, 1000, 100)})"
            ]
          },
          "execution_count": 10,
          "metadata": {},
          "output_type": "execute_result"
        }
      ],
      "source": [
        "param_grid={'n_estimators': range(100, 1000, 100),\n",
        "            'max_features': ['auto', 'sqrt', 'log2']}\n",
        "from sklearn.model_selection import GridSearchCV\n",
        "grid_search=GridSearchCV(RandomForestClassifier(), param_grid, cv=5)\n",
        "grid_search.fit(X_scaled_train, y_train)"
      ]
    },
    {
      "cell_type": "code",
      "execution_count": null,
      "id": "bd235339",
      "metadata": {
        "id": "bd235339",
        "outputId": "98b19ce0-f41f-460b-dfb0-64011dc71a29"
      },
      "outputs": [
        {
          "name": "stdout",
          "output_type": "stream",
          "text": [
            "Best Parameter: {'max_features': 'auto', 'n_estimators': 100}\n",
            "Best Score: 0.9765\n",
            "TestSet Score: 0.9649\n"
          ]
        }
      ],
      "source": [
        "print(\"Best Parameter: {}\".format(grid_search.best_params_))\n",
        "print(\"Best Score: {:.4f}\".format(grid_search.best_score_))\n",
        "print(\"TestSet Score: {:.4f}\".format(grid_search.score(X_scaled_test, y_test)))"
      ]
    },
    {
      "cell_type": "markdown",
      "id": "98ce8f38",
      "metadata": {
        "id": "98ce8f38"
      },
      "source": [
        "# 4. Random Search"
      ]
    },
    {
      "cell_type": "code",
      "execution_count": null,
      "id": "60a53375",
      "metadata": {
        "id": "60a53375",
        "outputId": "17b59e56-78b4-4f31-bdad-4bc2b2b6795b"
      },
      "outputs": [
        {
          "data": {
            "text/plain": [
              "RandomizedSearchCV(cv=5, estimator=RandomForestClassifier(), n_iter=20,\n",
              "                   param_distributions={'max_features': ['auto', 'sqrt',\n",
              "                                                         'log2'],\n",
              "                                        'n_estimators': <scipy.stats._distn_infrastructure.rv_frozen object at 0x000002030B3E7790>})"
            ]
          },
          "execution_count": 12,
          "metadata": {},
          "output_type": "execute_result"
        }
      ],
      "source": [
        "from scipy.stats import randint\n",
        "param_distribs = {'n_estimators': randint(low=100, high=1000),\n",
        "                  'max_features': ['auto', 'sqrt', 'log2']}\n",
        "from sklearn.model_selection import RandomizedSearchCV\n",
        "random_search=RandomizedSearchCV(RandomForestClassifier(),\n",
        "                                 param_distributions=param_distribs, n_iter=20, cv=5)\n",
        "random_search.fit(X_scaled_train, y_train)"
      ]
    },
    {
      "cell_type": "code",
      "execution_count": null,
      "id": "26fb59b4",
      "metadata": {
        "id": "26fb59b4",
        "outputId": "66a53664-cf14-42c2-ba31-afa29bd16238"
      },
      "outputs": [
        {
          "name": "stdout",
          "output_type": "stream",
          "text": [
            "Best Parameter: {'max_features': 'sqrt', 'n_estimators': 441}\n",
            "Best Score: 0.9746\n",
            "TestSet Score: 0.9649\n"
          ]
        }
      ],
      "source": [
        "print(\"Best Parameter: {}\".format(random_search.best_params_))\n",
        "print(\"Best Score: {:.4f}\".format(random_search.best_score_))\n",
        "print(\"TestSet Score: {:.4f}\".format(random_search.score(X_scaled_test, y_test)))"
      ]
    },
    {
      "cell_type": "markdown",
      "id": "76a677cd",
      "metadata": {
        "id": "76a677cd"
      },
      "source": [
        "# Part2. 회귀(Regression)"
      ]
    },
    {
      "cell_type": "markdown",
      "id": "218e0792",
      "metadata": {
        "id": "218e0792"
      },
      "source": [
        "# 1. 분석 데이터 준비"
      ]
    },
    {
      "cell_type": "code",
      "execution_count": null,
      "id": "272ef8c1",
      "metadata": {
        "id": "272ef8c1"
      },
      "outputs": [],
      "source": [
        "data2=pd.read_csv('house_price.csv', encoding='utf-8')\n",
        "X=data2[data2.columns[1:5]]\n",
        "y=data2[[\"house_value\"]]"
      ]
    },
    {
      "cell_type": "code",
      "execution_count": null,
      "id": "5ed00449",
      "metadata": {
        "id": "5ed00449"
      },
      "outputs": [],
      "source": [
        "from sklearn.model_selection import train_test_split\n",
        "X_train, X_test, y_train, y_test=train_test_split(X, y, random_state=42)"
      ]
    },
    {
      "cell_type": "code",
      "execution_count": null,
      "id": "24bbaf72",
      "metadata": {
        "id": "24bbaf72"
      },
      "outputs": [],
      "source": [
        "from sklearn.preprocessing import MinMaxScaler\n",
        "scaler=MinMaxScaler()\n",
        "scaler.fit(X_train)\n",
        "X_scaled_train=scaler.transform(X_train)\n",
        "X_scaled_test=scaler.transform(X_test)"
      ]
    },
    {
      "cell_type": "markdown",
      "id": "41850165",
      "metadata": {
        "id": "41850165"
      },
      "source": [
        "# 2. 기본모델 적용"
      ]
    },
    {
      "cell_type": "code",
      "execution_count": null,
      "id": "0c34ac9e",
      "metadata": {
        "id": "0c34ac9e",
        "outputId": "a98c16ab-7e56-47d7-a309-7e81718867b0"
      },
      "outputs": [
        {
          "data": {
            "text/plain": [
              "0.9382384580348281"
            ]
          },
          "execution_count": 17,
          "metadata": {},
          "output_type": "execute_result"
        }
      ],
      "source": [
        "from sklearn.ensemble import RandomForestRegressor\n",
        "model=RandomForestRegressor()\n",
        "model.fit(X_scaled_train, y_train)\n",
        "pred_train=model.predict(X_scaled_train)\n",
        "model.score(X_scaled_train, y_train)"
      ]
    },
    {
      "cell_type": "code",
      "execution_count": null,
      "id": "1c3ce841",
      "metadata": {
        "id": "1c3ce841",
        "outputId": "610cf303-1a9a-4de8-b257-aebb649e4815"
      },
      "outputs": [
        {
          "data": {
            "text/plain": [
              "0.5832046084465448"
            ]
          },
          "execution_count": 18,
          "metadata": {},
          "output_type": "execute_result"
        }
      ],
      "source": [
        "pred_test=model.predict(X_scaled_test)\n",
        "model.score(X_scaled_test, y_test)"
      ]
    },
    {
      "cell_type": "code",
      "execution_count": null,
      "id": "48d5ab1e",
      "metadata": {
        "id": "48d5ab1e",
        "outputId": "ba4f1805-9bb2-4ca8-9534-c02f411b28af"
      },
      "outputs": [
        {
          "name": "stdout",
          "output_type": "stream",
          "text": [
            "훈련   데이터 RMSE: 23719.75009257334\n",
            "테스트 데이터 RMSE: 61719.717290624714\n"
          ]
        }
      ],
      "source": [
        "# RMSE (Root Mean Squared Error)\n",
        "import numpy as np\n",
        "from sklearn.metrics import mean_squared_error\n",
        "MSE_train = mean_squared_error(y_train, pred_train)\n",
        "MSE_test = mean_squared_error(y_test, pred_test)\n",
        "print(\"훈련   데이터 RMSE:\", np.sqrt(MSE_train))\n",
        "print(\"테스트 데이터 RMSE:\", np.sqrt(MSE_test))"
      ]
    },
    {
      "cell_type": "markdown",
      "id": "90ec9b57",
      "metadata": {
        "id": "90ec9b57"
      },
      "source": [
        "# 3. Grid Search"
      ]
    },
    {
      "cell_type": "code",
      "execution_count": null,
      "id": "6c464688",
      "metadata": {
        "id": "6c464688",
        "outputId": "85ed32b0-4c88-4b90-bc63-5ebf08bad969"
      },
      "outputs": [
        {
          "data": {
            "text/plain": [
              "GridSearchCV(cv=5, estimator=RandomForestRegressor(),\n",
              "             param_grid={'max_features': ['auto', 'sqrt', 'log2'],\n",
              "                         'n_estimators': range(100, 500, 100)})"
            ]
          },
          "execution_count": 20,
          "metadata": {},
          "output_type": "execute_result"
        }
      ],
      "source": [
        "param_grid={'n_estimators': range(100, 500, 100),\n",
        "            'max_features': ['auto', 'sqrt', 'log2']}\n",
        "from sklearn.model_selection import GridSearchCV\n",
        "grid_search=GridSearchCV(RandomForestRegressor(), param_grid, cv=5)\n",
        "grid_search.fit(X_scaled_train, y_train)"
      ]
    },
    {
      "cell_type": "code",
      "execution_count": null,
      "id": "f9449a32",
      "metadata": {
        "id": "f9449a32",
        "outputId": "b869640f-0d05-4e1a-b2ad-f7da2637dd68"
      },
      "outputs": [
        {
          "name": "stdout",
          "output_type": "stream",
          "text": [
            "Best Parameter: {'max_features': 'log2', 'n_estimators': 300}\n",
            "Best Score: 0.5687\n",
            "TestSet Score: 0.5934\n"
          ]
        }
      ],
      "source": [
        "print(\"Best Parameter: {}\".format(grid_search.best_params_))\n",
        "print(\"Best Score: {:.4f}\".format(grid_search.best_score_))\n",
        "print(\"TestSet Score: {:.4f}\".format(grid_search.score(X_scaled_test, y_test)))"
      ]
    },
    {
      "cell_type": "markdown",
      "id": "e069d922",
      "metadata": {
        "id": "e069d922"
      },
      "source": [
        "# 4. Random Search"
      ]
    },
    {
      "cell_type": "code",
      "execution_count": null,
      "id": "3cc03d11",
      "metadata": {
        "id": "3cc03d11",
        "outputId": "2d15efe2-852c-43b6-a264-b4ce1fcedc42"
      },
      "outputs": [
        {
          "data": {
            "text/plain": [
              "RandomizedSearchCV(cv=5, estimator=RandomForestRegressor(), n_iter=20,\n",
              "                   param_distributions={'max_features': ['auto', 'sqrt',\n",
              "                                                         'log2'],\n",
              "                                        'n_estimators': <scipy.stats._distn_infrastructure.rv_frozen object at 0x000002030B3FB8E0>})"
            ]
          },
          "execution_count": 22,
          "metadata": {},
          "output_type": "execute_result"
        }
      ],
      "source": [
        "param_distribs = {'n_estimators': randint(low=100, high=500),\n",
        "                  'max_features': ['auto', 'sqrt', 'log2']}\n",
        "from sklearn.model_selection import RandomizedSearchCV\n",
        "random_search=RandomizedSearchCV(RandomForestRegressor(),\n",
        "                                 param_distributions=param_distribs, n_iter=20, cv=5)\n",
        "random_search.fit(X_scaled_train, y_train)"
      ]
    },
    {
      "cell_type": "code",
      "execution_count": null,
      "id": "197eac04",
      "metadata": {
        "id": "197eac04",
        "outputId": "5e2ee152-aa5a-4cbe-8729-3436ae7f06cc"
      },
      "outputs": [
        {
          "name": "stdout",
          "output_type": "stream",
          "text": [
            "Best Parameter: {'max_features': 'sqrt', 'n_estimators': 338}\n",
            "Best Score: 0.5693\n",
            "TestSet Score: 0.5928\n"
          ]
        }
      ],
      "source": [
        "print(\"Best Parameter: {}\".format(random_search.best_params_))\n",
        "print(\"Best Score: {:.4f}\".format(random_search.best_score_))\n",
        "print(\"TestSet Score: {:.4f}\".format(random_search.score(X_scaled_test, y_test)))"
      ]
    },
    {
      "cell_type": "code",
      "execution_count": null,
      "id": "f798d466",
      "metadata": {
        "id": "f798d466"
      },
      "outputs": [],
      "source": []
    }
  ],
  "metadata": {
    "kernelspec": {
      "display_name": "Python 3",
      "language": "python",
      "name": "python3"
    },
    "language_info": {
      "codemirror_mode": {
        "name": "ipython",
        "version": 3
      },
      "file_extension": ".py",
      "mimetype": "text/x-python",
      "name": "python",
      "nbconvert_exporter": "python",
      "pygments_lexer": "ipython3",
      "version": "3.8.8"
    },
    "colab": {
      "provenance": [],
      "include_colab_link": true
    }
  },
  "nbformat": 4,
  "nbformat_minor": 5
}