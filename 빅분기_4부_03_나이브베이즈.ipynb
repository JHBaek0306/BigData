{
  "cells": [
    {
      "cell_type": "markdown",
      "metadata": {
        "id": "view-in-github",
        "colab_type": "text"
      },
      "source": [
        "<a href=\"https://colab.research.google.com/github/JHBaek0306/BigData/blob/main/%EB%B9%85%EB%B6%84%EA%B8%B0_4%EB%B6%80_03_%EB%82%98%EC%9D%B4%EB%B8%8C%EB%B2%A0%EC%9D%B4%EC%A6%88.ipynb\" target=\"_parent\"><img src=\"https://colab.research.google.com/assets/colab-badge.svg\" alt=\"Open In Colab\"/></a>"
      ]
    },
    {
      "cell_type": "markdown",
      "id": "28cfaf64",
      "metadata": {
        "id": "28cfaf64"
      },
      "source": [
        "# Part1. 분류(Classification)"
      ]
    },
    {
      "cell_type": "markdown",
      "id": "97e89317",
      "metadata": {
        "id": "97e89317"
      },
      "source": [
        "# 1. 분석 데이터 준비"
      ]
    },
    {
      "cell_type": "code",
      "execution_count": null,
      "id": "a7b67ee2",
      "metadata": {
        "id": "a7b67ee2"
      },
      "outputs": [],
      "source": [
        "import warnings\n",
        "warnings.filterwarnings(\"ignore\")\n",
        "import pandas as pd\n",
        "data1=pd.read_csv('breast-cancer-wisconsin.csv', encoding='utf-8')\n",
        "X=data1[data1.columns[1:10]]\n",
        "y=data1[[\"Class\"]]"
      ]
    },
    {
      "cell_type": "code",
      "execution_count": null,
      "id": "27bc2be2",
      "metadata": {
        "id": "27bc2be2"
      },
      "outputs": [],
      "source": [
        "from sklearn.model_selection import train_test_split\n",
        "X_train, X_test, y_train, y_test=train_test_split(X, y, stratify=y, random_state=42)"
      ]
    },
    {
      "cell_type": "code",
      "execution_count": null,
      "id": "722c9c9c",
      "metadata": {
        "id": "722c9c9c"
      },
      "outputs": [],
      "source": [
        "from sklearn.preprocessing import MinMaxScaler\n",
        "scaler=MinMaxScaler()\n",
        "scaler.fit(X_train)\n",
        "X_scaled_train=scaler.transform(X_train)\n",
        "X_scaled_test=scaler.transform(X_test)"
      ]
    },
    {
      "cell_type": "markdown",
      "id": "0bad99c1",
      "metadata": {
        "id": "0bad99c1"
      },
      "source": [
        "# 2. 기본모델 적용"
      ]
    },
    {
      "cell_type": "code",
      "execution_count": null,
      "id": "6b96916d",
      "metadata": {
        "id": "6b96916d",
        "outputId": "4b302050-d086-4c36-c365-69bd3c073e16"
      },
      "outputs": [
        {
          "data": {
            "text/plain": [
              "0.966796875"
            ]
          },
          "execution_count": 4,
          "metadata": {},
          "output_type": "execute_result"
        }
      ],
      "source": [
        "from sklearn.naive_bayes import GaussianNB\n",
        "model=GaussianNB()\n",
        "model.fit(X_scaled_train, y_train)\n",
        "pred_train=model.predict(X_scaled_train)\n",
        "model.score(X_scaled_train, y_train)"
      ]
    },
    {
      "cell_type": "code",
      "execution_count": null,
      "id": "94136194",
      "metadata": {
        "id": "94136194",
        "outputId": "e51dd27b-8a21-4d84-de05-a5f29769710a"
      },
      "outputs": [
        {
          "name": "stdout",
          "output_type": "stream",
          "text": [
            "훈련데이터 오차행렬:\n",
            " [[319  14]\n",
            " [  3 176]]\n"
          ]
        }
      ],
      "source": [
        "from sklearn.metrics import confusion_matrix\n",
        "confusion_train=confusion_matrix(y_train, pred_train)\n",
        "print(\"훈련데이터 오차행렬:\\n\", confusion_train)"
      ]
    },
    {
      "cell_type": "code",
      "execution_count": null,
      "id": "61f041e1",
      "metadata": {
        "id": "61f041e1",
        "outputId": "6bd351c5-aca2-4d01-c42c-fc514a867122"
      },
      "outputs": [
        {
          "name": "stdout",
          "output_type": "stream",
          "text": [
            "분류예측 레포트:\n",
            "               precision    recall  f1-score   support\n",
            "\n",
            "           0       0.99      0.96      0.97       333\n",
            "           1       0.93      0.98      0.95       179\n",
            "\n",
            "    accuracy                           0.97       512\n",
            "   macro avg       0.96      0.97      0.96       512\n",
            "weighted avg       0.97      0.97      0.97       512\n",
            "\n"
          ]
        }
      ],
      "source": [
        "from sklearn.metrics import classification_report\n",
        "cfreport_train=classification_report(y_train, pred_train)\n",
        "print(\"분류예측 레포트:\\n\", cfreport_train)"
      ]
    },
    {
      "cell_type": "code",
      "execution_count": null,
      "id": "359e0adb",
      "metadata": {
        "id": "359e0adb",
        "outputId": "f7739d7a-c978-40cb-fef2-4b59fee8423f"
      },
      "outputs": [
        {
          "data": {
            "text/plain": [
              "0.9590643274853801"
            ]
          },
          "execution_count": 7,
          "metadata": {},
          "output_type": "execute_result"
        }
      ],
      "source": [
        "pred_test=model.predict(X_scaled_test)\n",
        "model.score(X_scaled_test, y_test)"
      ]
    },
    {
      "cell_type": "code",
      "execution_count": null,
      "id": "f7591a72",
      "metadata": {
        "id": "f7591a72",
        "outputId": "41c6b985-91ed-468c-9ac7-9cde3bd22128"
      },
      "outputs": [
        {
          "name": "stdout",
          "output_type": "stream",
          "text": [
            "테스트데이터 오차행렬:\n",
            " [[106   5]\n",
            " [  2  58]]\n"
          ]
        }
      ],
      "source": [
        "confusion_test=confusion_matrix(y_test, pred_test)\n",
        "print(\"테스트데이터 오차행렬:\\n\", confusion_test)"
      ]
    },
    {
      "cell_type": "code",
      "execution_count": null,
      "id": "9a1ee5c3",
      "metadata": {
        "id": "9a1ee5c3",
        "outputId": "6aa85317-5fd5-4909-c6b4-65147fdfa412"
      },
      "outputs": [
        {
          "name": "stdout",
          "output_type": "stream",
          "text": [
            "분류예측 레포트:\n",
            "               precision    recall  f1-score   support\n",
            "\n",
            "           0       0.98      0.95      0.97       111\n",
            "           1       0.92      0.97      0.94        60\n",
            "\n",
            "    accuracy                           0.96       171\n",
            "   macro avg       0.95      0.96      0.96       171\n",
            "weighted avg       0.96      0.96      0.96       171\n",
            "\n"
          ]
        }
      ],
      "source": [
        "from sklearn.metrics import classification_report\n",
        "cfreport_test=classification_report(y_test, pred_test)\n",
        "print(\"분류예측 레포트:\\n\", cfreport_test)"
      ]
    },
    {
      "cell_type": "markdown",
      "id": "a86c622e",
      "metadata": {
        "id": "a86c622e"
      },
      "source": [
        "# 3. Grid Search"
      ]
    },
    {
      "cell_type": "code",
      "execution_count": null,
      "id": "13410788",
      "metadata": {
        "id": "13410788",
        "outputId": "f2f59ab2-a49e-4408-b88c-f551a86047ea"
      },
      "outputs": [
        {
          "data": {
            "text/plain": [
              "GridSearchCV(cv=5, estimator=GaussianNB(),\n",
              "             param_grid={'var_smoothing': [0, 1, 2, 3, 4, 5, 6, 7, 8, 9, 10]})"
            ]
          },
          "execution_count": 10,
          "metadata": {},
          "output_type": "execute_result"
        }
      ],
      "source": [
        "param_grid={'var_smoothing': [0, 1, 2, 3, 4, 5, 6, 7, 8, 9 , 10]}\n",
        "from sklearn.model_selection import GridSearchCV\n",
        "grid_search=GridSearchCV(GaussianNB(), param_grid, cv=5)\n",
        "grid_search.fit(X_scaled_train, y_train)"
      ]
    },
    {
      "cell_type": "code",
      "execution_count": null,
      "id": "bd235339",
      "metadata": {
        "id": "bd235339",
        "outputId": "7a51c243-c654-4168-f02a-3d70ad630992"
      },
      "outputs": [
        {
          "name": "stdout",
          "output_type": "stream",
          "text": [
            "Best Parameter: {'var_smoothing': 0}\n",
            "Best Score: 0.9649\n",
            "TestSet Score: 0.9591\n"
          ]
        }
      ],
      "source": [
        "print(\"Best Parameter: {}\".format(grid_search.best_params_))\n",
        "print(\"Best Score: {:.4f}\".format(grid_search.best_score_))\n",
        "print(\"TestSet Score: {:.4f}\".format(grid_search.score(X_scaled_test, y_test)))"
      ]
    },
    {
      "cell_type": "markdown",
      "id": "98ce8f38",
      "metadata": {
        "id": "98ce8f38"
      },
      "source": [
        "# 4. Random Search"
      ]
    },
    {
      "cell_type": "code",
      "execution_count": null,
      "id": "60a53375",
      "metadata": {
        "id": "60a53375",
        "outputId": "6fa469f3-71a0-44bf-89d3-d8bef69138b4"
      },
      "outputs": [
        {
          "data": {
            "text/plain": [
              "RandomizedSearchCV(cv=5, estimator=GaussianNB(), n_iter=100,\n",
              "                   param_distributions={'var_smoothing': <scipy.stats._distn_infrastructure.rv_frozen object at 0x0000015C527D68E0>})"
            ]
          },
          "execution_count": 12,
          "metadata": {},
          "output_type": "execute_result"
        }
      ],
      "source": [
        "from scipy.stats import randint\n",
        "param_distribs = {'var_smoothing': randint(low=0, high=20)}\n",
        "from sklearn.model_selection import RandomizedSearchCV\n",
        "random_search=RandomizedSearchCV(GaussianNB(),\n",
        "                                 param_distributions=param_distribs, n_iter=100, cv=5)\n",
        "random_search.fit(X_scaled_train, y_train)"
      ]
    },
    {
      "cell_type": "code",
      "execution_count": null,
      "id": "26fb59b4",
      "metadata": {
        "id": "26fb59b4",
        "outputId": "6265d5b6-e682-4b79-d7db-3d0832096dca"
      },
      "outputs": [
        {
          "name": "stdout",
          "output_type": "stream",
          "text": [
            "Best Parameter: {'var_smoothing': 0}\n",
            "Best Score: 0.9649\n",
            "TestSet Score: 0.9591\n"
          ]
        }
      ],
      "source": [
        "print(\"Best Parameter: {}\".format(random_search.best_params_))\n",
        "print(\"Best Score: {:.4f}\".format(random_search.best_score_))\n",
        "print(\"TestSet Score: {:.4f}\".format(random_search.score(X_scaled_test, y_test)))"
      ]
    },
    {
      "cell_type": "markdown",
      "id": "76a677cd",
      "metadata": {
        "id": "76a677cd"
      },
      "source": [
        "# Part2. 회귀(Regression)"
      ]
    },
    {
      "cell_type": "markdown",
      "id": "218e0792",
      "metadata": {
        "id": "218e0792"
      },
      "source": [
        "# 1. 분석 데이터 준비"
      ]
    },
    {
      "cell_type": "code",
      "execution_count": null,
      "id": "272ef8c1",
      "metadata": {
        "id": "272ef8c1"
      },
      "outputs": [],
      "source": [
        "data2=pd.read_csv('house_price.csv', encoding='utf-8')\n",
        "X=data2[data2.columns[1:5]]\n",
        "y=data2[[\"house_value\"]]"
      ]
    },
    {
      "cell_type": "code",
      "execution_count": null,
      "id": "5ed00449",
      "metadata": {
        "id": "5ed00449"
      },
      "outputs": [],
      "source": [
        "from sklearn.model_selection import train_test_split\n",
        "X_train, X_test, y_train, y_test=train_test_split(X, y, random_state=42)"
      ]
    },
    {
      "cell_type": "code",
      "execution_count": null,
      "id": "24bbaf72",
      "metadata": {
        "id": "24bbaf72"
      },
      "outputs": [],
      "source": [
        "from sklearn.preprocessing import MinMaxScaler\n",
        "scaler=MinMaxScaler()\n",
        "scaler.fit(X_train)\n",
        "X_scaled_train=scaler.transform(X_train)\n",
        "X_scaled_test=scaler.transform(X_test)"
      ]
    },
    {
      "cell_type": "markdown",
      "id": "41850165",
      "metadata": {
        "id": "41850165"
      },
      "source": [
        "# 2. 기본모델 적용"
      ]
    },
    {
      "cell_type": "markdown",
      "id": "cecb87dc",
      "metadata": {
        "id": "cecb87dc"
      },
      "source": [
        "from sklearn.naive_bayes import GaussianNB\n",
        "model=GaussianNB()\n",
        "model.fit(X_scaled_train, y_train)\n",
        "pred_train=model.predict(X_scaled_train)\n",
        "model.score(X_scaled_train, y_train)"
      ]
    },
    {
      "cell_type": "code",
      "execution_count": null,
      "id": "0e97a9f1",
      "metadata": {
        "id": "0e97a9f1",
        "outputId": "1b33299d-8982-4363-f9b6-0d7229c6d442"
      },
      "outputs": [
        {
          "data": {
            "text/plain": [
              "0.5455724466331763"
            ]
          },
          "execution_count": 17,
          "metadata": {},
          "output_type": "execute_result"
        }
      ],
      "source": [
        "from sklearn.linear_model import BayesianRidge\n",
        "model=BayesianRidge()\n",
        "model.fit(X_scaled_train, y_train)\n",
        "pred_train=model.predict(X_scaled_train)\n",
        "model.score(X_scaled_train, y_train)"
      ]
    },
    {
      "cell_type": "code",
      "execution_count": null,
      "id": "1c3ce841",
      "metadata": {
        "id": "1c3ce841",
        "outputId": "9f5f4cdd-5aba-4021-9d37-a97cbd2c1c6c"
      },
      "outputs": [
        {
          "data": {
            "text/plain": [
              "0.5626859871488646"
            ]
          },
          "execution_count": 18,
          "metadata": {},
          "output_type": "execute_result"
        }
      ],
      "source": [
        "pred_test=model.predict(X_scaled_test)\n",
        "model.score(X_scaled_test, y_test)"
      ]
    },
    {
      "cell_type": "code",
      "execution_count": null,
      "id": "48d5ab1e",
      "metadata": {
        "id": "48d5ab1e",
        "outputId": "2aad13ba-785a-4f87-8394-444bdf033b1a"
      },
      "outputs": [
        {
          "name": "stdout",
          "output_type": "stream",
          "text": [
            "훈련   데이터 RMSE: 64340.34302948542\n",
            "테스트 데이터 RMSE: 63220.681156434475\n"
          ]
        }
      ],
      "source": [
        "# RMSE (Root Mean Squared Error)\n",
        "import numpy as np\n",
        "from sklearn.metrics import mean_squared_error\n",
        "MSE_train = mean_squared_error(y_train, pred_train)\n",
        "MSE_test = mean_squared_error(y_test, pred_test)\n",
        "print(\"훈련   데이터 RMSE:\", np.sqrt(MSE_train))\n",
        "print(\"테스트 데이터 RMSE:\", np.sqrt(MSE_test))"
      ]
    },
    {
      "cell_type": "markdown",
      "id": "90ec9b57",
      "metadata": {
        "id": "90ec9b57"
      },
      "source": [
        "# 3. Grid Search"
      ]
    },
    {
      "cell_type": "code",
      "execution_count": null,
      "id": "6c464688",
      "metadata": {
        "id": "6c464688",
        "outputId": "c2f4e8d2-eaf7-488a-d403-921fa2a88983"
      },
      "outputs": [
        {
          "data": {
            "text/plain": [
              "GridSearchCV(cv=5, estimator=BayesianRidge(),\n",
              "             param_grid={'alpha_1': [1e-06, 1e-05, 0.0001, 0.001, 0.01, 0.1, 1,\n",
              "                                     2, 3, 4],\n",
              "                         'lambda_1': [1e-06, 1e-05, 0.0001, 0.001, 0.01, 0.1, 1,\n",
              "                                      2, 3, 4]})"
            ]
          },
          "execution_count": 20,
          "metadata": {},
          "output_type": "execute_result"
        }
      ],
      "source": [
        "param_grid={'alpha_1': [1e-06, 1e-05, 1e-04, 1e-03, 1e-02, 1e-01, 1, 2, 3, 4],\n",
        "            'lambda_1': [1e-06, 1e-05, 1e-04, 1e-03, 1e-02, 1e-01, 1, 2, 3, 4]}\n",
        "from sklearn.model_selection import GridSearchCV\n",
        "grid_search=GridSearchCV(BayesianRidge(), param_grid, cv=5)\n",
        "grid_search.fit(X_scaled_train, y_train)"
      ]
    },
    {
      "cell_type": "code",
      "execution_count": null,
      "id": "f9449a32",
      "metadata": {
        "id": "f9449a32",
        "outputId": "3f59739f-8de1-4a4e-bce2-9d34a4af3e4f"
      },
      "outputs": [
        {
          "name": "stdout",
          "output_type": "stream",
          "text": [
            "Best Parameter: {'alpha_1': 4, 'lambda_1': 1e-06}\n",
            "Best Score: 0.5452\n",
            "TestSet Score: 0.5627\n"
          ]
        }
      ],
      "source": [
        "print(\"Best Parameter: {}\".format(grid_search.best_params_))\n",
        "print(\"Best Score: {:.4f}\".format(grid_search.best_score_))\n",
        "print(\"TestSet Score: {:.4f}\".format(grid_search.score(X_scaled_test, y_test)))"
      ]
    },
    {
      "cell_type": "markdown",
      "id": "e069d922",
      "metadata": {
        "id": "e069d922"
      },
      "source": [
        "# 4. Random Search"
      ]
    },
    {
      "cell_type": "code",
      "execution_count": null,
      "id": "3cc03d11",
      "metadata": {
        "scrolled": true,
        "id": "3cc03d11",
        "outputId": "36541d78-379e-4f4b-e12c-d8ce3de2ad5d"
      },
      "outputs": [
        {
          "data": {
            "text/plain": [
              "RandomizedSearchCV(cv=5, estimator=BayesianRidge(), n_iter=50,\n",
              "                   param_distributions={'alpha_1': <scipy.stats._distn_infrastructure.rv_frozen object at 0x0000015C538F40D0>,\n",
              "                                        'lambda_1': <scipy.stats._distn_infrastructure.rv_frozen object at 0x0000015C538F4DC0>})"
            ]
          },
          "execution_count": 22,
          "metadata": {},
          "output_type": "execute_result"
        }
      ],
      "source": [
        "param_distribs = {'alpha_1': randint(low=1e-06, high=10),\n",
        "            'lambda_1': randint(low=1e-06, high=10)}\n",
        "from sklearn.model_selection import RandomizedSearchCV\n",
        "random_search=RandomizedSearchCV(BayesianRidge(),\n",
        "                                 param_distributions=param_distribs, n_iter=50, cv=5)\n",
        "random_search.fit(X_scaled_train, y_train)"
      ]
    },
    {
      "cell_type": "code",
      "execution_count": null,
      "id": "197eac04",
      "metadata": {
        "id": "197eac04",
        "outputId": "b8bbba94-c237-4fb2-9160-c3f6aa88e533"
      },
      "outputs": [
        {
          "name": "stdout",
          "output_type": "stream",
          "text": [
            "Best Parameter: {'alpha_1': 6, 'lambda_1': 0}\n",
            "Best Score: 0.5452\n",
            "TestSet Score: 0.5627\n"
          ]
        }
      ],
      "source": [
        "print(\"Best Parameter: {}\".format(random_search.best_params_))\n",
        "print(\"Best Score: {:.4f}\".format(random_search.best_score_))\n",
        "print(\"TestSet Score: {:.4f}\".format(random_search.score(X_scaled_test, y_test)))"
      ]
    },
    {
      "cell_type": "code",
      "execution_count": null,
      "id": "f798d466",
      "metadata": {
        "id": "f798d466"
      },
      "outputs": [],
      "source": []
    }
  ],
  "metadata": {
    "kernelspec": {
      "display_name": "Python 3",
      "language": "python",
      "name": "python3"
    },
    "language_info": {
      "codemirror_mode": {
        "name": "ipython",
        "version": 3
      },
      "file_extension": ".py",
      "mimetype": "text/x-python",
      "name": "python",
      "nbconvert_exporter": "python",
      "pygments_lexer": "ipython3",
      "version": "3.8.8"
    },
    "colab": {
      "provenance": [],
      "include_colab_link": true
    }
  },
  "nbformat": 4,
  "nbformat_minor": 5
}