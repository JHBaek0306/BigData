{
  "cells": [
    {
      "cell_type": "markdown",
      "metadata": {
        "id": "view-in-github",
        "colab_type": "text"
      },
      "source": [
        "<a href=\"https://colab.research.google.com/github/JHBaek0306/BigData/blob/main/%EB%B9%85%EB%B6%84%EA%B8%B0_3%EB%B6%80_ML%ED%94%84%EB%A1%9C%EC%84%B8%EC%8A%A42_%EB%8D%B0%EC%9D%B4%ED%84%B0%EC%85%8B_%EB%B6%84%ED%95%A0%EA%B3%BC_%EB%AA%A8%EB%8D%B8%EA%B2%80%EC%A6%9D.ipynb\" target=\"_parent\"><img src=\"https://colab.research.google.com/assets/colab-badge.svg\" alt=\"Open In Colab\"/></a>"
      ]
    },
    {
      "cell_type": "markdown",
      "metadata": {
        "id": "xK12p2ekVyd1"
      },
      "source": [
        "# 5. 머신러닝 프로세스2: 데이터셋 분할과 모델검증\n",
        "- 훈련데이터 및 테스트 데이터셋 분할\n",
        "- 홀드아웃과 교차검증"
      ]
    },
    {
      "cell_type": "markdown",
      "metadata": {
        "id": "XDyXK45SVyd2"
      },
      "source": [
        "## 5-1. 특성치(X), 레이블(y) 나누기"
      ]
    },
    {
      "cell_type": "code",
      "execution_count": null,
      "metadata": {
        "id": "bc6bGV1AVyd3",
        "outputId": "65a6eaaa-2bad-4db0-bd0e-f6d17c523c94"
      },
      "outputs": [
        {
          "data": {
            "text/html": [
              "<div>\n",
              "<style scoped>\n",
              "    .dataframe tbody tr th:only-of-type {\n",
              "        vertical-align: middle;\n",
              "    }\n",
              "\n",
              "    .dataframe tbody tr th {\n",
              "        vertical-align: top;\n",
              "    }\n",
              "\n",
              "    .dataframe thead th {\n",
              "        text-align: right;\n",
              "    }\n",
              "</style>\n",
              "<table border=\"1\" class=\"dataframe\">\n",
              "  <thead>\n",
              "    <tr style=\"text-align: right;\">\n",
              "      <th></th>\n",
              "      <th>gender_female</th>\n",
              "      <th>gender_male</th>\n",
              "      <th>region_Chungcheung</th>\n",
              "      <th>region_Honam</th>\n",
              "      <th>region_Others</th>\n",
              "      <th>region_Sudo</th>\n",
              "      <th>region_Youngnam</th>\n",
              "      <th>edu</th>\n",
              "      <th>income</th>\n",
              "      <th>age</th>\n",
              "      <th>score_gov</th>\n",
              "      <th>score_progress</th>\n",
              "      <th>score_intention</th>\n",
              "      <th>vote</th>\n",
              "      <th>parties</th>\n",
              "    </tr>\n",
              "  </thead>\n",
              "  <tbody>\n",
              "    <tr>\n",
              "      <th>0</th>\n",
              "      <td>0</td>\n",
              "      <td>1</td>\n",
              "      <td>0</td>\n",
              "      <td>0</td>\n",
              "      <td>0</td>\n",
              "      <td>0</td>\n",
              "      <td>1</td>\n",
              "      <td>3</td>\n",
              "      <td>3</td>\n",
              "      <td>3</td>\n",
              "      <td>2</td>\n",
              "      <td>2</td>\n",
              "      <td>4.0</td>\n",
              "      <td>1</td>\n",
              "      <td>2</td>\n",
              "    </tr>\n",
              "    <tr>\n",
              "      <th>1</th>\n",
              "      <td>0</td>\n",
              "      <td>1</td>\n",
              "      <td>0</td>\n",
              "      <td>0</td>\n",
              "      <td>1</td>\n",
              "      <td>0</td>\n",
              "      <td>0</td>\n",
              "      <td>2</td>\n",
              "      <td>3</td>\n",
              "      <td>3</td>\n",
              "      <td>2</td>\n",
              "      <td>4</td>\n",
              "      <td>3.0</td>\n",
              "      <td>0</td>\n",
              "      <td>3</td>\n",
              "    </tr>\n",
              "    <tr>\n",
              "      <th>2</th>\n",
              "      <td>0</td>\n",
              "      <td>1</td>\n",
              "      <td>0</td>\n",
              "      <td>1</td>\n",
              "      <td>0</td>\n",
              "      <td>0</td>\n",
              "      <td>0</td>\n",
              "      <td>1</td>\n",
              "      <td>2</td>\n",
              "      <td>4</td>\n",
              "      <td>1</td>\n",
              "      <td>3</td>\n",
              "      <td>2.8</td>\n",
              "      <td>1</td>\n",
              "      <td>4</td>\n",
              "    </tr>\n",
              "    <tr>\n",
              "      <th>3</th>\n",
              "      <td>1</td>\n",
              "      <td>0</td>\n",
              "      <td>0</td>\n",
              "      <td>0</td>\n",
              "      <td>0</td>\n",
              "      <td>1</td>\n",
              "      <td>0</td>\n",
              "      <td>2</td>\n",
              "      <td>1</td>\n",
              "      <td>3</td>\n",
              "      <td>5</td>\n",
              "      <td>4</td>\n",
              "      <td>2.6</td>\n",
              "      <td>1</td>\n",
              "      <td>1</td>\n",
              "    </tr>\n",
              "    <tr>\n",
              "      <th>4</th>\n",
              "      <td>0</td>\n",
              "      <td>1</td>\n",
              "      <td>0</td>\n",
              "      <td>0</td>\n",
              "      <td>0</td>\n",
              "      <td>1</td>\n",
              "      <td>0</td>\n",
              "      <td>1</td>\n",
              "      <td>2</td>\n",
              "      <td>4</td>\n",
              "      <td>4</td>\n",
              "      <td>3</td>\n",
              "      <td>2.4</td>\n",
              "      <td>1</td>\n",
              "      <td>1</td>\n",
              "    </tr>\n",
              "  </tbody>\n",
              "</table>\n",
              "</div>"
            ],
            "text/plain": [
              "   gender_female  gender_male  region_Chungcheung  region_Honam  \\\n",
              "0              0            1                   0             0   \n",
              "1              0            1                   0             0   \n",
              "2              0            1                   0             1   \n",
              "3              1            0                   0             0   \n",
              "4              0            1                   0             0   \n",
              "\n",
              "   region_Others  region_Sudo  region_Youngnam  edu  income  age  score_gov  \\\n",
              "0              0            0                1    3       3    3          2   \n",
              "1              1            0                0    2       3    3          2   \n",
              "2              0            0                0    1       2    4          1   \n",
              "3              0            1                0    2       1    3          5   \n",
              "4              0            1                0    1       2    4          4   \n",
              "\n",
              "   score_progress  score_intention  vote  parties  \n",
              "0               2              4.0     1        2  \n",
              "1               4              3.0     0        3  \n",
              "2               3              2.8     1        4  \n",
              "3               4              2.6     1        1  \n",
              "4               3              2.4     1        1  "
            ]
          },
          "execution_count": 1,
          "metadata": {},
          "output_type": "execute_result"
        }
      ],
      "source": [
        "# 데이터셋 불어오기 및 확인\n",
        "import warnings\n",
        "warnings.filterwarnings(\"ignore\")\n",
        "import pandas as pd\n",
        "data=pd.read_csv('Fvote.csv', encoding='utf-8')\n",
        "data.head()"
      ]
    },
    {
      "cell_type": "code",
      "execution_count": null,
      "metadata": {
        "id": "RACKLNCDVyd4"
      },
      "outputs": [],
      "source": [
        "# 특성변수 데이터셋 나누기\n",
        "# 방법1: 특성이름으로 데이터셋 나누기\n",
        "X=data[['gender_female', 'gender_male', 'region_Chungcheung', 'region_Honam',\n",
        "        'region_Others', 'region_Sudo', 'region_Youngnam', 'edu', 'income',\n",
        "        'age', 'score_gov', 'score_progress', 'score_intention']]\n",
        "# 방법2: 특성 위치값으로 데이터셋 나누기\n",
        "X=data[data.columns[1:14]]\n",
        "# 방법3: loc 함수로 데이터셋 나누기 (단, 불러올 특성이 연달아 있어야 함)\n",
        "X=data.loc[:, 'gender_female':'score_intention']"
      ]
    },
    {
      "cell_type": "code",
      "execution_count": null,
      "metadata": {
        "id": "Qhyb8Xo6Vyd4"
      },
      "outputs": [],
      "source": [
        "# 레이블 변수 중 투표여부(vote) 데이터셋 나누기\n",
        "y=data[[\"vote\"]]"
      ]
    },
    {
      "cell_type": "markdown",
      "metadata": {
        "id": "jwDyVLsIVyd4"
      },
      "source": [
        "## 5-2. train-test 데이터셋 나누기"
      ]
    },
    {
      "cell_type": "code",
      "execution_count": null,
      "metadata": {
        "id": "xdjbopcNVyd4"
      },
      "outputs": [],
      "source": [
        "# 훈련데이터와 테스트 데이터 셋 나누기 및 데이터 확인\n",
        "from sklearn.model_selection import train_test_split\n",
        "X_train, X_test, y_train, y_test=train_test_split(X, y, stratify=y, random_state=42)"
      ]
    },
    {
      "cell_type": "code",
      "execution_count": null,
      "metadata": {
        "id": "pTFVzHrIVyd4",
        "outputId": "2b8de23d-3ff4-4f04-95ab-0d820c21af19"
      },
      "outputs": [
        {
          "name": "stdout",
          "output_type": "stream",
          "text": [
            "(158, 13)\n",
            "(53, 13)\n"
          ]
        }
      ],
      "source": [
        "# 데이터셋 행렬 구조 확인\n",
        "print(X_train.shape)\n",
        "print(X_test.shape)"
      ]
    },
    {
      "cell_type": "markdown",
      "metadata": {
        "id": "1CKb7NebVyd4"
      },
      "source": [
        "## 5-3. 모델 적용"
      ]
    },
    {
      "cell_type": "code",
      "execution_count": null,
      "metadata": {
        "id": "b_GgrpPGVyd5"
      },
      "outputs": [],
      "source": [
        "# LogisticRegression 알고리즘 적용\n",
        "from sklearn.linear_model import LogisticRegression\n",
        "model=LogisticRegression()"
      ]
    },
    {
      "cell_type": "markdown",
      "metadata": {
        "id": "qcTAMy72Vyd5"
      },
      "source": [
        "### 가. 랜덤없는 교차검증: cross_val_score"
      ]
    },
    {
      "cell_type": "code",
      "execution_count": null,
      "metadata": {
        "id": "IwH5gdx1Vyd5",
        "outputId": "fc1aa666-5ba4-4fd4-c9d0-ef33a4f47bfb"
      },
      "outputs": [
        {
          "name": "stdout",
          "output_type": "stream",
          "text": [
            "5개 테스트 셋 정확도: [0.71875    0.6875     0.8125     0.58064516 0.80645161]\n",
            "정확도 평균: 0.7211693548387096\n"
          ]
        }
      ],
      "source": [
        "from sklearn.model_selection import cross_val_score\n",
        "scores=cross_val_score(model, X_train, y_train, cv=5)\n",
        "print(\"5개 테스트 셋 정확도:\", scores)\n",
        "print(\"정확도 평균:\", scores.mean())"
      ]
    },
    {
      "cell_type": "markdown",
      "metadata": {
        "id": "N9ZZYst9Vyd5"
      },
      "source": [
        "### 나. 랜덤 있는 교차검증: K-Fold"
      ]
    },
    {
      "cell_type": "code",
      "execution_count": null,
      "metadata": {
        "id": "JQm03rTRVyd5",
        "outputId": "5a61fa47-c7b9-4228-a4d6-fdbbe2636f24"
      },
      "outputs": [
        {
          "name": "stdout",
          "output_type": "stream",
          "text": [
            "5개 폴드의 정확도: [0.71875    0.6875     0.8125     0.58064516 0.80645161]\n"
          ]
        }
      ],
      "source": [
        "from sklearn.model_selection import KFold\n",
        "kfold=KFold(n_splits=5, shuffle=True, random_state=42)\n",
        "score=cross_val_score(model, X_train, y_train, cv=kfold)\n",
        "print(\"5개 폴드의 정확도:\", scores)"
      ]
    },
    {
      "cell_type": "markdown",
      "metadata": {
        "id": "oSFHUTvrVyd5"
      },
      "source": [
        "### 다. 임의분할 교차검증"
      ]
    },
    {
      "cell_type": "code",
      "execution_count": null,
      "metadata": {
        "id": "o6aOUlhLVyd5",
        "outputId": "c2e63208-8775-41b5-ba48-22debfc613dd"
      },
      "outputs": [
        {
          "name": "stdout",
          "output_type": "stream",
          "text": [
            "교차검증 정확도: [0.71875    0.6875     0.8125     0.58064516 0.80645161]\n"
          ]
        }
      ],
      "source": [
        "from sklearn.model_selection import ShuffleSplit\n",
        "shuffle_split=ShuffleSplit(test_size=0.5, train_size=0.5, random_state=42)\n",
        "score=cross_val_score(model, X_train, y_train, cv=shuffle_split)\n",
        "print(\"교차검증 정확도:\", scores)"
      ]
    },
    {
      "cell_type": "markdown",
      "metadata": {
        "id": "6aHWsOeKVyd5"
      },
      "source": [
        "## 5-4. train-validity-test 분할과 교차검증"
      ]
    },
    {
      "cell_type": "code",
      "execution_count": null,
      "metadata": {
        "id": "iChI8msjVyd6"
      },
      "outputs": [],
      "source": [
        "from sklearn.model_selection import train_test_split\n",
        "X_train_val, X_test, y_train_val, y_test=train_test_split(X, y, random_state=1 )\n",
        "X_train, X_valid, y_train, y_valid=train_test_split(X_train_val, y_train_val, random_state=2 )"
      ]
    },
    {
      "cell_type": "code",
      "execution_count": null,
      "metadata": {
        "id": "I59nz9NXVyd6",
        "outputId": "18d3b979-48ac-4763-e8db-929ab4e63e64"
      },
      "outputs": [
        {
          "name": "stdout",
          "output_type": "stream",
          "text": [
            "교차검증 정확도: [0.58333333 0.66666667 0.70833333 0.65217391 0.65217391]\n",
            "정확도 평균: 0.652536231884058\n"
          ]
        }
      ],
      "source": [
        "model.fit(X_train, y_train)\n",
        "scores=cross_val_score(model, X_train, y_train, cv=5)\n",
        "print(\"교차검증 정확도:\", scores)\n",
        "print(\"정확도 평균:\", scores.mean())"
      ]
    },
    {
      "cell_type": "code",
      "execution_count": null,
      "metadata": {
        "id": "Rd_KepTDVyd6",
        "outputId": "8fd3c19f-1cca-4133-939b-28a9b02b5330"
      },
      "outputs": [
        {
          "data": {
            "text/plain": [
              "0.65"
            ]
          },
          "execution_count": 12,
          "metadata": {},
          "output_type": "execute_result"
        }
      ],
      "source": [
        "model.score(X_valid, y_valid)"
      ]
    },
    {
      "cell_type": "code",
      "execution_count": null,
      "metadata": {
        "id": "rJZG2j7sVyd6",
        "outputId": "95d350e0-42b8-4e2d-fe2c-b039917a9ee2"
      },
      "outputs": [
        {
          "data": {
            "text/plain": [
              "0.6981132075471698"
            ]
          },
          "execution_count": 13,
          "metadata": {},
          "output_type": "execute_result"
        }
      ],
      "source": [
        "model.score(X_test, y_test)"
      ]
    }
  ],
  "metadata": {
    "kernelspec": {
      "display_name": "Python 3",
      "language": "python",
      "name": "python3"
    },
    "language_info": {
      "codemirror_mode": {
        "name": "ipython",
        "version": 3
      },
      "file_extension": ".py",
      "mimetype": "text/x-python",
      "name": "python",
      "nbconvert_exporter": "python",
      "pygments_lexer": "ipython3",
      "version": "3.8.8"
    },
    "colab": {
      "provenance": [],
      "include_colab_link": true
    }
  },
  "nbformat": 4,
  "nbformat_minor": 0
}