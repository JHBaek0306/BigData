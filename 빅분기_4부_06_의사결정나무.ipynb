{
  "cells": [
    {
      "cell_type": "markdown",
      "metadata": {
        "id": "view-in-github",
        "colab_type": "text"
      },
      "source": [
        "<a href=\"https://colab.research.google.com/github/JHBaek0306/BigData/blob/main/%EB%B9%85%EB%B6%84%EA%B8%B0_4%EB%B6%80_06_%EC%9D%98%EC%82%AC%EA%B2%B0%EC%A0%95%EB%82%98%EB%AC%B4.ipynb\" target=\"_parent\"><img src=\"https://colab.research.google.com/assets/colab-badge.svg\" alt=\"Open In Colab\"/></a>"
      ]
    },
    {
      "cell_type": "markdown",
      "id": "28cfaf64",
      "metadata": {
        "id": "28cfaf64"
      },
      "source": [
        "# Part1. 분류(Classification)"
      ]
    },
    {
      "cell_type": "markdown",
      "id": "97e89317",
      "metadata": {
        "id": "97e89317"
      },
      "source": [
        "# 1. 분석 데이터 준비"
      ]
    },
    {
      "cell_type": "code",
      "execution_count": null,
      "id": "a7b67ee2",
      "metadata": {
        "id": "a7b67ee2"
      },
      "outputs": [],
      "source": [
        "import warnings\n",
        "warnings.filterwarnings(\"ignore\")\n",
        "import pandas as pd\n",
        "data1=pd.read_csv('breast-cancer-wisconsin.csv', encoding='utf-8')\n",
        "X=data1[data1.columns[1:10]]\n",
        "y=data1[[\"Class\"]]"
      ]
    },
    {
      "cell_type": "code",
      "execution_count": null,
      "id": "27bc2be2",
      "metadata": {
        "id": "27bc2be2"
      },
      "outputs": [],
      "source": [
        "from sklearn.model_selection import train_test_split\n",
        "X_train, X_test, y_train, y_test=train_test_split(X, y, stratify=y, random_state=42)"
      ]
    },
    {
      "cell_type": "code",
      "execution_count": null,
      "id": "722c9c9c",
      "metadata": {
        "id": "722c9c9c"
      },
      "outputs": [],
      "source": [
        "from sklearn.preprocessing import MinMaxScaler\n",
        "scaler=MinMaxScaler()\n",
        "scaler.fit(X_train)\n",
        "X_scaled_train=scaler.transform(X_train)\n",
        "X_scaled_test=scaler.transform(X_test)"
      ]
    },
    {
      "cell_type": "markdown",
      "id": "0bad99c1",
      "metadata": {
        "id": "0bad99c1"
      },
      "source": [
        "# 2. 기본모델 적용"
      ]
    },
    {
      "cell_type": "code",
      "execution_count": null,
      "id": "6b96916d",
      "metadata": {
        "id": "6b96916d",
        "outputId": "60498954-d8e3-4f71-c8d7-7c9411843cdb"
      },
      "outputs": [
        {
          "data": {
            "text/plain": [
              "1.0"
            ]
          },
          "execution_count": 4,
          "metadata": {},
          "output_type": "execute_result"
        }
      ],
      "source": [
        "from sklearn.tree import DecisionTreeClassifier\n",
        "model=DecisionTreeClassifier()\n",
        "model.fit(X_scaled_train, y_train)\n",
        "pred_train=model.predict(X_scaled_train)\n",
        "model.score(X_scaled_train, y_train)"
      ]
    },
    {
      "cell_type": "code",
      "execution_count": null,
      "id": "94136194",
      "metadata": {
        "id": "94136194",
        "outputId": "b4af6350-827c-4b36-b2d6-2b7a09d5fba7"
      },
      "outputs": [
        {
          "name": "stdout",
          "output_type": "stream",
          "text": [
            "훈련데이터 오차행렬:\n",
            " [[333   0]\n",
            " [  0 179]]\n"
          ]
        }
      ],
      "source": [
        "from sklearn.metrics import confusion_matrix\n",
        "confusion_train=confusion_matrix(y_train, pred_train)\n",
        "print(\"훈련데이터 오차행렬:\\n\", confusion_train)"
      ]
    },
    {
      "cell_type": "code",
      "execution_count": null,
      "id": "61f041e1",
      "metadata": {
        "id": "61f041e1",
        "outputId": "0bddf754-409d-440c-a8fe-db6492daad10"
      },
      "outputs": [
        {
          "name": "stdout",
          "output_type": "stream",
          "text": [
            "분류예측 레포트:\n",
            "               precision    recall  f1-score   support\n",
            "\n",
            "           0       1.00      1.00      1.00       333\n",
            "           1       1.00      1.00      1.00       179\n",
            "\n",
            "    accuracy                           1.00       512\n",
            "   macro avg       1.00      1.00      1.00       512\n",
            "weighted avg       1.00      1.00      1.00       512\n",
            "\n"
          ]
        }
      ],
      "source": [
        "from sklearn.metrics import classification_report\n",
        "cfreport_train=classification_report(y_train, pred_train)\n",
        "print(\"분류예측 레포트:\\n\", cfreport_train)"
      ]
    },
    {
      "cell_type": "code",
      "execution_count": null,
      "id": "359e0adb",
      "metadata": {
        "id": "359e0adb",
        "outputId": "32b502e7-29c4-4abd-8893-76ad09907f1b"
      },
      "outputs": [
        {
          "data": {
            "text/plain": [
              "0.9532163742690059"
            ]
          },
          "execution_count": 7,
          "metadata": {},
          "output_type": "execute_result"
        }
      ],
      "source": [
        "pred_test=model.predict(X_scaled_test)\n",
        "model.score(X_scaled_test, y_test)"
      ]
    },
    {
      "cell_type": "code",
      "execution_count": null,
      "id": "f7591a72",
      "metadata": {
        "id": "f7591a72",
        "outputId": "c5c26779-38dc-46c5-a558-71fde7c744c0"
      },
      "outputs": [
        {
          "name": "stdout",
          "output_type": "stream",
          "text": [
            "테스트데이터 오차행렬:\n",
            " [[106   5]\n",
            " [  3  57]]\n"
          ]
        }
      ],
      "source": [
        "confusion_test=confusion_matrix(y_test, pred_test)\n",
        "print(\"테스트데이터 오차행렬:\\n\", confusion_test)"
      ]
    },
    {
      "cell_type": "code",
      "execution_count": null,
      "id": "9a1ee5c3",
      "metadata": {
        "id": "9a1ee5c3",
        "outputId": "46c986d9-3fc4-4e81-d4a8-930909ee8443"
      },
      "outputs": [
        {
          "name": "stdout",
          "output_type": "stream",
          "text": [
            "분류예측 레포트:\n",
            "               precision    recall  f1-score   support\n",
            "\n",
            "           0       0.97      0.95      0.96       111\n",
            "           1       0.92      0.95      0.93        60\n",
            "\n",
            "    accuracy                           0.95       171\n",
            "   macro avg       0.95      0.95      0.95       171\n",
            "weighted avg       0.95      0.95      0.95       171\n",
            "\n"
          ]
        }
      ],
      "source": [
        "from sklearn.metrics import classification_report\n",
        "cfreport_test=classification_report(y_test, pred_test)\n",
        "print(\"분류예측 레포트:\\n\", cfreport_test)"
      ]
    },
    {
      "cell_type": "markdown",
      "id": "a86c622e",
      "metadata": {
        "id": "a86c622e"
      },
      "source": [
        "# 3. Grid Search"
      ]
    },
    {
      "cell_type": "code",
      "execution_count": null,
      "id": "13410788",
      "metadata": {
        "id": "13410788",
        "outputId": "607ad8e5-17fb-4fd3-f340-7627337c4e2b"
      },
      "outputs": [
        {
          "data": {
            "text/plain": [
              "GridSearchCV(cv=5, estimator=DecisionTreeClassifier(),\n",
              "             param_grid={'max_depth': range(2, 20, 2),\n",
              "                         'min_samples_leaf': range(1, 50, 2)})"
            ]
          },
          "execution_count": 10,
          "metadata": {},
          "output_type": "execute_result"
        }
      ],
      "source": [
        "param_grid={'max_depth': range(2,20,2), 'min_samples_leaf': range(1,50,2)}\n",
        "from sklearn.model_selection import GridSearchCV\n",
        "grid_search=GridSearchCV(DecisionTreeClassifier(), param_grid, cv=5)\n",
        "grid_search.fit(X_scaled_train, y_train)"
      ]
    },
    {
      "cell_type": "code",
      "execution_count": null,
      "id": "bd235339",
      "metadata": {
        "id": "bd235339",
        "outputId": "83de0076-b210-49ce-a6dd-f3220a91101d"
      },
      "outputs": [
        {
          "name": "stdout",
          "output_type": "stream",
          "text": [
            "Best Parameter: {'max_depth': 6, 'min_samples_leaf': 1}\n",
            "Best Score: 0.9589\n",
            "TestSet Score: 0.9415\n"
          ]
        }
      ],
      "source": [
        "print(\"Best Parameter: {}\".format(grid_search.best_params_))\n",
        "print(\"Best Score: {:.4f}\".format(grid_search.best_score_))\n",
        "print(\"TestSet Score: {:.4f}\".format(grid_search.score(X_scaled_test, y_test)))"
      ]
    },
    {
      "cell_type": "markdown",
      "id": "98ce8f38",
      "metadata": {
        "id": "98ce8f38"
      },
      "source": [
        "# 4. Random Search"
      ]
    },
    {
      "cell_type": "code",
      "execution_count": null,
      "id": "60a53375",
      "metadata": {
        "id": "60a53375",
        "outputId": "5a10daf8-a022-4b33-b5d3-1017bf47bb65"
      },
      "outputs": [
        {
          "data": {
            "text/plain": [
              "RandomizedSearchCV(cv=5, estimator=DecisionTreeClassifier(), n_iter=20,\n",
              "                   param_distributions={'max_depth': <scipy.stats._distn_infrastructure.rv_frozen object at 0x0000015A318DDF10>,\n",
              "                                        'min_samples_leaf': <scipy.stats._distn_infrastructure.rv_frozen object at 0x0000015A318DDD60>})"
            ]
          },
          "execution_count": 12,
          "metadata": {},
          "output_type": "execute_result"
        }
      ],
      "source": [
        "from scipy.stats import randint\n",
        "param_distribs = {'max_depth': randint(low=1, high=20),\n",
        "                  'min_samples_leaf': randint(low=1, high=50)}\n",
        "from sklearn.model_selection import RandomizedSearchCV\n",
        "random_search=RandomizedSearchCV(DecisionTreeClassifier(),\n",
        "                                 param_distributions=param_distribs, n_iter=20, cv=5)\n",
        "random_search.fit(X_scaled_train, y_train)"
      ]
    },
    {
      "cell_type": "code",
      "execution_count": null,
      "id": "26fb59b4",
      "metadata": {
        "id": "26fb59b4",
        "outputId": "a58b323b-3a7c-48d2-cb76-3287af332d0a"
      },
      "outputs": [
        {
          "name": "stdout",
          "output_type": "stream",
          "text": [
            "Best Parameter: {'max_depth': 17, 'min_samples_leaf': 2}\n",
            "Best Score: 0.9531\n",
            "TestSet Score: 0.9532\n"
          ]
        }
      ],
      "source": [
        "print(\"Best Parameter: {}\".format(random_search.best_params_))\n",
        "print(\"Best Score: {:.4f}\".format(random_search.best_score_))\n",
        "print(\"TestSet Score: {:.4f}\".format(random_search.score(X_scaled_test, y_test)))"
      ]
    },
    {
      "cell_type": "markdown",
      "id": "76a677cd",
      "metadata": {
        "id": "76a677cd"
      },
      "source": [
        "# Part2. 회귀(Regression)"
      ]
    },
    {
      "cell_type": "markdown",
      "id": "218e0792",
      "metadata": {
        "id": "218e0792"
      },
      "source": [
        "# 1. 분석 데이터 준비"
      ]
    },
    {
      "cell_type": "code",
      "execution_count": null,
      "id": "272ef8c1",
      "metadata": {
        "id": "272ef8c1"
      },
      "outputs": [],
      "source": [
        "data2=pd.read_csv('house_price.csv', encoding='utf-8')\n",
        "X=data2[data2.columns[1:5]]\n",
        "y=data2[[\"house_value\"]]"
      ]
    },
    {
      "cell_type": "code",
      "execution_count": null,
      "id": "5ed00449",
      "metadata": {
        "id": "5ed00449"
      },
      "outputs": [],
      "source": [
        "from sklearn.model_selection import train_test_split\n",
        "X_train, X_test, y_train, y_test=train_test_split(X, y, random_state=42)"
      ]
    },
    {
      "cell_type": "code",
      "execution_count": null,
      "id": "24bbaf72",
      "metadata": {
        "id": "24bbaf72"
      },
      "outputs": [],
      "source": [
        "from sklearn.preprocessing import MinMaxScaler\n",
        "scaler=MinMaxScaler()\n",
        "scaler.fit(X_train)\n",
        "X_scaled_train=scaler.transform(X_train)\n",
        "X_scaled_test=scaler.transform(X_test)"
      ]
    },
    {
      "cell_type": "markdown",
      "id": "41850165",
      "metadata": {
        "id": "41850165"
      },
      "source": [
        "# 2. 기본모델 적용"
      ]
    },
    {
      "cell_type": "code",
      "execution_count": null,
      "id": "0c34ac9e",
      "metadata": {
        "id": "0c34ac9e",
        "outputId": "8d1e97b8-18b2-4760-d928-8c7e495fdcc4"
      },
      "outputs": [
        {
          "data": {
            "text/plain": [
              "1.0"
            ]
          },
          "execution_count": 17,
          "metadata": {},
          "output_type": "execute_result"
        }
      ],
      "source": [
        "from sklearn.tree import DecisionTreeRegressor\n",
        "model=DecisionTreeRegressor()\n",
        "model.fit(X_scaled_train, y_train)\n",
        "pred_train=model.predict(X_scaled_train)\n",
        "model.score(X_scaled_train, y_train)"
      ]
    },
    {
      "cell_type": "code",
      "execution_count": null,
      "id": "1c3ce841",
      "metadata": {
        "id": "1c3ce841",
        "outputId": "2a74434a-b4df-45d5-89f9-4209af5d226c"
      },
      "outputs": [
        {
          "data": {
            "text/plain": [
              "0.22116121551330037"
            ]
          },
          "execution_count": 18,
          "metadata": {},
          "output_type": "execute_result"
        }
      ],
      "source": [
        "pred_test=model.predict(X_scaled_test)\n",
        "model.score(X_scaled_test, y_test)"
      ]
    },
    {
      "cell_type": "code",
      "execution_count": null,
      "id": "48d5ab1e",
      "metadata": {
        "id": "48d5ab1e",
        "outputId": "dfc4d990-3f65-4fee-b72f-cd3351f12790"
      },
      "outputs": [
        {
          "name": "stdout",
          "output_type": "stream",
          "text": [
            "훈련   데이터 RMSE: 0.0\n",
            "테스트 데이터 RMSE: 84369.65224928294\n"
          ]
        }
      ],
      "source": [
        "# RMSE (Root Mean Squared Error)\n",
        "import numpy as np\n",
        "from sklearn.metrics import mean_squared_error\n",
        "MSE_train = mean_squared_error(y_train, pred_train)\n",
        "MSE_test = mean_squared_error(y_test, pred_test)\n",
        "print(\"훈련   데이터 RMSE:\", np.sqrt(MSE_train))\n",
        "print(\"테스트 데이터 RMSE:\", np.sqrt(MSE_test))"
      ]
    },
    {
      "cell_type": "markdown",
      "id": "90ec9b57",
      "metadata": {
        "id": "90ec9b57"
      },
      "source": [
        "# 3. Grid Search"
      ]
    },
    {
      "cell_type": "code",
      "execution_count": null,
      "id": "6c464688",
      "metadata": {
        "id": "6c464688",
        "outputId": "fe177609-570d-40e1-bf9c-87fb25bf4f9b"
      },
      "outputs": [
        {
          "data": {
            "text/plain": [
              "GridSearchCV(cv=5, estimator=DecisionTreeRegressor(),\n",
              "             param_grid={'max_depth': range(2, 20, 2),\n",
              "                         'min_samples_leaf': range(1, 50, 2)})"
            ]
          },
          "execution_count": 20,
          "metadata": {},
          "output_type": "execute_result"
        }
      ],
      "source": [
        "param_grid={'max_depth': range(2,20,2), 'min_samples_leaf': range(1,50,2)}\n",
        "from sklearn.model_selection import GridSearchCV\n",
        "grid_search=GridSearchCV(DecisionTreeRegressor(), param_grid, cv=5)\n",
        "grid_search.fit(X_scaled_train, y_train)"
      ]
    },
    {
      "cell_type": "code",
      "execution_count": null,
      "id": "f9449a32",
      "metadata": {
        "id": "f9449a32",
        "outputId": "86f0c959-9a9b-4fdc-948e-27779f8d74b6"
      },
      "outputs": [
        {
          "name": "stdout",
          "output_type": "stream",
          "text": [
            "Best Parameter: {'max_depth': 8, 'min_samples_leaf': 49}\n",
            "Best Score: 0.5592\n",
            "TestSet Score: 0.5770\n"
          ]
        }
      ],
      "source": [
        "print(\"Best Parameter: {}\".format(grid_search.best_params_))\n",
        "print(\"Best Score: {:.4f}\".format(grid_search.best_score_))\n",
        "print(\"TestSet Score: {:.4f}\".format(grid_search.score(X_scaled_test, y_test)))"
      ]
    },
    {
      "cell_type": "markdown",
      "id": "e069d922",
      "metadata": {
        "id": "e069d922"
      },
      "source": [
        "# 4. Random Search"
      ]
    },
    {
      "cell_type": "code",
      "execution_count": null,
      "id": "3cc03d11",
      "metadata": {
        "id": "3cc03d11",
        "outputId": "f17628a4-8102-4ce6-ea2d-52d2b78c398a"
      },
      "outputs": [
        {
          "data": {
            "text/plain": [
              "RandomizedSearchCV(cv=5, estimator=DecisionTreeRegressor(), n_iter=20,\n",
              "                   param_distributions={'max_depth': <scipy.stats._distn_infrastructure.rv_frozen object at 0x0000015A318EB3A0>,\n",
              "                                        'min_samples_leaf': <scipy.stats._distn_infrastructure.rv_frozen object at 0x0000015A318E3C40>})"
            ]
          },
          "execution_count": 22,
          "metadata": {},
          "output_type": "execute_result"
        }
      ],
      "source": [
        "param_distribs = {'max_depth': randint(low=1, high=20),\n",
        "                  'min_samples_leaf': randint(low=1, high=50)}\n",
        "from sklearn.model_selection import RandomizedSearchCV\n",
        "random_search=RandomizedSearchCV(DecisionTreeRegressor(),\n",
        "                                 param_distributions=param_distribs, n_iter=20, cv=5)\n",
        "random_search.fit(X_scaled_train, y_train)"
      ]
    },
    {
      "cell_type": "code",
      "execution_count": null,
      "id": "197eac04",
      "metadata": {
        "id": "197eac04",
        "outputId": "9a23b455-ceec-4e4a-c77f-a00313b15591"
      },
      "outputs": [
        {
          "name": "stdout",
          "output_type": "stream",
          "text": [
            "Best Parameter: {'max_depth': 13, 'min_samples_leaf': 47}\n",
            "Best Score: 0.5576\n",
            "TestSet Score: 0.5763\n"
          ]
        }
      ],
      "source": [
        "print(\"Best Parameter: {}\".format(random_search.best_params_))\n",
        "print(\"Best Score: {:.4f}\".format(random_search.best_score_))\n",
        "print(\"TestSet Score: {:.4f}\".format(random_search.score(X_scaled_test, y_test)))"
      ]
    },
    {
      "cell_type": "code",
      "execution_count": null,
      "id": "f798d466",
      "metadata": {
        "id": "f798d466"
      },
      "outputs": [],
      "source": []
    }
  ],
  "metadata": {
    "kernelspec": {
      "display_name": "Python 3",
      "language": "python",
      "name": "python3"
    },
    "language_info": {
      "codemirror_mode": {
        "name": "ipython",
        "version": 3
      },
      "file_extension": ".py",
      "mimetype": "text/x-python",
      "name": "python",
      "nbconvert_exporter": "python",
      "pygments_lexer": "ipython3",
      "version": "3.8.8"
    },
    "colab": {
      "provenance": [],
      "include_colab_link": true
    }
  },
  "nbformat": 4,
  "nbformat_minor": 5
}