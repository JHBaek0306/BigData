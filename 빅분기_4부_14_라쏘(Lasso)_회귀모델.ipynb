{
  "cells": [
    {
      "cell_type": "markdown",
      "metadata": {
        "id": "view-in-github",
        "colab_type": "text"
      },
      "source": [
        "<a href=\"https://colab.research.google.com/github/JHBaek0306/BigData/blob/main/%EB%B9%85%EB%B6%84%EA%B8%B0_4%EB%B6%80_14_%EB%9D%BC%EC%8F%98(Lasso)_%ED%9A%8C%EA%B7%80%EB%AA%A8%EB%8D%B8.ipynb\" target=\"_parent\"><img src=\"https://colab.research.google.com/assets/colab-badge.svg\" alt=\"Open In Colab\"/></a>"
      ]
    },
    {
      "cell_type": "markdown",
      "id": "218e0792",
      "metadata": {
        "id": "218e0792"
      },
      "source": [
        "# 1. 분석 데이터 준비"
      ]
    },
    {
      "cell_type": "code",
      "execution_count": null,
      "id": "272ef8c1",
      "metadata": {
        "id": "272ef8c1"
      },
      "outputs": [],
      "source": [
        "import warnings\n",
        "warnings.filterwarnings(\"ignore\")\n",
        "import pandas as pd\n",
        "data2=pd.read_csv('house_price.csv', encoding='utf-8')\n",
        "X=data2[data2.columns[1:5]]\n",
        "y=data2[[\"house_value\"]]"
      ]
    },
    {
      "cell_type": "code",
      "execution_count": null,
      "id": "5ed00449",
      "metadata": {
        "id": "5ed00449"
      },
      "outputs": [],
      "source": [
        "from sklearn.model_selection import train_test_split\n",
        "X_train, X_test, y_train, y_test=train_test_split(X, y, random_state=42)"
      ]
    },
    {
      "cell_type": "code",
      "execution_count": null,
      "id": "24bbaf72",
      "metadata": {
        "id": "24bbaf72"
      },
      "outputs": [],
      "source": [
        "from sklearn.preprocessing import MinMaxScaler\n",
        "scaler=MinMaxScaler()\n",
        "scaler.fit(X_train)\n",
        "X_scaled_train=scaler.transform(X_train)\n",
        "X_scaled_test=scaler.transform(X_test)"
      ]
    },
    {
      "cell_type": "markdown",
      "id": "41850165",
      "metadata": {
        "id": "41850165"
      },
      "source": [
        "# 2. 기본모델 적용"
      ]
    },
    {
      "cell_type": "code",
      "execution_count": null,
      "id": "0c34ac9e",
      "metadata": {
        "id": "0c34ac9e",
        "outputId": "265171a7-591e-4371-b445-4115815ab14b"
      },
      "outputs": [
        {
          "data": {
            "text/plain": [
              "0.5455724679313863"
            ]
          },
          "execution_count": 4,
          "metadata": {},
          "output_type": "execute_result"
        }
      ],
      "source": [
        "from sklearn.linear_model import Lasso\n",
        "model=Lasso()\n",
        "model.fit(X_scaled_train, y_train)\n",
        "pred_train=model.predict(X_scaled_train)\n",
        "model.score(X_scaled_train, y_train)"
      ]
    },
    {
      "cell_type": "code",
      "execution_count": null,
      "id": "1c3ce841",
      "metadata": {
        "id": "1c3ce841",
        "outputId": "61ff49a3-60b0-4b0a-b418-29c74fab27d6"
      },
      "outputs": [
        {
          "data": {
            "text/plain": [
              "0.5626850497564577"
            ]
          },
          "execution_count": 5,
          "metadata": {},
          "output_type": "execute_result"
        }
      ],
      "source": [
        "pred_test=model.predict(X_scaled_test)\n",
        "model.score(X_scaled_test, y_test)"
      ]
    },
    {
      "cell_type": "code",
      "execution_count": null,
      "id": "48d5ab1e",
      "metadata": {
        "id": "48d5ab1e",
        "outputId": "753b2496-c989-488d-e9ac-9e2f6ac0a15f"
      },
      "outputs": [
        {
          "name": "stdout",
          "output_type": "stream",
          "text": [
            "훈련   데이터 RMSE: 64340.34152172676\n",
            "테스트 데이터 RMSE: 63220.748913873045\n"
          ]
        }
      ],
      "source": [
        "# RMSE (Root Mean Squared Error)\n",
        "import numpy as np\n",
        "from sklearn.metrics import mean_squared_error\n",
        "MSE_train = mean_squared_error(y_train, pred_train)\n",
        "MSE_test = mean_squared_error(y_test, pred_test)\n",
        "print(\"훈련   데이터 RMSE:\", np.sqrt(MSE_train))\n",
        "print(\"테스트 데이터 RMSE:\", np.sqrt(MSE_test))"
      ]
    },
    {
      "cell_type": "markdown",
      "id": "90ec9b57",
      "metadata": {
        "id": "90ec9b57"
      },
      "source": [
        "# 3. Grid Search"
      ]
    },
    {
      "cell_type": "code",
      "execution_count": null,
      "id": "6c464688",
      "metadata": {
        "id": "6c464688",
        "outputId": "43ffd1ef-0490-4abe-d139-47ad798f18fd"
      },
      "outputs": [
        {
          "data": {
            "text/plain": [
              "GridSearchCV(cv=5, estimator=Lasso(),\n",
              "             param_grid={'alpha': [0.0, 1e-06, 1e-05, 0.0001, 0.001, 0.01, 0.1,\n",
              "                                   0.5, 1.0, 2.0, 3.0]})"
            ]
          },
          "execution_count": 7,
          "metadata": {},
          "output_type": "execute_result"
        }
      ],
      "source": [
        "param_grid={'alpha': [0.0, 1e-6, 1e-5, 1e-4, 1e-3, 1e-2, 0.1, 0.5, 1.0, 2.0, 3.0]}\n",
        "from sklearn.model_selection import GridSearchCV\n",
        "grid_search=GridSearchCV(Lasso(), param_grid, cv=5)\n",
        "grid_search.fit(X_scaled_train, y_train)"
      ]
    },
    {
      "cell_type": "code",
      "execution_count": null,
      "id": "f9449a32",
      "metadata": {
        "id": "f9449a32",
        "outputId": "d0d308ea-e4fd-41c3-c9c4-fd458a6fba6e"
      },
      "outputs": [
        {
          "name": "stdout",
          "output_type": "stream",
          "text": [
            "Best Parameter: {'alpha': 0.5}\n",
            "Best Score: 0.5452\n",
            "TestSet Score: 0.5627\n"
          ]
        }
      ],
      "source": [
        "print(\"Best Parameter: {}\".format(grid_search.best_params_))\n",
        "print(\"Best Score: {:.4f}\".format(grid_search.best_score_))\n",
        "print(\"TestSet Score: {:.4f}\".format(grid_search.score(X_scaled_test, y_test)))"
      ]
    },
    {
      "cell_type": "markdown",
      "id": "e069d922",
      "metadata": {
        "id": "e069d922"
      },
      "source": [
        "# 4. Random Search"
      ]
    },
    {
      "cell_type": "code",
      "execution_count": null,
      "id": "3cc03d11",
      "metadata": {
        "id": "3cc03d11",
        "outputId": "cf45d501-7806-4cdc-fa24-20926f467925"
      },
      "outputs": [
        {
          "data": {
            "text/plain": [
              "RandomizedSearchCV(cv=5, estimator=Lasso(), n_iter=100,\n",
              "                   param_distributions={'alpha': <scipy.stats._distn_infrastructure.rv_frozen object at 0x000001DECE3673A0>})"
            ]
          },
          "execution_count": 9,
          "metadata": {},
          "output_type": "execute_result"
        }
      ],
      "source": [
        "from scipy.stats import randint\n",
        "param_distribs = {'alpha': randint(low=0.00001, high=10)}\n",
        "from sklearn.model_selection import RandomizedSearchCV\n",
        "random_search=RandomizedSearchCV(Lasso(),\n",
        "                                 param_distributions=param_distribs, n_iter=100, cv=5)\n",
        "random_search.fit(X_scaled_train, y_train)"
      ]
    },
    {
      "cell_type": "code",
      "execution_count": null,
      "id": "197eac04",
      "metadata": {
        "id": "197eac04",
        "outputId": "05b03dd7-7d95-498e-ed90-cd74c27a0d3f"
      },
      "outputs": [
        {
          "name": "stdout",
          "output_type": "stream",
          "text": [
            "Best Parameter: {'alpha': 1}\n",
            "Best Score: 0.5452\n",
            "TestSet Score: 0.5627\n"
          ]
        }
      ],
      "source": [
        "print(\"Best Parameter: {}\".format(random_search.best_params_))\n",
        "print(\"Best Score: {:.4f}\".format(random_search.best_score_))\n",
        "print(\"TestSet Score: {:.4f}\".format(random_search.score(X_scaled_test, y_test)))"
      ]
    },
    {
      "cell_type": "code",
      "execution_count": null,
      "id": "f798d466",
      "metadata": {
        "id": "f798d466"
      },
      "outputs": [],
      "source": []
    }
  ],
  "metadata": {
    "kernelspec": {
      "display_name": "Python 3",
      "language": "python",
      "name": "python3"
    },
    "language_info": {
      "codemirror_mode": {
        "name": "ipython",
        "version": 3
      },
      "file_extension": ".py",
      "mimetype": "text/x-python",
      "name": "python",
      "nbconvert_exporter": "python",
      "pygments_lexer": "ipython3",
      "version": "3.8.8"
    },
    "colab": {
      "provenance": [],
      "include_colab_link": true
    }
  },
  "nbformat": 4,
  "nbformat_minor": 5
}