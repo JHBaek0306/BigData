{
  "cells": [
    {
      "cell_type": "markdown",
      "metadata": {
        "id": "view-in-github",
        "colab_type": "text"
      },
      "source": [
        "<a href=\"https://colab.research.google.com/github/JHBaek0306/BigData/blob/main/%EB%B9%85%EB%B6%84%EA%B8%B0_4%EB%B6%80_10_%EC%95%99%EC%83%81%EB%B8%94_%EB%B6%80%EC%8A%A4%ED%8C%85(Boosting).ipynb\" target=\"_parent\"><img src=\"https://colab.research.google.com/assets/colab-badge.svg\" alt=\"Open In Colab\"/></a>"
      ]
    },
    {
      "cell_type": "markdown",
      "metadata": {
        "id": "oT82BAt0BVUG"
      },
      "source": [
        "# Part1. 분류(Classification)"
      ]
    },
    {
      "cell_type": "markdown",
      "metadata": {
        "id": "etmy7TgRBVUJ"
      },
      "source": [
        "# 1. 분석 데이터 준비"
      ]
    },
    {
      "cell_type": "code",
      "execution_count": null,
      "metadata": {
        "id": "DBJgV3-gBVUK"
      },
      "outputs": [],
      "source": [
        "import warnings\n",
        "warnings.filterwarnings(\"ignore\")\n",
        "import pandas as pd\n",
        "data1=pd.read_csv('breast-cancer-wisconsin.csv', encoding='utf-8')\n",
        "X=data1[data1.columns[1:10]]\n",
        "y=data1[[\"Class\"]]"
      ]
    },
    {
      "cell_type": "code",
      "execution_count": null,
      "metadata": {
        "id": "UVRr1fAiBVUL"
      },
      "outputs": [],
      "source": [
        "from sklearn.model_selection import train_test_split\n",
        "X_train, X_test, y_train, y_test=train_test_split(X, y, stratify=y, random_state=42)"
      ]
    },
    {
      "cell_type": "code",
      "execution_count": null,
      "metadata": {
        "id": "7M2tE-cDBVUL"
      },
      "outputs": [],
      "source": [
        "from sklearn.preprocessing import MinMaxScaler\n",
        "scaler=MinMaxScaler()\n",
        "scaler.fit(X_train)\n",
        "X_scaled_train=scaler.transform(X_train)\n",
        "X_scaled_test=scaler.transform(X_test)"
      ]
    },
    {
      "cell_type": "markdown",
      "metadata": {
        "id": "qAmd2l-8BVUM"
      },
      "source": [
        "# 2. 모델 적용"
      ]
    },
    {
      "cell_type": "markdown",
      "metadata": {
        "id": "S89Ld3TZBVUM"
      },
      "source": [
        "## 2-1. AdaBoosting"
      ]
    },
    {
      "cell_type": "code",
      "execution_count": null,
      "metadata": {
        "id": "zIoXUeAdBVUM",
        "outputId": "5d8f89d8-0002-4c5f-97ae-dd4fdb0c172d"
      },
      "outputs": [
        {
          "data": {
            "text/plain": [
              "1.0"
            ]
          },
          "execution_count": 4,
          "metadata": {},
          "output_type": "execute_result"
        }
      ],
      "source": [
        "from sklearn.ensemble import AdaBoostClassifier\n",
        "\n",
        "model = AdaBoostClassifier(n_estimators=100, random_state=0)\n",
        "model.fit(X_scaled_train, y_train)\n",
        "pred_train=model.predict(X_scaled_train)\n",
        "model.score(X_scaled_train, y_train)"
      ]
    },
    {
      "cell_type": "code",
      "execution_count": null,
      "metadata": {
        "id": "tU7U37g0BVUN",
        "outputId": "0e2f11fe-3c97-47cf-96d0-e727caba5568"
      },
      "outputs": [
        {
          "name": "stdout",
          "output_type": "stream",
          "text": [
            "훈련데이터 오차행렬:\n",
            " [[333   0]\n",
            " [  0 179]]\n"
          ]
        }
      ],
      "source": [
        "from sklearn.metrics import confusion_matrix\n",
        "confusion_train=confusion_matrix(y_train, pred_train)\n",
        "print(\"훈련데이터 오차행렬:\\n\", confusion_train)"
      ]
    },
    {
      "cell_type": "code",
      "execution_count": null,
      "metadata": {
        "id": "LUREz3dNBVUN",
        "outputId": "31f953b4-1f5a-4190-d722-2dee49a04580"
      },
      "outputs": [
        {
          "name": "stdout",
          "output_type": "stream",
          "text": [
            "분류예측 레포트:\n",
            "               precision    recall  f1-score   support\n",
            "\n",
            "           0       1.00      1.00      1.00       333\n",
            "           1       1.00      1.00      1.00       179\n",
            "\n",
            "    accuracy                           1.00       512\n",
            "   macro avg       1.00      1.00      1.00       512\n",
            "weighted avg       1.00      1.00      1.00       512\n",
            "\n"
          ]
        }
      ],
      "source": [
        "from sklearn.metrics import classification_report\n",
        "cfreport_train=classification_report(y_train, pred_train)\n",
        "print(\"분류예측 레포트:\\n\", cfreport_train)"
      ]
    },
    {
      "cell_type": "code",
      "execution_count": null,
      "metadata": {
        "id": "23PcvIbOBVUO",
        "outputId": "93293af2-5e34-498e-f18c-30217290442f"
      },
      "outputs": [
        {
          "data": {
            "text/plain": [
              "0.9532163742690059"
            ]
          },
          "execution_count": 7,
          "metadata": {},
          "output_type": "execute_result"
        }
      ],
      "source": [
        "pred_test=model.predict(X_scaled_test)\n",
        "model.score(X_scaled_test, y_test)"
      ]
    },
    {
      "cell_type": "code",
      "execution_count": null,
      "metadata": {
        "id": "4XKn3n-IBVUO",
        "outputId": "a1e281bf-3260-44b9-ac24-5fa1f6a09d6d"
      },
      "outputs": [
        {
          "name": "stdout",
          "output_type": "stream",
          "text": [
            "테스트데이터 오차행렬:\n",
            " [[106   5]\n",
            " [  3  57]]\n"
          ]
        }
      ],
      "source": [
        "confusion_test=confusion_matrix(y_test, pred_test)\n",
        "print(\"테스트데이터 오차행렬:\\n\", confusion_test)"
      ]
    },
    {
      "cell_type": "code",
      "execution_count": null,
      "metadata": {
        "id": "Ew4ohk8IBVUO",
        "outputId": "1a99f93d-a821-4204-eb88-112789960696"
      },
      "outputs": [
        {
          "name": "stdout",
          "output_type": "stream",
          "text": [
            "분류예측 레포트:\n",
            "               precision    recall  f1-score   support\n",
            "\n",
            "           0       0.97      0.95      0.96       111\n",
            "           1       0.92      0.95      0.93        60\n",
            "\n",
            "    accuracy                           0.95       171\n",
            "   macro avg       0.95      0.95      0.95       171\n",
            "weighted avg       0.95      0.95      0.95       171\n",
            "\n"
          ]
        }
      ],
      "source": [
        "from sklearn.metrics import classification_report\n",
        "cfreport_test=classification_report(y_test, pred_test)\n",
        "print(\"분류예측 레포트:\\n\", cfreport_test)"
      ]
    },
    {
      "cell_type": "markdown",
      "metadata": {
        "id": "GQfGX21wBVUO"
      },
      "source": [
        "## 2-2. Gradient Boosting"
      ]
    },
    {
      "cell_type": "code",
      "execution_count": null,
      "metadata": {
        "id": "S1z0qfLYBVUO",
        "outputId": "39ac2587-1002-44a6-dec6-2242b8d82ade"
      },
      "outputs": [
        {
          "data": {
            "text/plain": [
              "1.0"
            ]
          },
          "execution_count": 10,
          "metadata": {},
          "output_type": "execute_result"
        }
      ],
      "source": [
        "from sklearn.ensemble import GradientBoostingClassifier\n",
        "\n",
        "model = GradientBoostingClassifier(n_estimators=100, learning_rate=1.0, max_depth=1, random_state=0)\n",
        "model.fit(X_scaled_train, y_train)\n",
        "pred_train=model.predict(X_scaled_train)\n",
        "model.score(X_scaled_train, y_train)"
      ]
    },
    {
      "cell_type": "code",
      "execution_count": null,
      "metadata": {
        "id": "Pr2APZyqBVUP",
        "outputId": "0004a4f8-6531-41a2-c5fb-4c2ae2d629c2"
      },
      "outputs": [
        {
          "name": "stdout",
          "output_type": "stream",
          "text": [
            "훈련데이터 오차행렬:\n",
            " [[333   0]\n",
            " [  0 179]]\n"
          ]
        }
      ],
      "source": [
        "from sklearn.metrics import confusion_matrix\n",
        "confusion_train=confusion_matrix(y_train, pred_train)\n",
        "print(\"훈련데이터 오차행렬:\\n\", confusion_train)"
      ]
    },
    {
      "cell_type": "code",
      "execution_count": null,
      "metadata": {
        "id": "9_gF7gnyBVUP",
        "outputId": "78dee6e3-a895-48fe-cf5a-23fe95ad79e3"
      },
      "outputs": [
        {
          "data": {
            "text/plain": [
              "0.9649122807017544"
            ]
          },
          "execution_count": 12,
          "metadata": {},
          "output_type": "execute_result"
        }
      ],
      "source": [
        "pred_test=model.predict(X_scaled_test)\n",
        "model.score(X_scaled_test, y_test)"
      ]
    },
    {
      "cell_type": "code",
      "execution_count": null,
      "metadata": {
        "id": "mve-6BGkBVUP",
        "outputId": "ee346341-1683-4db2-a819-2d80ca872db1"
      },
      "outputs": [
        {
          "name": "stdout",
          "output_type": "stream",
          "text": [
            "테스트데이터 오차행렬:\n",
            " [[106   5]\n",
            " [  1  59]]\n"
          ]
        }
      ],
      "source": [
        "confusion_test=confusion_matrix(y_test, pred_test)\n",
        "print(\"테스트데이터 오차행렬:\\n\", confusion_test)"
      ]
    },
    {
      "cell_type": "markdown",
      "metadata": {
        "id": "86hMMQwtBVUP"
      },
      "source": [
        "# Part2. 회귀(Regression)"
      ]
    },
    {
      "cell_type": "markdown",
      "metadata": {
        "id": "xZDMqpicBVUP"
      },
      "source": [
        "# 1. 분석 데이터 준비"
      ]
    },
    {
      "cell_type": "code",
      "execution_count": null,
      "metadata": {
        "id": "qnAs9oRaBVUP"
      },
      "outputs": [],
      "source": [
        "data2=pd.read_csv('house_price.csv', encoding='utf-8')\n",
        "X=data2[data2.columns[1:5]]\n",
        "y=data2[[\"house_value\"]]"
      ]
    },
    {
      "cell_type": "code",
      "execution_count": null,
      "metadata": {
        "id": "jFB2uT23BVUP"
      },
      "outputs": [],
      "source": [
        "from sklearn.model_selection import train_test_split\n",
        "X_train, X_test, y_train, y_test=train_test_split(X, y, random_state=42)"
      ]
    },
    {
      "cell_type": "code",
      "execution_count": null,
      "metadata": {
        "id": "vxN0F2nmBVUP"
      },
      "outputs": [],
      "source": [
        "from sklearn.preprocessing import MinMaxScaler\n",
        "scaler=MinMaxScaler()\n",
        "scaler.fit(X_train)\n",
        "X_scaled_train=scaler.transform(X_train)\n",
        "X_scaled_test=scaler.transform(X_test)"
      ]
    },
    {
      "cell_type": "markdown",
      "metadata": {
        "id": "5Y0YQtB3BVUP"
      },
      "source": [
        "# 2. 모델적용"
      ]
    },
    {
      "cell_type": "markdown",
      "metadata": {
        "id": "BLemLP_QBVUQ"
      },
      "source": [
        "## 2-1. AdaBoosting"
      ]
    },
    {
      "cell_type": "code",
      "execution_count": null,
      "metadata": {
        "id": "zLc2nCCqBVUQ",
        "outputId": "85dc434f-0448-4978-c6e3-d2eef8a00af3"
      },
      "outputs": [
        {
          "data": {
            "text/plain": [
              "0.4353130085971758"
            ]
          },
          "execution_count": 17,
          "metadata": {},
          "output_type": "execute_result"
        }
      ],
      "source": [
        "from sklearn.ensemble import AdaBoostRegressor\n",
        "model = AdaBoostRegressor(random_state=0, n_estimators=100)\n",
        "model.fit(X_scaled_train, y_train)\n",
        "pred_train=model.predict(X_scaled_train)\n",
        "model.score(X_scaled_train, y_train)"
      ]
    },
    {
      "cell_type": "code",
      "execution_count": null,
      "metadata": {
        "id": "izKEohF2BVUQ",
        "outputId": "118140a3-a37c-433e-e074-422489d5adb1"
      },
      "outputs": [
        {
          "data": {
            "text/plain": [
              "0.43568387094087124"
            ]
          },
          "execution_count": 18,
          "metadata": {},
          "output_type": "execute_result"
        }
      ],
      "source": [
        "pred_test=model.predict(X_scaled_test)\n",
        "model.score(X_scaled_test, y_test)"
      ]
    },
    {
      "cell_type": "code",
      "execution_count": null,
      "metadata": {
        "id": "6DHZ7W4cBVUQ",
        "outputId": "58a06e6e-bdaa-4877-ffb3-52de2b52dd27"
      },
      "outputs": [
        {
          "name": "stdout",
          "output_type": "stream",
          "text": [
            "훈련   데이터 RMSE: 71722.42012035428\n",
            "테스트 데이터 RMSE: 71816.41231019037\n"
          ]
        }
      ],
      "source": [
        "# RMSE (Root Mean Squared Error)\n",
        "import numpy as np\n",
        "from sklearn.metrics import mean_squared_error\n",
        "MSE_train = mean_squared_error(y_train, pred_train)\n",
        "MSE_test = mean_squared_error(y_test, pred_test)\n",
        "print(\"훈련   데이터 RMSE:\", np.sqrt(MSE_train))\n",
        "print(\"테스트 데이터 RMSE:\", np.sqrt(MSE_test))"
      ]
    },
    {
      "cell_type": "markdown",
      "metadata": {
        "id": "x09uwgqmBVUQ"
      },
      "source": [
        "## 2-2. Gradient Boosting"
      ]
    },
    {
      "cell_type": "code",
      "execution_count": null,
      "metadata": {
        "id": "m2dc6MJ2BVUQ",
        "outputId": "e7af0eb4-188d-477a-bf15-85790a9b41f2"
      },
      "outputs": [
        {
          "data": {
            "text/plain": [
              "0.6178724780500952"
            ]
          },
          "execution_count": 20,
          "metadata": {},
          "output_type": "execute_result"
        }
      ],
      "source": [
        "from sklearn.ensemble import GradientBoostingRegressor\n",
        "model = GradientBoostingRegressor(random_state=0)\n",
        "model.fit(X_scaled_train, y_train)\n",
        "pred_train=model.predict(X_scaled_train)\n",
        "model.score(X_scaled_train, y_train)"
      ]
    },
    {
      "cell_type": "code",
      "execution_count": null,
      "metadata": {
        "id": "jgFZkmMdBVUQ",
        "outputId": "3b3905b7-5d9b-4755-b0fe-f8bb7cb36dbc"
      },
      "outputs": [
        {
          "data": {
            "text/plain": [
              "0.5974112241813845"
            ]
          },
          "execution_count": 21,
          "metadata": {},
          "output_type": "execute_result"
        }
      ],
      "source": [
        "pred_test=model.predict(X_scaled_test)\n",
        "model.score(X_scaled_test, y_test)"
      ]
    },
    {
      "cell_type": "code",
      "execution_count": null,
      "metadata": {
        "id": "SMQqjb2ABVUQ",
        "outputId": "83d8721b-eb18-4d08-fb54-694265c6644d"
      },
      "outputs": [
        {
          "name": "stdout",
          "output_type": "stream",
          "text": [
            "훈련   데이터 RMSE: 59000.433545962376\n",
            "테스트 데이터 RMSE: 60658.72886338227\n"
          ]
        }
      ],
      "source": [
        "# RMSE (Root Mean Squared Error)\n",
        "import numpy as np\n",
        "from sklearn.metrics import mean_squared_error\n",
        "MSE_train = mean_squared_error(y_train, pred_train)\n",
        "MSE_test = mean_squared_error(y_test, pred_test)\n",
        "print(\"훈련   데이터 RMSE:\", np.sqrt(MSE_train))\n",
        "print(\"테스트 데이터 RMSE:\", np.sqrt(MSE_test))"
      ]
    },
    {
      "cell_type": "code",
      "execution_count": null,
      "metadata": {
        "id": "OtVbFw-WBVUQ"
      },
      "outputs": [],
      "source": []
    }
  ],
  "metadata": {
    "kernelspec": {
      "display_name": "Python 3",
      "language": "python",
      "name": "python3"
    },
    "language_info": {
      "codemirror_mode": {
        "name": "ipython",
        "version": 3
      },
      "file_extension": ".py",
      "mimetype": "text/x-python",
      "name": "python",
      "nbconvert_exporter": "python",
      "pygments_lexer": "ipython3",
      "version": "3.8.8"
    },
    "colab": {
      "provenance": [],
      "include_colab_link": true
    }
  },
  "nbformat": 4,
  "nbformat_minor": 0
}